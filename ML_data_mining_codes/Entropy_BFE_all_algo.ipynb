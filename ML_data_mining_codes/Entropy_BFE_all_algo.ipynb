{
  "nbformat": 4,
  "nbformat_minor": 0,
  "metadata": {
    "colab": {
      "name": "Entropy_BFE_all_algo.ipynb",
      "provenance": []
    },
    "kernelspec": {
      "name": "python3",
      "display_name": "Python 3"
    },
    "language_info": {
      "name": "python"
    }
  },
  "cells": [
    {
      "cell_type": "code",
      "execution_count": 6,
      "metadata": {
        "id": "LdHq3vvFCUJY"
      },
      "outputs": [],
      "source": [
        "import os\n",
        "import pandas as pd\n",
        "import numpy as np\n",
        "import matplotlib.pyplot as plt\n",
        "from sklearn.model_selection import train_test_split\n",
        "from sklearn.feature_selection import SelectKBest\n",
        "from sklearn.feature_selection import f_regression\n",
        "from sklearn.feature_selection import chi2\n",
        "from sklearn.datasets import make_regression\n",
        "from sklearn.ensemble import ExtraTreesClassifier\n",
        "from scipy.stats import spearmanr\n",
        "from scipy import stats\n",
        "from IPython.display import display"
      ]
    },
    {
      "cell_type": "code",
      "source": [
        "boston = pd.read_csv('p2_mod.csv')\n",
        "X = boston.drop(columns='Y', axis=1)\n",
        "y = boston['Y']\n",
        "boston.head()"
      ],
      "metadata": {
        "colab": {
          "base_uri": "https://localhost:8080/",
          "height": 235
        },
        "id": "2xjpo8T8CyfC",
        "outputId": "82023d6e-4d1a-48c8-b1b8-6afb8b46a95a"
      },
      "execution_count": 7,
      "outputs": [
        {
          "output_type": "execute_result",
          "data": {
            "text/plain": [
              "       X1  X2  X3  X4  X5  X6  X7  X8  X9  X10  ...    X15    X16    X17  \\\n",
              "0   20000   2   2   1  24   2   2  -1  -1   -2  ...      0      0      0   \n",
              "1  120000   2   2   2  26  -1   2   0   0    0  ...   3272   3455   3261   \n",
              "2   90000   2   2   2  34   0   0   0   0    0  ...  14331  14948  15549   \n",
              "3   50000   2   2   1  37   0   0   0   0    0  ...  28314  28959  29547   \n",
              "4   50000   1   2   1  57  -1   0  -1   0    0  ...  20940  19146  19131   \n",
              "\n",
              "    X18    X19    X20   X21   X22   X23  Y  \n",
              "0     0    689      0     0     0     0  1  \n",
              "1     0   1000   1000  1000     0  2000  1  \n",
              "2  1518   1500   1000  1000  1000  5000  0  \n",
              "3  2000   2019   1200  1100  1069  1000  0  \n",
              "4  2000  36681  10000  9000   689   679  0  \n",
              "\n",
              "[5 rows x 24 columns]"
            ],
            "text/html": [
              "\n",
              "  <div id=\"df-f4d44f1b-b308-45a4-b846-affee19878f2\">\n",
              "    <div class=\"colab-df-container\">\n",
              "      <div>\n",
              "<style scoped>\n",
              "    .dataframe tbody tr th:only-of-type {\n",
              "        vertical-align: middle;\n",
              "    }\n",
              "\n",
              "    .dataframe tbody tr th {\n",
              "        vertical-align: top;\n",
              "    }\n",
              "\n",
              "    .dataframe thead th {\n",
              "        text-align: right;\n",
              "    }\n",
              "</style>\n",
              "<table border=\"1\" class=\"dataframe\">\n",
              "  <thead>\n",
              "    <tr style=\"text-align: right;\">\n",
              "      <th></th>\n",
              "      <th>X1</th>\n",
              "      <th>X2</th>\n",
              "      <th>X3</th>\n",
              "      <th>X4</th>\n",
              "      <th>X5</th>\n",
              "      <th>X6</th>\n",
              "      <th>X7</th>\n",
              "      <th>X8</th>\n",
              "      <th>X9</th>\n",
              "      <th>X10</th>\n",
              "      <th>...</th>\n",
              "      <th>X15</th>\n",
              "      <th>X16</th>\n",
              "      <th>X17</th>\n",
              "      <th>X18</th>\n",
              "      <th>X19</th>\n",
              "      <th>X20</th>\n",
              "      <th>X21</th>\n",
              "      <th>X22</th>\n",
              "      <th>X23</th>\n",
              "      <th>Y</th>\n",
              "    </tr>\n",
              "  </thead>\n",
              "  <tbody>\n",
              "    <tr>\n",
              "      <th>0</th>\n",
              "      <td>20000</td>\n",
              "      <td>2</td>\n",
              "      <td>2</td>\n",
              "      <td>1</td>\n",
              "      <td>24</td>\n",
              "      <td>2</td>\n",
              "      <td>2</td>\n",
              "      <td>-1</td>\n",
              "      <td>-1</td>\n",
              "      <td>-2</td>\n",
              "      <td>...</td>\n",
              "      <td>0</td>\n",
              "      <td>0</td>\n",
              "      <td>0</td>\n",
              "      <td>0</td>\n",
              "      <td>689</td>\n",
              "      <td>0</td>\n",
              "      <td>0</td>\n",
              "      <td>0</td>\n",
              "      <td>0</td>\n",
              "      <td>1</td>\n",
              "    </tr>\n",
              "    <tr>\n",
              "      <th>1</th>\n",
              "      <td>120000</td>\n",
              "      <td>2</td>\n",
              "      <td>2</td>\n",
              "      <td>2</td>\n",
              "      <td>26</td>\n",
              "      <td>-1</td>\n",
              "      <td>2</td>\n",
              "      <td>0</td>\n",
              "      <td>0</td>\n",
              "      <td>0</td>\n",
              "      <td>...</td>\n",
              "      <td>3272</td>\n",
              "      <td>3455</td>\n",
              "      <td>3261</td>\n",
              "      <td>0</td>\n",
              "      <td>1000</td>\n",
              "      <td>1000</td>\n",
              "      <td>1000</td>\n",
              "      <td>0</td>\n",
              "      <td>2000</td>\n",
              "      <td>1</td>\n",
              "    </tr>\n",
              "    <tr>\n",
              "      <th>2</th>\n",
              "      <td>90000</td>\n",
              "      <td>2</td>\n",
              "      <td>2</td>\n",
              "      <td>2</td>\n",
              "      <td>34</td>\n",
              "      <td>0</td>\n",
              "      <td>0</td>\n",
              "      <td>0</td>\n",
              "      <td>0</td>\n",
              "      <td>0</td>\n",
              "      <td>...</td>\n",
              "      <td>14331</td>\n",
              "      <td>14948</td>\n",
              "      <td>15549</td>\n",
              "      <td>1518</td>\n",
              "      <td>1500</td>\n",
              "      <td>1000</td>\n",
              "      <td>1000</td>\n",
              "      <td>1000</td>\n",
              "      <td>5000</td>\n",
              "      <td>0</td>\n",
              "    </tr>\n",
              "    <tr>\n",
              "      <th>3</th>\n",
              "      <td>50000</td>\n",
              "      <td>2</td>\n",
              "      <td>2</td>\n",
              "      <td>1</td>\n",
              "      <td>37</td>\n",
              "      <td>0</td>\n",
              "      <td>0</td>\n",
              "      <td>0</td>\n",
              "      <td>0</td>\n",
              "      <td>0</td>\n",
              "      <td>...</td>\n",
              "      <td>28314</td>\n",
              "      <td>28959</td>\n",
              "      <td>29547</td>\n",
              "      <td>2000</td>\n",
              "      <td>2019</td>\n",
              "      <td>1200</td>\n",
              "      <td>1100</td>\n",
              "      <td>1069</td>\n",
              "      <td>1000</td>\n",
              "      <td>0</td>\n",
              "    </tr>\n",
              "    <tr>\n",
              "      <th>4</th>\n",
              "      <td>50000</td>\n",
              "      <td>1</td>\n",
              "      <td>2</td>\n",
              "      <td>1</td>\n",
              "      <td>57</td>\n",
              "      <td>-1</td>\n",
              "      <td>0</td>\n",
              "      <td>-1</td>\n",
              "      <td>0</td>\n",
              "      <td>0</td>\n",
              "      <td>...</td>\n",
              "      <td>20940</td>\n",
              "      <td>19146</td>\n",
              "      <td>19131</td>\n",
              "      <td>2000</td>\n",
              "      <td>36681</td>\n",
              "      <td>10000</td>\n",
              "      <td>9000</td>\n",
              "      <td>689</td>\n",
              "      <td>679</td>\n",
              "      <td>0</td>\n",
              "    </tr>\n",
              "  </tbody>\n",
              "</table>\n",
              "<p>5 rows × 24 columns</p>\n",
              "</div>\n",
              "      <button class=\"colab-df-convert\" onclick=\"convertToInteractive('df-f4d44f1b-b308-45a4-b846-affee19878f2')\"\n",
              "              title=\"Convert this dataframe to an interactive table.\"\n",
              "              style=\"display:none;\">\n",
              "        \n",
              "  <svg xmlns=\"http://www.w3.org/2000/svg\" height=\"24px\"viewBox=\"0 0 24 24\"\n",
              "       width=\"24px\">\n",
              "    <path d=\"M0 0h24v24H0V0z\" fill=\"none\"/>\n",
              "    <path d=\"M18.56 5.44l.94 2.06.94-2.06 2.06-.94-2.06-.94-.94-2.06-.94 2.06-2.06.94zm-11 1L8.5 8.5l.94-2.06 2.06-.94-2.06-.94L8.5 2.5l-.94 2.06-2.06.94zm10 10l.94 2.06.94-2.06 2.06-.94-2.06-.94-.94-2.06-.94 2.06-2.06.94z\"/><path d=\"M17.41 7.96l-1.37-1.37c-.4-.4-.92-.59-1.43-.59-.52 0-1.04.2-1.43.59L10.3 9.45l-7.72 7.72c-.78.78-.78 2.05 0 2.83L4 21.41c.39.39.9.59 1.41.59.51 0 1.02-.2 1.41-.59l7.78-7.78 2.81-2.81c.8-.78.8-2.07 0-2.86zM5.41 20L4 18.59l7.72-7.72 1.47 1.35L5.41 20z\"/>\n",
              "  </svg>\n",
              "      </button>\n",
              "      \n",
              "  <style>\n",
              "    .colab-df-container {\n",
              "      display:flex;\n",
              "      flex-wrap:wrap;\n",
              "      gap: 12px;\n",
              "    }\n",
              "\n",
              "    .colab-df-convert {\n",
              "      background-color: #E8F0FE;\n",
              "      border: none;\n",
              "      border-radius: 50%;\n",
              "      cursor: pointer;\n",
              "      display: none;\n",
              "      fill: #1967D2;\n",
              "      height: 32px;\n",
              "      padding: 0 0 0 0;\n",
              "      width: 32px;\n",
              "    }\n",
              "\n",
              "    .colab-df-convert:hover {\n",
              "      background-color: #E2EBFA;\n",
              "      box-shadow: 0px 1px 2px rgba(60, 64, 67, 0.3), 0px 1px 3px 1px rgba(60, 64, 67, 0.15);\n",
              "      fill: #174EA6;\n",
              "    }\n",
              "\n",
              "    [theme=dark] .colab-df-convert {\n",
              "      background-color: #3B4455;\n",
              "      fill: #D2E3FC;\n",
              "    }\n",
              "\n",
              "    [theme=dark] .colab-df-convert:hover {\n",
              "      background-color: #434B5C;\n",
              "      box-shadow: 0px 1px 3px 1px rgba(0, 0, 0, 0.15);\n",
              "      filter: drop-shadow(0px 1px 2px rgba(0, 0, 0, 0.3));\n",
              "      fill: #FFFFFF;\n",
              "    }\n",
              "  </style>\n",
              "\n",
              "      <script>\n",
              "        const buttonEl =\n",
              "          document.querySelector('#df-f4d44f1b-b308-45a4-b846-affee19878f2 button.colab-df-convert');\n",
              "        buttonEl.style.display =\n",
              "          google.colab.kernel.accessAllowed ? 'block' : 'none';\n",
              "\n",
              "        async function convertToInteractive(key) {\n",
              "          const element = document.querySelector('#df-f4d44f1b-b308-45a4-b846-affee19878f2');\n",
              "          const dataTable =\n",
              "            await google.colab.kernel.invokeFunction('convertToInteractive',\n",
              "                                                     [key], {});\n",
              "          if (!dataTable) return;\n",
              "\n",
              "          const docLinkHtml = 'Like what you see? Visit the ' +\n",
              "            '<a target=\"_blank\" href=https://colab.research.google.com/notebooks/data_table.ipynb>data table notebook</a>'\n",
              "            + ' to learn more about interactive tables.';\n",
              "          element.innerHTML = '';\n",
              "          dataTable['output_type'] = 'display_data';\n",
              "          await google.colab.output.renderOutput(dataTable, element);\n",
              "          const docLink = document.createElement('div');\n",
              "          docLink.innerHTML = docLinkHtml;\n",
              "          element.appendChild(docLink);\n",
              "        }\n",
              "      </script>\n",
              "    </div>\n",
              "  </div>\n",
              "  "
            ]
          },
          "metadata": {},
          "execution_count": 7
        }
      ]
    },
    {
      "cell_type": "code",
      "source": [
        "# This is the entropy method we defined in the Entropy workshop\n",
        "def entropy(y):\n",
        "    probs = [] # Probabilities of each class label\n",
        "    for c in set(y): # Set gets a unique set of values. We're iterating over each value\n",
        "        num_same_class = sum(y == c)  # Remember that true == 1, so we can sum.\n",
        "        p = num_same_class / len(y) # Probability of this class label\n",
        "        probs.append(p)\n",
        "    return np.sum(-p * np.log2(p) for p in probs)\n",
        "\n",
        "# What is the entropy of the entire set?\n",
        "print(\"Entire set entropy = %.2f\" % entropy(y))"
      ],
      "metadata": {
        "colab": {
          "base_uri": "https://localhost:8080/"
        },
        "id": "UW_IfF8SC0Wi",
        "outputId": "9055d3be-f87e-401d-a2a4-d8c80f6286ce"
      },
      "execution_count": 8,
      "outputs": [
        {
          "output_type": "stream",
          "name": "stdout",
          "text": [
            "Entire set entropy = 0.76\n"
          ]
        },
        {
          "output_type": "stream",
          "name": "stderr",
          "text": [
            "/usr/local/lib/python3.7/dist-packages/ipykernel_launcher.py:8: DeprecationWarning: Calling np.sum(generator) is deprecated, and in the future will give a different result. Use np.sum(np.fromiter(generator)) or the python sum builtin instead.\n",
            "  \n"
          ]
        }
      ]
    },
    {
      "cell_type": "code",
      "source": [
        "# Let's write some functions that calculates the entropy after splitting on a particular value\n",
        "\n",
        "def class_probability(feature, y):\n",
        "    \"\"\"Calculates the proportional length of each value in the set of instances\"\"\"\n",
        "    # This is doc string, used for documentation\n",
        "    probs = []\n",
        "    for value in set(feature):\n",
        "        select = feature == value # Split by feature value into two classes\n",
        "        y_new = y[select]         # Those that exist in this class are now in y_new\n",
        "        probs.append(float(len(y_new))/len(X))  # Convert to float, because ints don't divide well\n",
        "    return probs\n",
        "\n",
        "def class_entropy(feature, y):\n",
        "    \"\"\"Calculates the entropy for each value in the set of instances\"\"\"\n",
        "    ents = []\n",
        "    for value in set(feature):\n",
        "        select = feature == value # Split by feature value into two classes\n",
        "        y_new = y[select]         # Those that exist in this class are now in y_new\n",
        "        ents.append(entropy(y_new))\n",
        "    return ents\n",
        "\n",
        "def proportionate_class_entropy(feature, y):\n",
        "    \"\"\"Calculatates the weighted proportional entropy for a feature when splitting on all values\"\"\"\n",
        "    probs = class_probability(feature, y)\n",
        "    ents = class_entropy(feature, y)\n",
        "    return np.sum(np.multiply(probs, ents)) # Information gain equation\n",
        "\n",
        "# Let's try calculating the entropy after splitting by all the values in \"cap-shape\"\n",
        "new_entropy = proportionate_class_entropy(X[\"X1\"], y)\n",
        "print(\"Information gain of %.2f\" % (entropy(y) - new_entropy))\n",
        "# Should be an information gain of 0.02"
      ],
      "metadata": {
        "colab": {
          "base_uri": "https://localhost:8080/"
        },
        "id": "VAmGGEDJC8dt",
        "outputId": "87326867-fd83-40f7-a952-d1265e1326fc"
      },
      "execution_count": 9,
      "outputs": [
        {
          "output_type": "stream",
          "name": "stdout",
          "text": [
            "Information gain of 0.02\n"
          ]
        },
        {
          "output_type": "stream",
          "name": "stderr",
          "text": [
            "/usr/local/lib/python3.7/dist-packages/ipykernel_launcher.py:8: DeprecationWarning: Calling np.sum(generator) is deprecated, and in the future will give a different result. Use np.sum(np.fromiter(generator)) or the python sum builtin instead.\n",
            "  \n"
          ]
        }
      ]
    },
    {
      "cell_type": "code",
      "source": [
        "# Now let's try doing the same when splitting based upon all values of \"odor\"\n",
        "new_entropy = proportionate_class_entropy(X[\"X6\"], y)\n",
        "print(\"Information gain of %.2f\" % (entropy(y) - new_entropy))\n",
        "# Should be an information gain of 0.11"
      ],
      "metadata": {
        "colab": {
          "base_uri": "https://localhost:8080/"
        },
        "id": "X6OYJ5DbDCW4",
        "outputId": "74e5b20d-e00f-442f-fc64-381cfd7a0084"
      },
      "execution_count": 10,
      "outputs": [
        {
          "output_type": "stream",
          "name": "stdout",
          "text": [
            "Information gain of 0.11\n"
          ]
        },
        {
          "output_type": "stream",
          "name": "stderr",
          "text": [
            "/usr/local/lib/python3.7/dist-packages/ipykernel_launcher.py:8: DeprecationWarning: Calling np.sum(generator) is deprecated, and in the future will give a different result. Use np.sum(np.fromiter(generator)) or the python sum builtin instead.\n",
            "  \n"
          ]
        }
      ]
    },
    {
      "cell_type": "code",
      "source": [
        "# Now let's try doing the same when splitting based upon all values of \"odor\"\n",
        "new_entropy = proportionate_class_entropy(X[\"X6\"], y)\n",
        "print(\"Information gain of %.2f\" % (entropy(y) - new_entropy))\n",
        "# Should be an information gain of 0.11"
      ],
      "metadata": {
        "colab": {
          "base_uri": "https://localhost:8080/"
        },
        "id": "LLpy27cSDHfS",
        "outputId": "da4b0be9-3062-44d3-eac8-0743c674230b"
      },
      "execution_count": 11,
      "outputs": [
        {
          "output_type": "stream",
          "name": "stdout",
          "text": [
            "Information gain of 0.11\n"
          ]
        },
        {
          "output_type": "stream",
          "name": "stderr",
          "text": [
            "/usr/local/lib/python3.7/dist-packages/ipykernel_launcher.py:8: DeprecationWarning: Calling np.sum(generator) is deprecated, and in the future will give a different result. Use np.sum(np.fromiter(generator)) or the python sum builtin instead.\n",
            "  \n"
          ]
        }
      ]
    },
    {
      "cell_type": "code",
      "source": [
        "for c in X.columns:\n",
        "    new_entropy = proportionate_class_entropy(X[c], y)\n",
        "    print(\"%s %.2f\" % (c, entropy(y) - new_entropy))"
      ],
      "metadata": {
        "colab": {
          "base_uri": "https://localhost:8080/"
        },
        "id": "3vOjA-l2DMT0",
        "outputId": "512781f1-8b20-4624-8fec-0659e1c39441"
      },
      "execution_count": 12,
      "outputs": [
        {
          "output_type": "stream",
          "name": "stderr",
          "text": [
            "/usr/local/lib/python3.7/dist-packages/ipykernel_launcher.py:8: DeprecationWarning: Calling np.sum(generator) is deprecated, and in the future will give a different result. Use np.sum(np.fromiter(generator)) or the python sum builtin instead.\n",
            "  \n"
          ]
        },
        {
          "output_type": "stream",
          "name": "stdout",
          "text": [
            "X1 0.02\n",
            "X2 0.00\n",
            "X3 0.00\n",
            "X4 0.00\n",
            "X5 0.00\n",
            "X6 0.11\n",
            "X7 0.07\n",
            "X8 0.05\n",
            "X9 0.05\n",
            "X10 0.04\n",
            "X11 0.04\n",
            "X12 0.58\n",
            "X13 0.57\n",
            "X14 0.57\n",
            "X15 0.56\n",
            "X16 0.54\n",
            "X17 0.53\n",
            "X18 0.20\n",
            "X19 0.19\n",
            "X20 0.19\n",
            "X21 0.17\n",
            "X22 0.17\n",
            "X23 0.17\n"
          ]
        }
      ]
    },
    {
      "cell_type": "code",
      "source": [
        "from sklearn.ensemble import RandomForestClassifier\n",
        "from sklearn.metrics import accuracy_score\n",
        "from sklearn.model_selection import train_test_split"
      ],
      "metadata": {
        "id": "8nHl6mwMDVpi"
      },
      "execution_count": 13,
      "outputs": []
    },
    {
      "cell_type": "code",
      "source": [
        "X_train, X_test, y_train, y_test = train_test_split(X, y, test_size=0.2, random_state=42)"
      ],
      "metadata": {
        "id": "KNZDb3SSDWlw"
      },
      "execution_count": 14,
      "outputs": []
    },
    {
      "cell_type": "markdown",
      "source": [
        "BFE"
      ],
      "metadata": {
        "id": "sY2BGFowDYJw"
      }
    },
    {
      "cell_type": "code",
      "source": [
        "from sklearn.preprocessing import StandardScaler\n",
        "scaler = StandardScaler()\n",
        "scaler.fit(X_train)\n",
        "X_train = scaler.transform(X_train)\n",
        "X_test = scaler.transform(X_test)"
      ],
      "metadata": {
        "id": "Al5k11SsDd8f"
      },
      "execution_count": 15,
      "outputs": []
    },
    {
      "cell_type": "code",
      "source": [
        "!pip install mlxtend"
      ],
      "metadata": {
        "colab": {
          "base_uri": "https://localhost:8080/"
        },
        "id": "djbB46lnDfR9",
        "outputId": "affe0c04-d48e-4e86-f77a-916484b70056"
      },
      "execution_count": 16,
      "outputs": [
        {
          "output_type": "stream",
          "name": "stdout",
          "text": [
            "Requirement already satisfied: mlxtend in /usr/local/lib/python3.7/dist-packages (0.14.0)\n",
            "Requirement already satisfied: numpy>=1.10.4 in /usr/local/lib/python3.7/dist-packages (from mlxtend) (1.21.5)\n",
            "Requirement already satisfied: setuptools in /usr/local/lib/python3.7/dist-packages (from mlxtend) (57.4.0)\n",
            "Requirement already satisfied: scipy>=0.17 in /usr/local/lib/python3.7/dist-packages (from mlxtend) (1.4.1)\n",
            "Requirement already satisfied: scikit-learn>=0.18 in /usr/local/lib/python3.7/dist-packages (from mlxtend) (1.0.2)\n",
            "Requirement already satisfied: matplotlib>=1.5.1 in /usr/local/lib/python3.7/dist-packages (from mlxtend) (3.2.2)\n",
            "Requirement already satisfied: pandas>=0.17.1 in /usr/local/lib/python3.7/dist-packages (from mlxtend) (1.3.5)\n",
            "Requirement already satisfied: kiwisolver>=1.0.1 in /usr/local/lib/python3.7/dist-packages (from matplotlib>=1.5.1->mlxtend) (1.4.0)\n",
            "Requirement already satisfied: python-dateutil>=2.1 in /usr/local/lib/python3.7/dist-packages (from matplotlib>=1.5.1->mlxtend) (2.8.2)\n",
            "Requirement already satisfied: cycler>=0.10 in /usr/local/lib/python3.7/dist-packages (from matplotlib>=1.5.1->mlxtend) (0.11.0)\n",
            "Requirement already satisfied: pyparsing!=2.0.4,!=2.1.2,!=2.1.6,>=2.0.1 in /usr/local/lib/python3.7/dist-packages (from matplotlib>=1.5.1->mlxtend) (3.0.7)\n",
            "Requirement already satisfied: typing-extensions in /usr/local/lib/python3.7/dist-packages (from kiwisolver>=1.0.1->matplotlib>=1.5.1->mlxtend) (3.10.0.2)\n",
            "Requirement already satisfied: pytz>=2017.3 in /usr/local/lib/python3.7/dist-packages (from pandas>=0.17.1->mlxtend) (2018.9)\n",
            "Requirement already satisfied: six>=1.5 in /usr/local/lib/python3.7/dist-packages (from python-dateutil>=2.1->matplotlib>=1.5.1->mlxtend) (1.15.0)\n",
            "Requirement already satisfied: threadpoolctl>=2.0.0 in /usr/local/lib/python3.7/dist-packages (from scikit-learn>=0.18->mlxtend) (3.1.0)\n",
            "Requirement already satisfied: joblib>=0.11 in /usr/local/lib/python3.7/dist-packages (from scikit-learn>=0.18->mlxtend) (1.1.0)\n"
          ]
        }
      ]
    },
    {
      "cell_type": "code",
      "source": [
        "import six\n",
        "import sys\n",
        "sys.modules['sklearn.externals.six'] = six\n",
        "#import mlrose\n",
        "import joblib\n",
        "sys.modules['sklearn.externals.joblib'] = joblib\n",
        "import seaborn as sns\n",
        "import joblib\n",
        "from mlxtend.feature_selection import SequentialFeatureSelector as SFS\n",
        "from sklearn.neighbors import KNeighborsClassifier as knn\n",
        "from sklearn.linear_model import LogisticRegression as LGR\n",
        "from sklearn.ensemble import RandomForestClassifier as rfc\n",
        "from mlxtend.plotting import plot_sequential_feature_selection as plot_sfs"
      ],
      "metadata": {
        "id": "epneqpFvDizv"
      },
      "execution_count": 17,
      "outputs": []
    },
    {
      "cell_type": "code",
      "source": [
        "sbs = SFS(#knn(n_neighbors=3),\n",
        "           #rfc(n_jobs=8),\n",
        "           LGR(max_iter=4000),\n",
        "           k_features='best', \n",
        "           forward=False, \n",
        "           floating=False, \n",
        "           verbose=2,\n",
        "           #scoring = 'neg_mean_squared_error',  # sklearn regressors\n",
        "           scoring='accuracy',  # sklearn classifiers\n",
        "           cv=3)\n",
        "sbs = sbs.fit(X_train, y_train)"
      ],
      "metadata": {
        "colab": {
          "base_uri": "https://localhost:8080/"
        },
        "id": "ZD4EJbLMDkLQ",
        "outputId": "595c60b2-8957-4e82-8bd1-3a513cb93b81"
      },
      "execution_count": 18,
      "outputs": [
        {
          "output_type": "stream",
          "name": "stderr",
          "text": [
            "[Parallel(n_jobs=1)]: Using backend SequentialBackend with 1 concurrent workers.\n",
            "[Parallel(n_jobs=1)]: Done   1 out of   1 | elapsed:    0.6s remaining:    0.0s\n",
            "[Parallel(n_jobs=1)]: Done  23 out of  23 | elapsed:   19.9s finished\n",
            "\n",
            "[2022-03-23 18:36:42] Features: 22/1 -- score: 0.8106666666666668[Parallel(n_jobs=1)]: Using backend SequentialBackend with 1 concurrent workers.\n",
            "[Parallel(n_jobs=1)]: Done   1 out of   1 | elapsed:    1.1s remaining:    0.0s\n",
            "[Parallel(n_jobs=1)]: Done  22 out of  22 | elapsed:   21.1s finished\n",
            "\n",
            "[2022-03-23 18:37:03] Features: 21/1 -- score: 0.8108749999999999[Parallel(n_jobs=1)]: Using backend SequentialBackend with 1 concurrent workers.\n",
            "[Parallel(n_jobs=1)]: Done   1 out of   1 | elapsed:    1.1s remaining:    0.0s\n",
            "[Parallel(n_jobs=1)]: Done  21 out of  21 | elapsed:    9.5s finished\n",
            "\n",
            "[2022-03-23 18:37:13] Features: 20/1 -- score: 0.8110833333333334[Parallel(n_jobs=1)]: Using backend SequentialBackend with 1 concurrent workers.\n",
            "[Parallel(n_jobs=1)]: Done   1 out of   1 | elapsed:    0.4s remaining:    0.0s\n",
            "[Parallel(n_jobs=1)]: Done  20 out of  20 | elapsed:    7.2s finished\n",
            "\n",
            "[2022-03-23 18:37:20] Features: 19/1 -- score: 0.8117083333333333[Parallel(n_jobs=1)]: Using backend SequentialBackend with 1 concurrent workers.\n",
            "[Parallel(n_jobs=1)]: Done   1 out of   1 | elapsed:    0.4s remaining:    0.0s\n",
            "[Parallel(n_jobs=1)]: Done  19 out of  19 | elapsed:    6.7s finished\n",
            "\n",
            "[2022-03-23 18:37:26] Features: 18/1 -- score: 0.8120833333333333[Parallel(n_jobs=1)]: Using backend SequentialBackend with 1 concurrent workers.\n",
            "[Parallel(n_jobs=1)]: Done   1 out of   1 | elapsed:    0.4s remaining:    0.0s\n",
            "[Parallel(n_jobs=1)]: Done  18 out of  18 | elapsed:    5.8s finished\n",
            "\n",
            "[2022-03-23 18:37:32] Features: 17/1 -- score: 0.8121666666666667[Parallel(n_jobs=1)]: Using backend SequentialBackend with 1 concurrent workers.\n",
            "[Parallel(n_jobs=1)]: Done   1 out of   1 | elapsed:    0.2s remaining:    0.0s\n",
            "[Parallel(n_jobs=1)]: Done  17 out of  17 | elapsed:    3.8s finished\n",
            "\n",
            "[2022-03-23 18:37:36] Features: 16/1 -- score: 0.8122083333333334[Parallel(n_jobs=1)]: Using backend SequentialBackend with 1 concurrent workers.\n",
            "[Parallel(n_jobs=1)]: Done   1 out of   1 | elapsed:    0.3s remaining:    0.0s\n",
            "[Parallel(n_jobs=1)]: Done  16 out of  16 | elapsed:    3.7s finished\n",
            "\n",
            "[2022-03-23 18:37:40] Features: 15/1 -- score: 0.8123333333333335[Parallel(n_jobs=1)]: Using backend SequentialBackend with 1 concurrent workers.\n",
            "[Parallel(n_jobs=1)]: Done   1 out of   1 | elapsed:    0.2s remaining:    0.0s\n",
            "[Parallel(n_jobs=1)]: Done  15 out of  15 | elapsed:    3.3s finished\n",
            "\n",
            "[2022-03-23 18:37:43] Features: 14/1 -- score: 0.8123333333333335[Parallel(n_jobs=1)]: Using backend SequentialBackend with 1 concurrent workers.\n",
            "[Parallel(n_jobs=1)]: Done   1 out of   1 | elapsed:    0.2s remaining:    0.0s\n",
            "[Parallel(n_jobs=1)]: Done  14 out of  14 | elapsed:    2.5s finished\n",
            "\n",
            "[2022-03-23 18:37:46] Features: 13/1 -- score: 0.8121666666666667[Parallel(n_jobs=1)]: Using backend SequentialBackend with 1 concurrent workers.\n",
            "[Parallel(n_jobs=1)]: Done   1 out of   1 | elapsed:    0.2s remaining:    0.0s\n",
            "[Parallel(n_jobs=1)]: Done  13 out of  13 | elapsed:    2.2s finished\n",
            "\n",
            "[2022-03-23 18:37:48] Features: 12/1 -- score: 0.812125[Parallel(n_jobs=1)]: Using backend SequentialBackend with 1 concurrent workers.\n",
            "[Parallel(n_jobs=1)]: Done   1 out of   1 | elapsed:    0.1s remaining:    0.0s\n",
            "[Parallel(n_jobs=1)]: Done  12 out of  12 | elapsed:    2.0s finished\n",
            "\n",
            "[2022-03-23 18:37:50] Features: 11/1 -- score: 0.8121666666666666[Parallel(n_jobs=1)]: Using backend SequentialBackend with 1 concurrent workers.\n",
            "[Parallel(n_jobs=1)]: Done   1 out of   1 | elapsed:    0.1s remaining:    0.0s\n",
            "[Parallel(n_jobs=1)]: Done  11 out of  11 | elapsed:    2.2s finished\n",
            "\n",
            "[2022-03-23 18:37:52] Features: 10/1 -- score: 0.8117083333333334[Parallel(n_jobs=1)]: Using backend SequentialBackend with 1 concurrent workers.\n",
            "[Parallel(n_jobs=1)]: Done   1 out of   1 | elapsed:    0.1s remaining:    0.0s\n",
            "[Parallel(n_jobs=1)]: Done  10 out of  10 | elapsed:    1.4s finished\n",
            "\n",
            "[2022-03-23 18:37:54] Features: 9/1 -- score: 0.8115416666666667[Parallel(n_jobs=1)]: Using backend SequentialBackend with 1 concurrent workers.\n",
            "[Parallel(n_jobs=1)]: Done   1 out of   1 | elapsed:    0.1s remaining:    0.0s\n",
            "[Parallel(n_jobs=1)]: Done   9 out of   9 | elapsed:    1.2s finished\n",
            "\n",
            "[2022-03-23 18:37:55] Features: 8/1 -- score: 0.8117083333333334[Parallel(n_jobs=1)]: Using backend SequentialBackend with 1 concurrent workers.\n",
            "[Parallel(n_jobs=1)]: Done   1 out of   1 | elapsed:    0.1s remaining:    0.0s\n",
            "[Parallel(n_jobs=1)]: Done   8 out of   8 | elapsed:    1.0s finished\n",
            "\n",
            "[2022-03-23 18:37:56] Features: 7/1 -- score: 0.8121666666666666[Parallel(n_jobs=1)]: Using backend SequentialBackend with 1 concurrent workers.\n",
            "[Parallel(n_jobs=1)]: Done   1 out of   1 | elapsed:    0.1s remaining:    0.0s\n",
            "[Parallel(n_jobs=1)]: Done   7 out of   7 | elapsed:    0.9s finished\n",
            "\n",
            "[2022-03-23 18:37:57] Features: 6/1 -- score: 0.8119583333333334[Parallel(n_jobs=1)]: Using backend SequentialBackend with 1 concurrent workers.\n",
            "[Parallel(n_jobs=1)]: Done   1 out of   1 | elapsed:    0.1s remaining:    0.0s\n",
            "[Parallel(n_jobs=1)]: Done   6 out of   6 | elapsed:    0.6s finished\n",
            "\n",
            "[2022-03-23 18:37:57] Features: 5/1 -- score: 0.8131666666666666[Parallel(n_jobs=1)]: Using backend SequentialBackend with 1 concurrent workers.\n",
            "[Parallel(n_jobs=1)]: Done   1 out of   1 | elapsed:    0.1s remaining:    0.0s\n",
            "[Parallel(n_jobs=1)]: Done   5 out of   5 | elapsed:    0.5s finished\n",
            "\n",
            "[2022-03-23 18:37:58] Features: 4/1 -- score: 0.8135833333333333[Parallel(n_jobs=1)]: Using backend SequentialBackend with 1 concurrent workers.\n",
            "[Parallel(n_jobs=1)]: Done   1 out of   1 | elapsed:    0.1s remaining:    0.0s\n",
            "[Parallel(n_jobs=1)]: Done   4 out of   4 | elapsed:    0.3s finished\n",
            "\n",
            "[2022-03-23 18:37:58] Features: 3/1 -- score: 0.8131666666666666[Parallel(n_jobs=1)]: Using backend SequentialBackend with 1 concurrent workers.\n",
            "[Parallel(n_jobs=1)]: Done   1 out of   1 | elapsed:    0.1s remaining:    0.0s\n",
            "[Parallel(n_jobs=1)]: Done   3 out of   3 | elapsed:    0.2s finished\n",
            "\n",
            "[2022-03-23 18:37:58] Features: 2/1 -- score: 0.8122083333333333[Parallel(n_jobs=1)]: Using backend SequentialBackend with 1 concurrent workers.\n",
            "[Parallel(n_jobs=1)]: Done   1 out of   1 | elapsed:    0.1s remaining:    0.0s\n",
            "[Parallel(n_jobs=1)]: Done   2 out of   2 | elapsed:    0.1s finished\n",
            "\n",
            "[2022-03-23 18:37:58] Features: 1/1 -- score: 0.8196666666666667"
          ]
        }
      ]
    },
    {
      "cell_type": "code",
      "source": [
        "sbs.k_feature_idx_"
      ],
      "metadata": {
        "colab": {
          "base_uri": "https://localhost:8080/"
        },
        "id": "wKt2IC_9Dl4I",
        "outputId": "3735d5eb-3080-4bd5-96e6-eb86108543d7"
      },
      "execution_count": 19,
      "outputs": [
        {
          "output_type": "execute_result",
          "data": {
            "text/plain": [
              "(5,)"
            ]
          },
          "metadata": {},
          "execution_count": 19
        }
      ]
    },
    {
      "cell_type": "code",
      "source": [
        "df = pd.DataFrame.from_dict(sbs.get_metric_dict()).T\n",
        "df = df[[\"feature_idx\",\"avg_score\"]]"
      ],
      "metadata": {
        "id": "XNlISdXPDm2Y"
      },
      "execution_count": 20,
      "outputs": []
    },
    {
      "cell_type": "code",
      "source": [
        "df"
      ],
      "metadata": {
        "colab": {
          "base_uri": "https://localhost:8080/",
          "height": 770
        },
        "id": "pq9Q3JoGDn-p",
        "outputId": "e7b97c72-98f8-4ecf-f27d-a990ba29f547"
      },
      "execution_count": 21,
      "outputs": [
        {
          "output_type": "execute_result",
          "data": {
            "text/plain": [
              "                                          feature_idx avg_score\n",
              "23  (0, 1, 2, 3, 4, 5, 6, 7, 8, 9, 10, 11, 12, 13,...  0.810125\n",
              "22  (0, 1, 2, 3, 4, 5, 7, 8, 9, 10, 11, 12, 13, 14...  0.810667\n",
              "21  (0, 1, 2, 3, 4, 5, 7, 8, 9, 10, 11, 12, 13, 14...  0.810875\n",
              "20  (0, 1, 2, 3, 4, 5, 7, 9, 10, 11, 12, 13, 14, 1...  0.811083\n",
              "19  (0, 1, 2, 3, 4, 5, 9, 10, 11, 12, 13, 14, 15, ...  0.811708\n",
              "18  (0, 1, 2, 3, 4, 5, 9, 10, 11, 12, 13, 14, 16, ...  0.812083\n",
              "17  (0, 1, 2, 3, 4, 5, 9, 10, 11, 13, 14, 16, 17, ...  0.812167\n",
              "16  (0, 1, 2, 3, 4, 5, 9, 10, 11, 13, 14, 16, 17, ...  0.812208\n",
              "15  (0, 1, 2, 3, 4, 5, 9, 10, 11, 13, 14, 17, 18, ...  0.812333\n",
              "14  (0, 1, 2, 3, 4, 5, 9, 10, 11, 13, 17, 18, 19, 22)  0.812333\n",
              "13      (0, 1, 2, 3, 4, 5, 9, 10, 11, 13, 17, 18, 19)  0.812167\n",
              "12          (0, 1, 2, 3, 4, 5, 9, 10, 11, 13, 17, 18)  0.812125\n",
              "11              (0, 1, 2, 3, 4, 5, 9, 10, 11, 13, 18)  0.812167\n",
              "10                  (0, 1, 2, 3, 4, 5, 9, 11, 13, 18)  0.811708\n",
              "9                      (0, 1, 2, 3, 5, 9, 11, 13, 18)  0.811542\n",
              "8                         (0, 1, 2, 5, 9, 11, 13, 18)  0.811708\n",
              "7                            (0, 2, 5, 9, 11, 13, 18)  0.812167\n",
              "6                                (0, 2, 5, 9, 13, 18)  0.811958\n",
              "5                                    (0, 2, 5, 9, 18)  0.813167\n",
              "4                                        (0, 2, 5, 9)  0.813583\n",
              "3                                           (0, 5, 9)  0.813167\n",
              "2                                              (0, 5)  0.812208\n",
              "1                                                (5,)  0.819667"
            ],
            "text/html": [
              "\n",
              "  <div id=\"df-4164a478-b59e-4cf2-9461-618c695f1a93\">\n",
              "    <div class=\"colab-df-container\">\n",
              "      <div>\n",
              "<style scoped>\n",
              "    .dataframe tbody tr th:only-of-type {\n",
              "        vertical-align: middle;\n",
              "    }\n",
              "\n",
              "    .dataframe tbody tr th {\n",
              "        vertical-align: top;\n",
              "    }\n",
              "\n",
              "    .dataframe thead th {\n",
              "        text-align: right;\n",
              "    }\n",
              "</style>\n",
              "<table border=\"1\" class=\"dataframe\">\n",
              "  <thead>\n",
              "    <tr style=\"text-align: right;\">\n",
              "      <th></th>\n",
              "      <th>feature_idx</th>\n",
              "      <th>avg_score</th>\n",
              "    </tr>\n",
              "  </thead>\n",
              "  <tbody>\n",
              "    <tr>\n",
              "      <th>23</th>\n",
              "      <td>(0, 1, 2, 3, 4, 5, 6, 7, 8, 9, 10, 11, 12, 13,...</td>\n",
              "      <td>0.810125</td>\n",
              "    </tr>\n",
              "    <tr>\n",
              "      <th>22</th>\n",
              "      <td>(0, 1, 2, 3, 4, 5, 7, 8, 9, 10, 11, 12, 13, 14...</td>\n",
              "      <td>0.810667</td>\n",
              "    </tr>\n",
              "    <tr>\n",
              "      <th>21</th>\n",
              "      <td>(0, 1, 2, 3, 4, 5, 7, 8, 9, 10, 11, 12, 13, 14...</td>\n",
              "      <td>0.810875</td>\n",
              "    </tr>\n",
              "    <tr>\n",
              "      <th>20</th>\n",
              "      <td>(0, 1, 2, 3, 4, 5, 7, 9, 10, 11, 12, 13, 14, 1...</td>\n",
              "      <td>0.811083</td>\n",
              "    </tr>\n",
              "    <tr>\n",
              "      <th>19</th>\n",
              "      <td>(0, 1, 2, 3, 4, 5, 9, 10, 11, 12, 13, 14, 15, ...</td>\n",
              "      <td>0.811708</td>\n",
              "    </tr>\n",
              "    <tr>\n",
              "      <th>18</th>\n",
              "      <td>(0, 1, 2, 3, 4, 5, 9, 10, 11, 12, 13, 14, 16, ...</td>\n",
              "      <td>0.812083</td>\n",
              "    </tr>\n",
              "    <tr>\n",
              "      <th>17</th>\n",
              "      <td>(0, 1, 2, 3, 4, 5, 9, 10, 11, 13, 14, 16, 17, ...</td>\n",
              "      <td>0.812167</td>\n",
              "    </tr>\n",
              "    <tr>\n",
              "      <th>16</th>\n",
              "      <td>(0, 1, 2, 3, 4, 5, 9, 10, 11, 13, 14, 16, 17, ...</td>\n",
              "      <td>0.812208</td>\n",
              "    </tr>\n",
              "    <tr>\n",
              "      <th>15</th>\n",
              "      <td>(0, 1, 2, 3, 4, 5, 9, 10, 11, 13, 14, 17, 18, ...</td>\n",
              "      <td>0.812333</td>\n",
              "    </tr>\n",
              "    <tr>\n",
              "      <th>14</th>\n",
              "      <td>(0, 1, 2, 3, 4, 5, 9, 10, 11, 13, 17, 18, 19, 22)</td>\n",
              "      <td>0.812333</td>\n",
              "    </tr>\n",
              "    <tr>\n",
              "      <th>13</th>\n",
              "      <td>(0, 1, 2, 3, 4, 5, 9, 10, 11, 13, 17, 18, 19)</td>\n",
              "      <td>0.812167</td>\n",
              "    </tr>\n",
              "    <tr>\n",
              "      <th>12</th>\n",
              "      <td>(0, 1, 2, 3, 4, 5, 9, 10, 11, 13, 17, 18)</td>\n",
              "      <td>0.812125</td>\n",
              "    </tr>\n",
              "    <tr>\n",
              "      <th>11</th>\n",
              "      <td>(0, 1, 2, 3, 4, 5, 9, 10, 11, 13, 18)</td>\n",
              "      <td>0.812167</td>\n",
              "    </tr>\n",
              "    <tr>\n",
              "      <th>10</th>\n",
              "      <td>(0, 1, 2, 3, 4, 5, 9, 11, 13, 18)</td>\n",
              "      <td>0.811708</td>\n",
              "    </tr>\n",
              "    <tr>\n",
              "      <th>9</th>\n",
              "      <td>(0, 1, 2, 3, 5, 9, 11, 13, 18)</td>\n",
              "      <td>0.811542</td>\n",
              "    </tr>\n",
              "    <tr>\n",
              "      <th>8</th>\n",
              "      <td>(0, 1, 2, 5, 9, 11, 13, 18)</td>\n",
              "      <td>0.811708</td>\n",
              "    </tr>\n",
              "    <tr>\n",
              "      <th>7</th>\n",
              "      <td>(0, 2, 5, 9, 11, 13, 18)</td>\n",
              "      <td>0.812167</td>\n",
              "    </tr>\n",
              "    <tr>\n",
              "      <th>6</th>\n",
              "      <td>(0, 2, 5, 9, 13, 18)</td>\n",
              "      <td>0.811958</td>\n",
              "    </tr>\n",
              "    <tr>\n",
              "      <th>5</th>\n",
              "      <td>(0, 2, 5, 9, 18)</td>\n",
              "      <td>0.813167</td>\n",
              "    </tr>\n",
              "    <tr>\n",
              "      <th>4</th>\n",
              "      <td>(0, 2, 5, 9)</td>\n",
              "      <td>0.813583</td>\n",
              "    </tr>\n",
              "    <tr>\n",
              "      <th>3</th>\n",
              "      <td>(0, 5, 9)</td>\n",
              "      <td>0.813167</td>\n",
              "    </tr>\n",
              "    <tr>\n",
              "      <th>2</th>\n",
              "      <td>(0, 5)</td>\n",
              "      <td>0.812208</td>\n",
              "    </tr>\n",
              "    <tr>\n",
              "      <th>1</th>\n",
              "      <td>(5,)</td>\n",
              "      <td>0.819667</td>\n",
              "    </tr>\n",
              "  </tbody>\n",
              "</table>\n",
              "</div>\n",
              "      <button class=\"colab-df-convert\" onclick=\"convertToInteractive('df-4164a478-b59e-4cf2-9461-618c695f1a93')\"\n",
              "              title=\"Convert this dataframe to an interactive table.\"\n",
              "              style=\"display:none;\">\n",
              "        \n",
              "  <svg xmlns=\"http://www.w3.org/2000/svg\" height=\"24px\"viewBox=\"0 0 24 24\"\n",
              "       width=\"24px\">\n",
              "    <path d=\"M0 0h24v24H0V0z\" fill=\"none\"/>\n",
              "    <path d=\"M18.56 5.44l.94 2.06.94-2.06 2.06-.94-2.06-.94-.94-2.06-.94 2.06-2.06.94zm-11 1L8.5 8.5l.94-2.06 2.06-.94-2.06-.94L8.5 2.5l-.94 2.06-2.06.94zm10 10l.94 2.06.94-2.06 2.06-.94-2.06-.94-.94-2.06-.94 2.06-2.06.94z\"/><path d=\"M17.41 7.96l-1.37-1.37c-.4-.4-.92-.59-1.43-.59-.52 0-1.04.2-1.43.59L10.3 9.45l-7.72 7.72c-.78.78-.78 2.05 0 2.83L4 21.41c.39.39.9.59 1.41.59.51 0 1.02-.2 1.41-.59l7.78-7.78 2.81-2.81c.8-.78.8-2.07 0-2.86zM5.41 20L4 18.59l7.72-7.72 1.47 1.35L5.41 20z\"/>\n",
              "  </svg>\n",
              "      </button>\n",
              "      \n",
              "  <style>\n",
              "    .colab-df-container {\n",
              "      display:flex;\n",
              "      flex-wrap:wrap;\n",
              "      gap: 12px;\n",
              "    }\n",
              "\n",
              "    .colab-df-convert {\n",
              "      background-color: #E8F0FE;\n",
              "      border: none;\n",
              "      border-radius: 50%;\n",
              "      cursor: pointer;\n",
              "      display: none;\n",
              "      fill: #1967D2;\n",
              "      height: 32px;\n",
              "      padding: 0 0 0 0;\n",
              "      width: 32px;\n",
              "    }\n",
              "\n",
              "    .colab-df-convert:hover {\n",
              "      background-color: #E2EBFA;\n",
              "      box-shadow: 0px 1px 2px rgba(60, 64, 67, 0.3), 0px 1px 3px 1px rgba(60, 64, 67, 0.15);\n",
              "      fill: #174EA6;\n",
              "    }\n",
              "\n",
              "    [theme=dark] .colab-df-convert {\n",
              "      background-color: #3B4455;\n",
              "      fill: #D2E3FC;\n",
              "    }\n",
              "\n",
              "    [theme=dark] .colab-df-convert:hover {\n",
              "      background-color: #434B5C;\n",
              "      box-shadow: 0px 1px 3px 1px rgba(0, 0, 0, 0.15);\n",
              "      filter: drop-shadow(0px 1px 2px rgba(0, 0, 0, 0.3));\n",
              "      fill: #FFFFFF;\n",
              "    }\n",
              "  </style>\n",
              "\n",
              "      <script>\n",
              "        const buttonEl =\n",
              "          document.querySelector('#df-4164a478-b59e-4cf2-9461-618c695f1a93 button.colab-df-convert');\n",
              "        buttonEl.style.display =\n",
              "          google.colab.kernel.accessAllowed ? 'block' : 'none';\n",
              "\n",
              "        async function convertToInteractive(key) {\n",
              "          const element = document.querySelector('#df-4164a478-b59e-4cf2-9461-618c695f1a93');\n",
              "          const dataTable =\n",
              "            await google.colab.kernel.invokeFunction('convertToInteractive',\n",
              "                                                     [key], {});\n",
              "          if (!dataTable) return;\n",
              "\n",
              "          const docLinkHtml = 'Like what you see? Visit the ' +\n",
              "            '<a target=\"_blank\" href=https://colab.research.google.com/notebooks/data_table.ipynb>data table notebook</a>'\n",
              "            + ' to learn more about interactive tables.';\n",
              "          element.innerHTML = '';\n",
              "          dataTable['output_type'] = 'display_data';\n",
              "          await google.colab.output.renderOutput(dataTable, element);\n",
              "          const docLink = document.createElement('div');\n",
              "          docLink.innerHTML = docLinkHtml;\n",
              "          element.appendChild(docLink);\n",
              "        }\n",
              "      </script>\n",
              "    </div>\n",
              "  </div>\n",
              "  "
            ]
          },
          "metadata": {},
          "execution_count": 21
        }
      ]
    },
    {
      "cell_type": "code",
      "source": [
        "sbs.subsets_"
      ],
      "metadata": {
        "colab": {
          "base_uri": "https://localhost:8080/"
        },
        "id": "AYJMPKdRDpFR",
        "outputId": "2fee3fe3-3af3-4388-9b94-e9e1d6a8349e"
      },
      "execution_count": 22,
      "outputs": [
        {
          "output_type": "execute_result",
          "data": {
            "text/plain": [
              "{1: {'avg_score': 0.8196666666666667,\n",
              "  'cv_scores': array([0.823625, 0.819125, 0.81625 ]),\n",
              "  'feature_idx': (5,),\n",
              "  'feature_names': ('5',)},\n",
              " 2: {'avg_score': 0.8122083333333333,\n",
              "  'cv_scores': array([0.813375, 0.81075 , 0.8125  ]),\n",
              "  'feature_idx': (0, 5),\n",
              "  'feature_names': ('0', '5')},\n",
              " 3: {'avg_score': 0.8131666666666666,\n",
              "  'cv_scores': array([0.8135  , 0.812375, 0.813625]),\n",
              "  'feature_idx': (0, 5, 9),\n",
              "  'feature_names': ('0', '5', '9')},\n",
              " 4: {'avg_score': 0.8135833333333333,\n",
              "  'cv_scores': array([0.812875, 0.81275 , 0.815125]),\n",
              "  'feature_idx': (0, 2, 5, 9),\n",
              "  'feature_names': ('0', '2', '5', '9')},\n",
              " 5: {'avg_score': 0.8131666666666666,\n",
              "  'cv_scores': array([0.81175, 0.81325, 0.8145 ]),\n",
              "  'feature_idx': (0, 2, 5, 9, 18),\n",
              "  'feature_names': ('0', '2', '5', '9', '18')},\n",
              " 6: {'avg_score': 0.8119583333333334,\n",
              "  'cv_scores': array([0.811375, 0.811125, 0.813375]),\n",
              "  'feature_idx': (0, 2, 5, 9, 13, 18),\n",
              "  'feature_names': ('0', '2', '5', '9', '13', '18')},\n",
              " 7: {'avg_score': 0.8121666666666666,\n",
              "  'cv_scores': array([0.811125, 0.812   , 0.813375]),\n",
              "  'feature_idx': (0, 2, 5, 9, 11, 13, 18),\n",
              "  'feature_names': ('0', '2', '5', '9', '11', '13', '18')},\n",
              " 8: {'avg_score': 0.8117083333333334,\n",
              "  'cv_scores': array([0.81125 , 0.811   , 0.812875]),\n",
              "  'feature_idx': (0, 1, 2, 5, 9, 11, 13, 18),\n",
              "  'feature_names': ('0', '1', '2', '5', '9', '11', '13', '18')},\n",
              " 9: {'avg_score': 0.8115416666666667,\n",
              "  'cv_scores': array([0.8115  , 0.809875, 0.81325 ]),\n",
              "  'feature_idx': (0, 1, 2, 3, 5, 9, 11, 13, 18),\n",
              "  'feature_names': ('0', '1', '2', '3', '5', '9', '11', '13', '18')},\n",
              " 10: {'avg_score': 0.8117083333333334,\n",
              "  'cv_scores': array([0.811875, 0.81    , 0.81325 ]),\n",
              "  'feature_idx': (0, 1, 2, 3, 4, 5, 9, 11, 13, 18),\n",
              "  'feature_names': ('0', '1', '2', '3', '4', '5', '9', '11', '13', '18')},\n",
              " 11: {'avg_score': 0.8121666666666666,\n",
              "  'cv_scores': array([0.812625, 0.8105  , 0.813375]),\n",
              "  'feature_idx': (0, 1, 2, 3, 4, 5, 9, 10, 11, 13, 18),\n",
              "  'feature_names': ('0',\n",
              "   '1',\n",
              "   '2',\n",
              "   '3',\n",
              "   '4',\n",
              "   '5',\n",
              "   '9',\n",
              "   '10',\n",
              "   '11',\n",
              "   '13',\n",
              "   '18')},\n",
              " 12: {'avg_score': 0.812125,\n",
              "  'cv_scores': array([0.81325 , 0.810125, 0.813   ]),\n",
              "  'feature_idx': (0, 1, 2, 3, 4, 5, 9, 10, 11, 13, 17, 18),\n",
              "  'feature_names': ('0',\n",
              "   '1',\n",
              "   '2',\n",
              "   '3',\n",
              "   '4',\n",
              "   '5',\n",
              "   '9',\n",
              "   '10',\n",
              "   '11',\n",
              "   '13',\n",
              "   '17',\n",
              "   '18')},\n",
              " 13: {'avg_score': 0.8121666666666667,\n",
              "  'cv_scores': array([0.81325 , 0.810125, 0.813125]),\n",
              "  'feature_idx': (0, 1, 2, 3, 4, 5, 9, 10, 11, 13, 17, 18, 19),\n",
              "  'feature_names': ('0',\n",
              "   '1',\n",
              "   '2',\n",
              "   '3',\n",
              "   '4',\n",
              "   '5',\n",
              "   '9',\n",
              "   '10',\n",
              "   '11',\n",
              "   '13',\n",
              "   '17',\n",
              "   '18',\n",
              "   '19')},\n",
              " 14: {'avg_score': 0.8123333333333335,\n",
              "  'cv_scores': array([0.813375, 0.81    , 0.813625]),\n",
              "  'feature_idx': (0, 1, 2, 3, 4, 5, 9, 10, 11, 13, 17, 18, 19, 22),\n",
              "  'feature_names': ('0',\n",
              "   '1',\n",
              "   '2',\n",
              "   '3',\n",
              "   '4',\n",
              "   '5',\n",
              "   '9',\n",
              "   '10',\n",
              "   '11',\n",
              "   '13',\n",
              "   '17',\n",
              "   '18',\n",
              "   '19',\n",
              "   '22')},\n",
              " 15: {'avg_score': 0.8123333333333335,\n",
              "  'cv_scores': array([0.81325, 0.81   , 0.81375]),\n",
              "  'feature_idx': (0, 1, 2, 3, 4, 5, 9, 10, 11, 13, 14, 17, 18, 19, 22),\n",
              "  'feature_names': ('0',\n",
              "   '1',\n",
              "   '2',\n",
              "   '3',\n",
              "   '4',\n",
              "   '5',\n",
              "   '9',\n",
              "   '10',\n",
              "   '11',\n",
              "   '13',\n",
              "   '14',\n",
              "   '17',\n",
              "   '18',\n",
              "   '19',\n",
              "   '22')},\n",
              " 16: {'avg_score': 0.8122083333333334,\n",
              "  'cv_scores': array([0.812875, 0.810125, 0.813625]),\n",
              "  'feature_idx': (0, 1, 2, 3, 4, 5, 9, 10, 11, 13, 14, 16, 17, 18, 19, 22),\n",
              "  'feature_names': ('0',\n",
              "   '1',\n",
              "   '2',\n",
              "   '3',\n",
              "   '4',\n",
              "   '5',\n",
              "   '9',\n",
              "   '10',\n",
              "   '11',\n",
              "   '13',\n",
              "   '14',\n",
              "   '16',\n",
              "   '17',\n",
              "   '18',\n",
              "   '19',\n",
              "   '22')},\n",
              " 17: {'avg_score': 0.8121666666666667,\n",
              "  'cv_scores': array([0.813 , 0.81  , 0.8135]),\n",
              "  'feature_idx': (0, 1, 2, 3, 4, 5, 9, 10, 11, 13, 14, 16, 17, 18, 19, 21, 22),\n",
              "  'feature_names': ('0',\n",
              "   '1',\n",
              "   '2',\n",
              "   '3',\n",
              "   '4',\n",
              "   '5',\n",
              "   '9',\n",
              "   '10',\n",
              "   '11',\n",
              "   '13',\n",
              "   '14',\n",
              "   '16',\n",
              "   '17',\n",
              "   '18',\n",
              "   '19',\n",
              "   '21',\n",
              "   '22')},\n",
              " 18: {'avg_score': 0.8120833333333333,\n",
              "  'cv_scores': array([0.81275 , 0.809625, 0.813875]),\n",
              "  'feature_idx': (0,\n",
              "   1,\n",
              "   2,\n",
              "   3,\n",
              "   4,\n",
              "   5,\n",
              "   9,\n",
              "   10,\n",
              "   11,\n",
              "   12,\n",
              "   13,\n",
              "   14,\n",
              "   16,\n",
              "   17,\n",
              "   18,\n",
              "   19,\n",
              "   21,\n",
              "   22),\n",
              "  'feature_names': ('0',\n",
              "   '1',\n",
              "   '2',\n",
              "   '3',\n",
              "   '4',\n",
              "   '5',\n",
              "   '9',\n",
              "   '10',\n",
              "   '11',\n",
              "   '12',\n",
              "   '13',\n",
              "   '14',\n",
              "   '16',\n",
              "   '17',\n",
              "   '18',\n",
              "   '19',\n",
              "   '21',\n",
              "   '22')},\n",
              " 19: {'avg_score': 0.8117083333333333,\n",
              "  'cv_scores': array([0.812875, 0.8095  , 0.81275 ]),\n",
              "  'feature_idx': (0,\n",
              "   1,\n",
              "   2,\n",
              "   3,\n",
              "   4,\n",
              "   5,\n",
              "   9,\n",
              "   10,\n",
              "   11,\n",
              "   12,\n",
              "   13,\n",
              "   14,\n",
              "   15,\n",
              "   16,\n",
              "   17,\n",
              "   18,\n",
              "   19,\n",
              "   21,\n",
              "   22),\n",
              "  'feature_names': ('0',\n",
              "   '1',\n",
              "   '2',\n",
              "   '3',\n",
              "   '4',\n",
              "   '5',\n",
              "   '9',\n",
              "   '10',\n",
              "   '11',\n",
              "   '12',\n",
              "   '13',\n",
              "   '14',\n",
              "   '15',\n",
              "   '16',\n",
              "   '17',\n",
              "   '18',\n",
              "   '19',\n",
              "   '21',\n",
              "   '22')},\n",
              " 20: {'avg_score': 0.8110833333333334,\n",
              "  'cv_scores': array([0.809375, 0.810875, 0.813   ]),\n",
              "  'feature_idx': (0,\n",
              "   1,\n",
              "   2,\n",
              "   3,\n",
              "   4,\n",
              "   5,\n",
              "   7,\n",
              "   9,\n",
              "   10,\n",
              "   11,\n",
              "   12,\n",
              "   13,\n",
              "   14,\n",
              "   15,\n",
              "   16,\n",
              "   17,\n",
              "   18,\n",
              "   19,\n",
              "   21,\n",
              "   22),\n",
              "  'feature_names': ('0',\n",
              "   '1',\n",
              "   '2',\n",
              "   '3',\n",
              "   '4',\n",
              "   '5',\n",
              "   '7',\n",
              "   '9',\n",
              "   '10',\n",
              "   '11',\n",
              "   '12',\n",
              "   '13',\n",
              "   '14',\n",
              "   '15',\n",
              "   '16',\n",
              "   '17',\n",
              "   '18',\n",
              "   '19',\n",
              "   '21',\n",
              "   '22')},\n",
              " 21: {'avg_score': 0.8108749999999999,\n",
              "  'cv_scores': array([0.809625, 0.810875, 0.812125]),\n",
              "  'feature_idx': (0,\n",
              "   1,\n",
              "   2,\n",
              "   3,\n",
              "   4,\n",
              "   5,\n",
              "   7,\n",
              "   8,\n",
              "   9,\n",
              "   10,\n",
              "   11,\n",
              "   12,\n",
              "   13,\n",
              "   14,\n",
              "   15,\n",
              "   16,\n",
              "   17,\n",
              "   18,\n",
              "   19,\n",
              "   21,\n",
              "   22),\n",
              "  'feature_names': ('0',\n",
              "   '1',\n",
              "   '2',\n",
              "   '3',\n",
              "   '4',\n",
              "   '5',\n",
              "   '7',\n",
              "   '8',\n",
              "   '9',\n",
              "   '10',\n",
              "   '11',\n",
              "   '12',\n",
              "   '13',\n",
              "   '14',\n",
              "   '15',\n",
              "   '16',\n",
              "   '17',\n",
              "   '18',\n",
              "   '19',\n",
              "   '21',\n",
              "   '22')},\n",
              " 22: {'avg_score': 0.8106666666666668,\n",
              "  'cv_scores': array([0.8095  , 0.810875, 0.811625]),\n",
              "  'feature_idx': (0,\n",
              "   1,\n",
              "   2,\n",
              "   3,\n",
              "   4,\n",
              "   5,\n",
              "   7,\n",
              "   8,\n",
              "   9,\n",
              "   10,\n",
              "   11,\n",
              "   12,\n",
              "   13,\n",
              "   14,\n",
              "   15,\n",
              "   16,\n",
              "   17,\n",
              "   18,\n",
              "   19,\n",
              "   20,\n",
              "   21,\n",
              "   22),\n",
              "  'feature_names': ('0',\n",
              "   '1',\n",
              "   '2',\n",
              "   '3',\n",
              "   '4',\n",
              "   '5',\n",
              "   '7',\n",
              "   '8',\n",
              "   '9',\n",
              "   '10',\n",
              "   '11',\n",
              "   '12',\n",
              "   '13',\n",
              "   '14',\n",
              "   '15',\n",
              "   '16',\n",
              "   '17',\n",
              "   '18',\n",
              "   '19',\n",
              "   '20',\n",
              "   '21',\n",
              "   '22')},\n",
              " 23: {'avg_score': 0.8101249999999999,\n",
              "  'cv_scores': array([0.808125, 0.8105  , 0.81175 ]),\n",
              "  'feature_idx': (0,\n",
              "   1,\n",
              "   2,\n",
              "   3,\n",
              "   4,\n",
              "   5,\n",
              "   6,\n",
              "   7,\n",
              "   8,\n",
              "   9,\n",
              "   10,\n",
              "   11,\n",
              "   12,\n",
              "   13,\n",
              "   14,\n",
              "   15,\n",
              "   16,\n",
              "   17,\n",
              "   18,\n",
              "   19,\n",
              "   20,\n",
              "   21,\n",
              "   22),\n",
              "  'feature_names': ('0',\n",
              "   '1',\n",
              "   '2',\n",
              "   '3',\n",
              "   '4',\n",
              "   '5',\n",
              "   '6',\n",
              "   '7',\n",
              "   '8',\n",
              "   '9',\n",
              "   '10',\n",
              "   '11',\n",
              "   '12',\n",
              "   '13',\n",
              "   '14',\n",
              "   '15',\n",
              "   '16',\n",
              "   '17',\n",
              "   '18',\n",
              "   '19',\n",
              "   '20',\n",
              "   '21',\n",
              "   '22')}}"
            ]
          },
          "metadata": {},
          "execution_count": 22
        }
      ]
    },
    {
      "cell_type": "code",
      "source": [
        "fig = plot_sfs(sbs.get_metric_dict(), kind='std_err')\n",
        "# print(\"Selected Features :\", sbs.k_feature_names_)\n",
        "print(\"Selected Features ID :\", sbs.k_feature_idx_)\n",
        "plt.title('Sequential Forward Selection (w. StdErr)')\n",
        "plt.grid()\n",
        "plt.show()"
      ],
      "metadata": {
        "colab": {
          "base_uri": "https://localhost:8080/",
          "height": 314
        },
        "id": "2321N4yrDqYa",
        "outputId": "bb1d479e-6671-4671-ba84-55e5fabf8df1"
      },
      "execution_count": 23,
      "outputs": [
        {
          "output_type": "stream",
          "name": "stdout",
          "text": [
            "Selected Features ID : (5,)\n"
          ]
        },
        {
          "output_type": "display_data",
          "data": {
            "text/plain": [
              "<Figure size 432x288 with 1 Axes>"
            ],
            "image/png": "[encoded data removed]"
          },
          "metadata": {
            "needs_background": "light"
          }
        }
      ]
    },
    {
      "cell_type": "code",
      "source": [
        "newdf = pd.DataFrame(X_train)\n",
        "print(newdf)"
      ],
      "metadata": {
        "colab": {
          "base_uri": "https://localhost:8080/"
        },
        "id": "FLCqtNuQDrWB",
        "outputId": "701a62d3-08f2-4076-c19c-ed59fd284adf"
      },
      "execution_count": 24,
      "outputs": [
        {
          "output_type": "stream",
          "name": "stdout",
          "text": [
            "             0         1         2         3         4         5         6   \\\n",
            "0     -0.672359  0.808159  0.184306  0.858114 -1.244658  0.014796  0.109694   \n",
            "1     -1.057768 -1.237381  0.184306  0.858114 -0.811521  0.014796  0.109694   \n",
            "2      0.098459  0.808159  3.971420 -1.054828  0.921024  0.014796  0.109694   \n",
            "3     -0.826523 -1.237381 -1.078065  0.858114 -1.136374  0.014796  0.109694   \n",
            "4     -0.286950  0.808159  0.184306  0.858114 -1.136374  0.014796  0.109694   \n",
            "...         ...       ...       ...       ...       ...       ...       ...   \n",
            "23995 -0.903605 -1.237381  0.184306  0.858114 -0.378385  0.014796  0.109694   \n",
            "23996  0.252623 -1.237381 -1.078065  0.858114  0.163035  1.790286  1.779631   \n",
            "23997 -0.903605 -1.237381 -1.078065  0.858114 -1.028090 -1.760694 -1.560243   \n",
            "23998 -0.749441  0.808159  0.184306  0.858114 -1.136374  0.014796  0.109694   \n",
            "23999 -0.055704  0.808159  0.184306 -1.054828  0.054751 -1.760694 -1.560243   \n",
            "\n",
            "             7         8         9   ...        13        14        15  \\\n",
            "0      0.141120  0.188700  0.234055  ...  0.455707  0.479450 -0.008367   \n",
            "1      0.141120  0.188700  0.234055  ... -0.254132 -0.277182 -0.299323   \n",
            "2     -0.698046 -0.667404 -0.648616  ... -0.662788 -0.671371 -0.548685   \n",
            "3      0.141120  0.188700  0.234055  ... -0.118736 -0.052671 -0.008763   \n",
            "4      0.141120  0.188700  0.234055  ...  0.981423  1.167654  1.330983   \n",
            "...         ...       ...       ...  ...       ...       ...       ...   \n",
            "23995  0.141120  0.188700  0.234055  ...  0.129677  0.202027 -0.179969   \n",
            "23996  1.819451  1.900908  1.999396  ...  1.756029  1.891243  2.125496   \n",
            "23997 -1.537212 -1.523508 -1.531286  ... -0.675060 -0.671371 -0.662168   \n",
            "23998  0.141120  0.188700  1.999396  ...  0.063452 -0.123174 -0.189946   \n",
            "23999 -1.537212 -1.523508 -1.531286  ... -0.622507 -0.625561 -0.635731   \n",
            "\n",
            "             16        17        18        19        20        21        22  \n",
            "0      0.011698 -0.126892 -0.039537 -0.173567 -0.224654 -0.216008 -0.245240  \n",
            "1     -0.653898 -0.038915 -0.194250 -0.241596 -0.240785 -0.308523 -0.295532  \n",
            "2     -0.479473 -0.331937 -0.210475 -0.288246  0.122676  0.353487 -0.285107  \n",
            "3      0.006350 -0.213815 -0.167236 -0.178610 -0.207358 -0.186877 -0.180973  \n",
            "4      1.436224 -0.091947 -0.072522 -0.014157  0.007308  0.011598  0.317359  \n",
            "...         ...       ...       ...       ...       ...       ...       ...  \n",
            "23995 -0.550677 -0.214869 -0.121938 -0.201031 -0.294942 -0.235919  3.909990  \n",
            "23996  2.248967  0.458274  0.001602 -0.288246  0.160641  0.075622 -0.066413  \n",
            "23997 -0.653898 -0.331937 -0.245478 -0.288246 -0.299358 -0.308523 -0.295532  \n",
            "23998 -0.180911 -0.156335 -0.163118 -0.041565 -0.225758 -0.308523 -0.226796  \n",
            "23999 -0.415557 -0.331937 -0.094759 -0.116392 -0.198158  0.600620 -0.209612  \n",
            "\n",
            "[24000 rows x 23 columns]\n"
          ]
        }
      ]
    },
    {
      "cell_type": "code",
      "source": [
        "selected = list(sbs.k_feature_idx_)"
      ],
      "metadata": {
        "id": "BlgvS2RnDsqM"
      },
      "execution_count": 25,
      "outputs": []
    },
    {
      "cell_type": "code",
      "source": [
        "x_bfe = newdf.iloc[:, selected]\n",
        "print(x_bfe)"
      ],
      "metadata": {
        "colab": {
          "base_uri": "https://localhost:8080/"
        },
        "id": "FxH3Uy_2Dtj0",
        "outputId": "a2fb1c0e-1baf-4dc2-f701-15de86d57265"
      },
      "execution_count": 26,
      "outputs": [
        {
          "output_type": "stream",
          "name": "stdout",
          "text": [
            "              5\n",
            "0      0.014796\n",
            "1      0.014796\n",
            "2      0.014796\n",
            "3      0.014796\n",
            "4      0.014796\n",
            "...         ...\n",
            "23995  0.014796\n",
            "23996  1.790286\n",
            "23997 -1.760694\n",
            "23998  0.014796\n",
            "23999 -1.760694\n",
            "\n",
            "[24000 rows x 1 columns]\n"
          ]
        }
      ]
    },
    {
      "cell_type": "code",
      "source": [
        "bfe_X_train, bfe_X_test, bfe_y_train, bfe_y_test = train_test_split(x_bfe, y_train, test_size = 0.2, random_state = 42)"
      ],
      "metadata": {
        "id": "17dhVjN7DvEk"
      },
      "execution_count": 27,
      "outputs": []
    },
    {
      "cell_type": "markdown",
      "source": [
        "SVM"
      ],
      "metadata": {
        "id": "0fjvPDVVDvpz"
      }
    },
    {
      "cell_type": "code",
      "source": [
        "from sklearn import svm\n",
        "from sklearn.svm import SVC"
      ],
      "metadata": {
        "id": "0Cq5vVyADxNF"
      },
      "execution_count": 28,
      "outputs": []
    },
    {
      "cell_type": "code",
      "source": [
        "svm = svm.SVC()\n",
        "svm.fit(bfe_X_train, bfe_y_train)\n",
        "svm.score(bfe_X_train, bfe_y_train)*100"
      ],
      "metadata": {
        "colab": {
          "base_uri": "https://localhost:8080/"
        },
        "id": "a0egVRLkDyYU",
        "outputId": "d598f80f-13a7-44f4-d607-47f2a0435f13"
      },
      "execution_count": 29,
      "outputs": [
        {
          "output_type": "execute_result",
          "data": {
            "text/plain": [
              "82.13541666666667"
            ]
          },
          "metadata": {},
          "execution_count": 29
        }
      ]
    },
    {
      "cell_type": "code",
      "source": [
        "svm_score = svm.score(bfe_X_test, bfe_y_test)*100\n",
        "print(\"SVM Accuracy:\", svm_score)"
      ],
      "metadata": {
        "colab": {
          "base_uri": "https://localhost:8080/"
        },
        "id": "HOmjvrTrD2lA",
        "outputId": "18578761-89f1-47ee-a32d-94fb1e2de164"
      },
      "execution_count": 30,
      "outputs": [
        {
          "output_type": "stream",
          "name": "stdout",
          "text": [
            "SVM Accuracy: 81.29166666666666\n"
          ]
        }
      ]
    },
    {
      "cell_type": "markdown",
      "source": [
        "KNN"
      ],
      "metadata": {
        "id": "EkRRLtJBD3kw"
      }
    },
    {
      "cell_type": "code",
      "source": [
        "from sklearn.neighbors import KNeighborsClassifier\n",
        "from sklearn.metrics import accuracy_score\n",
        "knn = KNeighborsClassifier()\n",
        "classifier = KNeighborsClassifier(n_neighbors = 81)\n",
        "classifier.fit(bfe_X_train, bfe_y_train)\n",
        "knn.fit(bfe_X_train, bfe_y_train)"
      ],
      "metadata": {
        "colab": {
          "base_uri": "https://localhost:8080/"
        },
        "id": "6qlUwgkcD4WK",
        "outputId": "735d0a86-e89c-465d-ea59-3c4f95d1862c"
      },
      "execution_count": 31,
      "outputs": [
        {
          "output_type": "execute_result",
          "data": {
            "text/plain": [
              "KNeighborsClassifier()"
            ]
          },
          "metadata": {},
          "execution_count": 31
        }
      ]
    },
    {
      "cell_type": "code",
      "source": [
        "score = knn.score(bfe_X_test, bfe_y_test)\n",
        "print(\"KNN Algorithm Score:\", score*100)"
      ],
      "metadata": {
        "colab": {
          "base_uri": "https://localhost:8080/"
        },
        "id": "7JwUJaSED6Db",
        "outputId": "9ef08c63-50a8-4bd4-e6b6-52480b6bbc5e"
      },
      "execution_count": 32,
      "outputs": [
        {
          "output_type": "stream",
          "name": "stdout",
          "text": [
            "KNN Algorithm Score: 78.14583333333334\n"
          ]
        }
      ]
    },
    {
      "cell_type": "markdown",
      "source": [
        "DT"
      ],
      "metadata": {
        "id": "OMcOgSztD7Pr"
      }
    },
    {
      "cell_type": "code",
      "source": [
        "from sklearn.tree import DecisionTreeClassifier\n",
        "dclf = DecisionTreeClassifier()\n",
        "dclf.fit(bfe_X_train, bfe_y_train)"
      ],
      "metadata": {
        "colab": {
          "base_uri": "https://localhost:8080/"
        },
        "id": "2q6Q4_bFD8Qz",
        "outputId": "a6520e3e-6ca3-4e10-b6f4-a671e69dcfa7"
      },
      "execution_count": 33,
      "outputs": [
        {
          "output_type": "execute_result",
          "data": {
            "text/plain": [
              "DecisionTreeClassifier()"
            ]
          },
          "metadata": {},
          "execution_count": 33
        }
      ]
    },
    {
      "cell_type": "code",
      "source": [
        "j=dclf.score(bfe_X_test, bfe_y_test)\n",
        "print(\"Decision Tree Algorithm Score:\",j*100)"
      ],
      "metadata": {
        "colab": {
          "base_uri": "https://localhost:8080/"
        },
        "id": "-QO8zMZcD9bT",
        "outputId": "53395dc6-1840-4389-a62b-ec121ce52579"
      },
      "execution_count": 34,
      "outputs": [
        {
          "output_type": "stream",
          "name": "stdout",
          "text": [
            "Decision Tree Algorithm Score: 81.29166666666666\n"
          ]
        }
      ]
    },
    {
      "cell_type": "markdown",
      "source": [
        "RF"
      ],
      "metadata": {
        "id": "sNqDjeOPD-Lz"
      }
    },
    {
      "cell_type": "code",
      "source": [
        "def run_randomForest(bfe_X_train, bfe_y_train,bfe_X_test, bfe_y_test):\n",
        "    clf = RandomForestClassifier(n_estimators= 100, random_state = 42, n_jobs = -1)\n",
        "    clf.fit(bfe_X_train, bfe_y_train)\n",
        "    y_pred = clf.predict(bfe_X_test)\n",
        "    score = accuracy_score(bfe_y_test,y_pred)*100\n",
        "    print(\"Random Forest Accuracy:\", score)"
      ],
      "metadata": {
        "id": "juMWGncqD_oh"
      },
      "execution_count": 35,
      "outputs": []
    },
    {
      "cell_type": "code",
      "source": [
        "run_randomForest(bfe_X_train, bfe_y_train,bfe_X_test, bfe_y_test)"
      ],
      "metadata": {
        "colab": {
          "base_uri": "https://localhost:8080/"
        },
        "id": "2g862QS0EBM1",
        "outputId": "9a3f5ac7-2ef7-4750-f4b9-dc1b2116f877"
      },
      "execution_count": 36,
      "outputs": [
        {
          "output_type": "stream",
          "name": "stdout",
          "text": [
            "Random Forest Accuracy: 81.29166666666666\n"
          ]
        }
      ]
    },
    {
      "cell_type": "markdown",
      "source": [
        "LR"
      ],
      "metadata": {
        "id": "6Nr1UZ_CEDCW"
      }
    },
    {
      "cell_type": "code",
      "source": [
        "from sklearn.linear_model import LogisticRegression\n",
        "model = LogisticRegression()\n",
        "model.fit(bfe_X_train, bfe_y_train)\n",
        "lr = model.score(bfe_X_test, bfe_y_test)*100\n",
        "print(\"Logistic Regression Accuracy:\", lr)"
      ],
      "metadata": {
        "colab": {
          "base_uri": "https://localhost:8080/"
        },
        "id": "VEi_b26oEEJu",
        "outputId": "90598223-26ee-4923-d76d-122ea8f38a61"
      },
      "execution_count": 37,
      "outputs": [
        {
          "output_type": "stream",
          "name": "stdout",
          "text": [
            "Logistic Regression Accuracy: 81.29166666666666\n"
          ]
        }
      ]
    }
  ]
}