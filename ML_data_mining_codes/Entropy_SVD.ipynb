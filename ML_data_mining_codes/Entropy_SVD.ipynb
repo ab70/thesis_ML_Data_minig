{
  "nbformat": 4,
  "nbformat_minor": 0,
  "metadata": {
    "colab": {
      "name": "Entropy_SVD.ipynb",
      "provenance": []
    },
    "kernelspec": {
      "name": "python3",
      "display_name": "Python 3"
    },
    "language_info": {
      "name": "python"
    }
  },
  "cells": [
    {
      "cell_type": "code",
      "execution_count": 1,
      "metadata": {
        "id": "fwrtU-wQ_MCt"
      },
      "outputs": [],
      "source": [
        "import os\n",
        "import pandas as pd\n",
        "import numpy as np\n",
        "import matplotlib.pyplot as plt\n",
        "from sklearn.model_selection import train_test_split\n",
        "from sklearn.feature_selection import SelectKBest\n",
        "from sklearn.feature_selection import f_regression\n",
        "from sklearn.feature_selection import chi2\n",
        "from sklearn.datasets import make_regression\n",
        "from sklearn.ensemble import ExtraTreesClassifier\n",
        "from scipy.stats import spearmanr\n",
        "from scipy import stats\n",
        "from IPython.display import display"
      ]
    },
    {
      "cell_type": "code",
      "source": [
        "boston = pd.read_csv('p2_mod.csv')\n",
        "X = boston.drop(columns='Y', axis=1)\n",
        "y = boston['Y']\n",
        "boston.head()"
      ],
      "metadata": {
        "colab": {
          "base_uri": "https://localhost:8080/",
          "height": 235
        },
        "id": "UdaXJq4HAGdR",
        "outputId": "a6d1479a-a6e8-4279-b79b-de1b53f62835"
      },
      "execution_count": 3,
      "outputs": [
        {
          "output_type": "execute_result",
          "data": {
            "text/plain": [
              "       X1  X2  X3  X4  X5  X6  X7  X8  X9  X10  ...    X15    X16    X17  \\\n",
              "0   20000   2   2   1  24   2   2  -1  -1   -2  ...      0      0      0   \n",
              "1  120000   2   2   2  26  -1   2   0   0    0  ...   3272   3455   3261   \n",
              "2   90000   2   2   2  34   0   0   0   0    0  ...  14331  14948  15549   \n",
              "3   50000   2   2   1  37   0   0   0   0    0  ...  28314  28959  29547   \n",
              "4   50000   1   2   1  57  -1   0  -1   0    0  ...  20940  19146  19131   \n",
              "\n",
              "    X18    X19    X20   X21   X22   X23  Y  \n",
              "0     0    689      0     0     0     0  1  \n",
              "1     0   1000   1000  1000     0  2000  1  \n",
              "2  1518   1500   1000  1000  1000  5000  0  \n",
              "3  2000   2019   1200  1100  1069  1000  0  \n",
              "4  2000  36681  10000  9000   689   679  0  \n",
              "\n",
              "[5 rows x 24 columns]"
            ],
            "text/html": [
              "\n",
              "  <div id=\"df-96a86d3b-772d-4167-8300-bcec4857b6bb\">\n",
              "    <div class=\"colab-df-container\">\n",
              "      <div>\n",
              "<style scoped>\n",
              "    .dataframe tbody tr th:only-of-type {\n",
              "        vertical-align: middle;\n",
              "    }\n",
              "\n",
              "    .dataframe tbody tr th {\n",
              "        vertical-align: top;\n",
              "    }\n",
              "\n",
              "    .dataframe thead th {\n",
              "        text-align: right;\n",
              "    }\n",
              "</style>\n",
              "<table border=\"1\" class=\"dataframe\">\n",
              "  <thead>\n",
              "    <tr style=\"text-align: right;\">\n",
              "      <th></th>\n",
              "      <th>X1</th>\n",
              "      <th>X2</th>\n",
              "      <th>X3</th>\n",
              "      <th>X4</th>\n",
              "      <th>X5</th>\n",
              "      <th>X6</th>\n",
              "      <th>X7</th>\n",
              "      <th>X8</th>\n",
              "      <th>X9</th>\n",
              "      <th>X10</th>\n",
              "      <th>...</th>\n",
              "      <th>X15</th>\n",
              "      <th>X16</th>\n",
              "      <th>X17</th>\n",
              "      <th>X18</th>\n",
              "      <th>X19</th>\n",
              "      <th>X20</th>\n",
              "      <th>X21</th>\n",
              "      <th>X22</th>\n",
              "      <th>X23</th>\n",
              "      <th>Y</th>\n",
              "    </tr>\n",
              "  </thead>\n",
              "  <tbody>\n",
              "    <tr>\n",
              "      <th>0</th>\n",
              "      <td>20000</td>\n",
              "      <td>2</td>\n",
              "      <td>2</td>\n",
              "      <td>1</td>\n",
              "      <td>24</td>\n",
              "      <td>2</td>\n",
              "      <td>2</td>\n",
              "      <td>-1</td>\n",
              "      <td>-1</td>\n",
              "      <td>-2</td>\n",
              "      <td>...</td>\n",
              "      <td>0</td>\n",
              "      <td>0</td>\n",
              "      <td>0</td>\n",
              "      <td>0</td>\n",
              "      <td>689</td>\n",
              "      <td>0</td>\n",
              "      <td>0</td>\n",
              "      <td>0</td>\n",
              "      <td>0</td>\n",
              "      <td>1</td>\n",
              "    </tr>\n",
              "    <tr>\n",
              "      <th>1</th>\n",
              "      <td>120000</td>\n",
              "      <td>2</td>\n",
              "      <td>2</td>\n",
              "      <td>2</td>\n",
              "      <td>26</td>\n",
              "      <td>-1</td>\n",
              "      <td>2</td>\n",
              "      <td>0</td>\n",
              "      <td>0</td>\n",
              "      <td>0</td>\n",
              "      <td>...</td>\n",
              "      <td>3272</td>\n",
              "      <td>3455</td>\n",
              "      <td>3261</td>\n",
              "      <td>0</td>\n",
              "      <td>1000</td>\n",
              "      <td>1000</td>\n",
              "      <td>1000</td>\n",
              "      <td>0</td>\n",
              "      <td>2000</td>\n",
              "      <td>1</td>\n",
              "    </tr>\n",
              "    <tr>\n",
              "      <th>2</th>\n",
              "      <td>90000</td>\n",
              "      <td>2</td>\n",
              "      <td>2</td>\n",
              "      <td>2</td>\n",
              "      <td>34</td>\n",
              "      <td>0</td>\n",
              "      <td>0</td>\n",
              "      <td>0</td>\n",
              "      <td>0</td>\n",
              "      <td>0</td>\n",
              "      <td>...</td>\n",
              "      <td>14331</td>\n",
              "      <td>14948</td>\n",
              "      <td>15549</td>\n",
              "      <td>1518</td>\n",
              "      <td>1500</td>\n",
              "      <td>1000</td>\n",
              "      <td>1000</td>\n",
              "      <td>1000</td>\n",
              "      <td>5000</td>\n",
              "      <td>0</td>\n",
              "    </tr>\n",
              "    <tr>\n",
              "      <th>3</th>\n",
              "      <td>50000</td>\n",
              "      <td>2</td>\n",
              "      <td>2</td>\n",
              "      <td>1</td>\n",
              "      <td>37</td>\n",
              "      <td>0</td>\n",
              "      <td>0</td>\n",
              "      <td>0</td>\n",
              "      <td>0</td>\n",
              "      <td>0</td>\n",
              "      <td>...</td>\n",
              "      <td>28314</td>\n",
              "      <td>28959</td>\n",
              "      <td>29547</td>\n",
              "      <td>2000</td>\n",
              "      <td>2019</td>\n",
              "      <td>1200</td>\n",
              "      <td>1100</td>\n",
              "      <td>1069</td>\n",
              "      <td>1000</td>\n",
              "      <td>0</td>\n",
              "    </tr>\n",
              "    <tr>\n",
              "      <th>4</th>\n",
              "      <td>50000</td>\n",
              "      <td>1</td>\n",
              "      <td>2</td>\n",
              "      <td>1</td>\n",
              "      <td>57</td>\n",
              "      <td>-1</td>\n",
              "      <td>0</td>\n",
              "      <td>-1</td>\n",
              "      <td>0</td>\n",
              "      <td>0</td>\n",
              "      <td>...</td>\n",
              "      <td>20940</td>\n",
              "      <td>19146</td>\n",
              "      <td>19131</td>\n",
              "      <td>2000</td>\n",
              "      <td>36681</td>\n",
              "      <td>10000</td>\n",
              "      <td>9000</td>\n",
              "      <td>689</td>\n",
              "      <td>679</td>\n",
              "      <td>0</td>\n",
              "    </tr>\n",
              "  </tbody>\n",
              "</table>\n",
              "<p>5 rows × 24 columns</p>\n",
              "</div>\n",
              "      <button class=\"colab-df-convert\" onclick=\"convertToInteractive('df-96a86d3b-772d-4167-8300-bcec4857b6bb')\"\n",
              "              title=\"Convert this dataframe to an interactive table.\"\n",
              "              style=\"display:none;\">\n",
              "        \n",
              "  <svg xmlns=\"http://www.w3.org/2000/svg\" height=\"24px\"viewBox=\"0 0 24 24\"\n",
              "       width=\"24px\">\n",
              "    <path d=\"M0 0h24v24H0V0z\" fill=\"none\"/>\n",
              "    <path d=\"M18.56 5.44l.94 2.06.94-2.06 2.06-.94-2.06-.94-.94-2.06-.94 2.06-2.06.94zm-11 1L8.5 8.5l.94-2.06 2.06-.94-2.06-.94L8.5 2.5l-.94 2.06-2.06.94zm10 10l.94 2.06.94-2.06 2.06-.94-2.06-.94-.94-2.06-.94 2.06-2.06.94z\"/><path d=\"M17.41 7.96l-1.37-1.37c-.4-.4-.92-.59-1.43-.59-.52 0-1.04.2-1.43.59L10.3 9.45l-7.72 7.72c-.78.78-.78 2.05 0 2.83L4 21.41c.39.39.9.59 1.41.59.51 0 1.02-.2 1.41-.59l7.78-7.78 2.81-2.81c.8-.78.8-2.07 0-2.86zM5.41 20L4 18.59l7.72-7.72 1.47 1.35L5.41 20z\"/>\n",
              "  </svg>\n",
              "      </button>\n",
              "      \n",
              "  <style>\n",
              "    .colab-df-container {\n",
              "      display:flex;\n",
              "      flex-wrap:wrap;\n",
              "      gap: 12px;\n",
              "    }\n",
              "\n",
              "    .colab-df-convert {\n",
              "      background-color: #E8F0FE;\n",
              "      border: none;\n",
              "      border-radius: 50%;\n",
              "      cursor: pointer;\n",
              "      display: none;\n",
              "      fill: #1967D2;\n",
              "      height: 32px;\n",
              "      padding: 0 0 0 0;\n",
              "      width: 32px;\n",
              "    }\n",
              "\n",
              "    .colab-df-convert:hover {\n",
              "      background-color: #E2EBFA;\n",
              "      box-shadow: 0px 1px 2px rgba(60, 64, 67, 0.3), 0px 1px 3px 1px rgba(60, 64, 67, 0.15);\n",
              "      fill: #174EA6;\n",
              "    }\n",
              "\n",
              "    [theme=dark] .colab-df-convert {\n",
              "      background-color: #3B4455;\n",
              "      fill: #D2E3FC;\n",
              "    }\n",
              "\n",
              "    [theme=dark] .colab-df-convert:hover {\n",
              "      background-color: #434B5C;\n",
              "      box-shadow: 0px 1px 3px 1px rgba(0, 0, 0, 0.15);\n",
              "      filter: drop-shadow(0px 1px 2px rgba(0, 0, 0, 0.3));\n",
              "      fill: #FFFFFF;\n",
              "    }\n",
              "  </style>\n",
              "\n",
              "      <script>\n",
              "        const buttonEl =\n",
              "          document.querySelector('#df-96a86d3b-772d-4167-8300-bcec4857b6bb button.colab-df-convert');\n",
              "        buttonEl.style.display =\n",
              "          google.colab.kernel.accessAllowed ? 'block' : 'none';\n",
              "\n",
              "        async function convertToInteractive(key) {\n",
              "          const element = document.querySelector('#df-96a86d3b-772d-4167-8300-bcec4857b6bb');\n",
              "          const dataTable =\n",
              "            await google.colab.kernel.invokeFunction('convertToInteractive',\n",
              "                                                     [key], {});\n",
              "          if (!dataTable) return;\n",
              "\n",
              "          const docLinkHtml = 'Like what you see? Visit the ' +\n",
              "            '<a target=\"_blank\" href=https://colab.research.google.com/notebooks/data_table.ipynb>data table notebook</a>'\n",
              "            + ' to learn more about interactive tables.';\n",
              "          element.innerHTML = '';\n",
              "          dataTable['output_type'] = 'display_data';\n",
              "          await google.colab.output.renderOutput(dataTable, element);\n",
              "          const docLink = document.createElement('div');\n",
              "          docLink.innerHTML = docLinkHtml;\n",
              "          element.appendChild(docLink);\n",
              "        }\n",
              "      </script>\n",
              "    </div>\n",
              "  </div>\n",
              "  "
            ]
          },
          "metadata": {},
          "execution_count": 3
        }
      ]
    },
    {
      "cell_type": "code",
      "source": [
        "# This is the entropy method we defined in the Entropy workshop\n",
        "def entropy(y):\n",
        "    probs = [] # Probabilities of each class label\n",
        "    for c in set(y): # Set gets a unique set of values. We're iterating over each value\n",
        "        num_same_class = sum(y == c)  # Remember that true == 1, so we can sum.\n",
        "        p = num_same_class / len(y) # Probability of this class label\n",
        "        probs.append(p)\n",
        "    return np.sum(-p * np.log2(p) for p in probs)\n",
        "\n",
        "# What is the entropy of the entire set?\n",
        "print(\"Entire set entropy = %.2f\" % entropy(y))"
      ],
      "metadata": {
        "colab": {
          "base_uri": "https://localhost:8080/"
        },
        "id": "_sniMPDWAb1i",
        "outputId": "92a84ec3-69b7-44dd-cfa4-56cae548d3d0"
      },
      "execution_count": 4,
      "outputs": [
        {
          "output_type": "stream",
          "name": "stdout",
          "text": [
            "Entire set entropy = 0.76\n"
          ]
        },
        {
          "output_type": "stream",
          "name": "stderr",
          "text": [
            "/usr/local/lib/python3.7/dist-packages/ipykernel_launcher.py:8: DeprecationWarning: Calling np.sum(generator) is deprecated, and in the future will give a different result. Use np.sum(np.fromiter(generator)) or the python sum builtin instead.\n",
            "  \n"
          ]
        }
      ]
    },
    {
      "cell_type": "code",
      "source": [
        "# Let's write some functions that calculates the entropy after splitting on a particular value\n",
        "\n",
        "def class_probability(feature, y):\n",
        "    \"\"\"Calculates the proportional length of each value in the set of instances\"\"\"\n",
        "    # This is doc string, used for documentation\n",
        "    probs = []\n",
        "    for value in set(feature):\n",
        "        select = feature == value # Split by feature value into two classes\n",
        "        y_new = y[select]         # Those that exist in this class are now in y_new\n",
        "        probs.append(float(len(y_new))/len(X))  # Convert to float, because ints don't divide well\n",
        "    return probs\n",
        "\n",
        "def class_entropy(feature, y):\n",
        "    \"\"\"Calculates the entropy for each value in the set of instances\"\"\"\n",
        "    ents = []\n",
        "    for value in set(feature):\n",
        "        select = feature == value # Split by feature value into two classes\n",
        "        y_new = y[select]         # Those that exist in this class are now in y_new\n",
        "        ents.append(entropy(y_new))\n",
        "    return ents\n",
        "\n",
        "def proportionate_class_entropy(feature, y):\n",
        "    \"\"\"Calculatates the weighted proportional entropy for a feature when splitting on all values\"\"\"\n",
        "    probs = class_probability(feature, y)\n",
        "    ents = class_entropy(feature, y)\n",
        "    return np.sum(np.multiply(probs, ents)) # Information gain equation\n",
        "\n",
        "# Let's try calculating the entropy after splitting by all the values in \"cap-shape\"\n",
        "new_entropy = proportionate_class_entropy(X[\"X1\"], y)\n",
        "print(\"Information gain of %.2f\" % (entropy(y) - new_entropy))\n",
        "# Should be an information gain of 0.02"
      ],
      "metadata": {
        "colab": {
          "base_uri": "https://localhost:8080/"
        },
        "id": "fs30CzyQAjzW",
        "outputId": "25b702b7-718a-49e9-92dd-f8110c3980fc"
      },
      "execution_count": 5,
      "outputs": [
        {
          "output_type": "stream",
          "name": "stdout",
          "text": [
            "Information gain of 0.02\n"
          ]
        },
        {
          "output_type": "stream",
          "name": "stderr",
          "text": [
            "/usr/local/lib/python3.7/dist-packages/ipykernel_launcher.py:8: DeprecationWarning: Calling np.sum(generator) is deprecated, and in the future will give a different result. Use np.sum(np.fromiter(generator)) or the python sum builtin instead.\n",
            "  \n"
          ]
        }
      ]
    },
    {
      "cell_type": "code",
      "source": [
        "# Now let's try doing the same when splitting based upon all values of \"odor\"\n",
        "new_entropy = proportionate_class_entropy(X[\"X6\"], y)\n",
        "print(\"Information gain of %.2f\" % (entropy(y) - new_entropy))\n",
        "# Should be an information gain of 0.11"
      ],
      "metadata": {
        "colab": {
          "base_uri": "https://localhost:8080/"
        },
        "id": "OVMu0x7wAoLA",
        "outputId": "3adf538a-4b26-4fd3-c478-375ab699e479"
      },
      "execution_count": 6,
      "outputs": [
        {
          "output_type": "stream",
          "name": "stdout",
          "text": [
            "Information gain of 0.11\n"
          ]
        },
        {
          "output_type": "stream",
          "name": "stderr",
          "text": [
            "/usr/local/lib/python3.7/dist-packages/ipykernel_launcher.py:8: DeprecationWarning: Calling np.sum(generator) is deprecated, and in the future will give a different result. Use np.sum(np.fromiter(generator)) or the python sum builtin instead.\n",
            "  \n"
          ]
        }
      ]
    },
    {
      "cell_type": "code",
      "source": [
        "for c in X.columns:\n",
        "    new_entropy = proportionate_class_entropy(X[c], y)\n",
        "    print(\"%s %.2f\" % (c, entropy(y) - new_entropy))"
      ],
      "metadata": {
        "colab": {
          "base_uri": "https://localhost:8080/"
        },
        "id": "zM0ArZGgAuAj",
        "outputId": "95ab1c70-ffd8-4764-9eac-01900b470730"
      },
      "execution_count": 7,
      "outputs": [
        {
          "output_type": "stream",
          "name": "stderr",
          "text": [
            "/usr/local/lib/python3.7/dist-packages/ipykernel_launcher.py:8: DeprecationWarning: Calling np.sum(generator) is deprecated, and in the future will give a different result. Use np.sum(np.fromiter(generator)) or the python sum builtin instead.\n",
            "  \n"
          ]
        },
        {
          "output_type": "stream",
          "name": "stdout",
          "text": [
            "X1 0.02\n",
            "X2 0.00\n",
            "X3 0.00\n",
            "X4 0.00\n",
            "X5 0.00\n",
            "X6 0.11\n",
            "X7 0.07\n",
            "X8 0.05\n",
            "X9 0.05\n",
            "X10 0.04\n",
            "X11 0.04\n",
            "X12 0.58\n",
            "X13 0.57\n",
            "X14 0.57\n",
            "X15 0.56\n",
            "X16 0.54\n",
            "X17 0.53\n",
            "X18 0.20\n",
            "X19 0.19\n",
            "X20 0.19\n",
            "X21 0.17\n",
            "X22 0.17\n",
            "X23 0.17\n"
          ]
        }
      ]
    },
    {
      "cell_type": "code",
      "source": [
        "from sklearn.ensemble import RandomForestClassifier\n",
        "from sklearn.metrics import accuracy_score\n",
        "from sklearn.model_selection import train_test_split"
      ],
      "metadata": {
        "id": "p78lMjxxBAwp"
      },
      "execution_count": 8,
      "outputs": []
    },
    {
      "cell_type": "code",
      "source": [
        "X_train, X_test, y_train, y_test = train_test_split(X, y, test_size=0.2, random_state=42)"
      ],
      "metadata": {
        "id": "Z1HnS7djBCT2"
      },
      "execution_count": 9,
      "outputs": []
    },
    {
      "cell_type": "markdown",
      "source": [
        "SVD"
      ],
      "metadata": {
        "id": "ZvOJv4bLBF33"
      }
    },
    {
      "cell_type": "code",
      "source": [
        "import pandas as pd\n",
        "import numpy as np\n",
        "import matplotlib.pyplot as plt\n",
        "%matplotlib inline\n",
        "import seaborn as sns\n",
        "\n",
        "from sklearn.model_selection import train_test_split\n",
        "from sklearn.preprocessing import StandardScaler\n",
        "from sklearn.linear_model import LinearRegression\n",
        "from sklearn.ensemble import RandomForestClassifier\n",
        "from sklearn.decomposition import PCA, TruncatedSVD\n",
        "svd = TruncatedSVD(n_components = 6)\n",
        "svd.fit(X_train)\n",
        "svd_X = svd.transform(X_train)"
      ],
      "metadata": {
        "id": "QOOv_IPTBJ5Q"
      },
      "execution_count": 10,
      "outputs": []
    },
    {
      "cell_type": "code",
      "source": [
        "svd_X.shape"
      ],
      "metadata": {
        "colab": {
          "base_uri": "https://localhost:8080/"
        },
        "id": "YcN2cJt3BLxS",
        "outputId": "13f879cb-c4a2-4277-b442-7b5975a0b672"
      },
      "execution_count": 11,
      "outputs": [
        {
          "output_type": "execute_result",
          "data": {
            "text/plain": [
              "(24000, 6)"
            ]
          },
          "metadata": {},
          "execution_count": 11
        }
      ]
    },
    {
      "cell_type": "code",
      "source": [
        "svd_X_train, svd_X_test, svd_y_train, svd_y_test = train_test_split(svd_X, y_train, test_size = 0.2, random_state = 42)"
      ],
      "metadata": {
        "id": "8ZBocHqrBNL8"
      },
      "execution_count": 12,
      "outputs": []
    },
    {
      "cell_type": "code",
      "source": [
        "svd_lr = LinearRegression()\n",
        "\n",
        "# Train the model\n",
        "svd_model = svd_lr.fit(svd_X_train, svd_y_train)\n",
        "\n",
        "# Prediction\n",
        "pca_y_pred =  svd_lr.predict(svd_X_test)\n",
        "\n",
        "# Accuracy Score\n",
        "svd_lr.score(svd_X_test, pca_y_pred)"
      ],
      "metadata": {
        "colab": {
          "base_uri": "https://localhost:8080/"
        },
        "id": "_JmqaHfPBOee",
        "outputId": "385df333-58ad-4623-ac1d-3a4f0294b6d5"
      },
      "execution_count": 13,
      "outputs": [
        {
          "output_type": "execute_result",
          "data": {
            "text/plain": [
              "1.0"
            ]
          },
          "metadata": {},
          "execution_count": 13
        }
      ]
    },
    {
      "cell_type": "markdown",
      "source": [
        "SVM"
      ],
      "metadata": {
        "id": "Yqu64IwKBSE8"
      }
    },
    {
      "cell_type": "code",
      "source": [
        "from sklearn import svm\n",
        "from sklearn.svm import SVC"
      ],
      "metadata": {
        "id": "PnPB9xdaBPvr"
      },
      "execution_count": 14,
      "outputs": []
    },
    {
      "cell_type": "code",
      "source": [
        "svm = svm.SVC()\n",
        "svm.fit(svd_X_train, svd_y_train)\n",
        "svm.score(svd_X_train, svd_y_train)*100"
      ],
      "metadata": {
        "colab": {
          "base_uri": "https://localhost:8080/"
        },
        "id": "52MU6fEeBTNe",
        "outputId": "b947ed2d-47d2-45dd-aa30-0e892ab58c83"
      },
      "execution_count": 15,
      "outputs": [
        {
          "output_type": "execute_result",
          "data": {
            "text/plain": [
              "77.88020833333333"
            ]
          },
          "metadata": {},
          "execution_count": 15
        }
      ]
    },
    {
      "cell_type": "code",
      "source": [
        "svm_score = svm.score(svd_X_test, svd_y_test)*100\n",
        "print(\"SVM Accuracy:\", svm_score)"
      ],
      "metadata": {
        "colab": {
          "base_uri": "https://localhost:8080/"
        },
        "id": "Z9wtInwpBWNW",
        "outputId": "61dbf30a-e825-4c4d-8297-4f25f9d1d284"
      },
      "execution_count": 16,
      "outputs": [
        {
          "output_type": "stream",
          "name": "stdout",
          "text": [
            "SVM Accuracy: 77.60416666666666\n"
          ]
        }
      ]
    },
    {
      "cell_type": "markdown",
      "source": [
        "KNN"
      ],
      "metadata": {
        "id": "NCa5ti0BBXM2"
      }
    },
    {
      "cell_type": "code",
      "source": [
        "from sklearn.neighbors import KNeighborsClassifier\n",
        "from sklearn.metrics import accuracy_score\n",
        "knn = KNeighborsClassifier()\n",
        "classifier = KNeighborsClassifier(n_neighbors = 81)\n",
        "classifier.fit(svd_X_train, svd_y_train)\n",
        "knn.fit(svd_X_train, svd_y_train)"
      ],
      "metadata": {
        "colab": {
          "base_uri": "https://localhost:8080/"
        },
        "id": "Q2wP7Iy0BY8_",
        "outputId": "6710ff88-24e3-4cd0-f01a-db9e37647556"
      },
      "execution_count": 17,
      "outputs": [
        {
          "output_type": "execute_result",
          "data": {
            "text/plain": [
              "KNeighborsClassifier()"
            ]
          },
          "metadata": {},
          "execution_count": 17
        }
      ]
    },
    {
      "cell_type": "code",
      "source": [
        "score = knn.score(svd_X_test, svd_y_test)\n",
        "print(\"KNN Algorithm Score:\", score*100)"
      ],
      "metadata": {
        "colab": {
          "base_uri": "https://localhost:8080/"
        },
        "id": "wrAuwqIHBaSC",
        "outputId": "dfba790b-7dba-4954-d8fb-34e5d5438e1c"
      },
      "execution_count": 18,
      "outputs": [
        {
          "output_type": "stream",
          "name": "stdout",
          "text": [
            "KNN Algorithm Score: 75.25\n"
          ]
        }
      ]
    },
    {
      "cell_type": "markdown",
      "source": [
        "DT"
      ],
      "metadata": {
        "id": "DQkhSihSBbfo"
      }
    },
    {
      "cell_type": "code",
      "source": [
        "from sklearn.tree import DecisionTreeClassifier\n",
        "dclf = DecisionTreeClassifier()\n",
        "dclf.fit(svd_X_train, svd_y_train)"
      ],
      "metadata": {
        "colab": {
          "base_uri": "https://localhost:8080/"
        },
        "id": "Y_w-Q2rpBc44",
        "outputId": "61301dac-54d5-4e56-fbd6-a145f93a3ddc"
      },
      "execution_count": 19,
      "outputs": [
        {
          "output_type": "execute_result",
          "data": {
            "text/plain": [
              "DecisionTreeClassifier()"
            ]
          },
          "metadata": {},
          "execution_count": 19
        }
      ]
    },
    {
      "cell_type": "code",
      "source": [
        "j=dclf.score(svd_X_test, svd_y_test)\n",
        "print(\"Decision Tree Algorithm Score:\",j*100)"
      ],
      "metadata": {
        "colab": {
          "base_uri": "https://localhost:8080/"
        },
        "id": "cee2zT8wBeQJ",
        "outputId": "fb556815-994e-4091-9817-85906f6df40b"
      },
      "execution_count": 20,
      "outputs": [
        {
          "output_type": "stream",
          "name": "stdout",
          "text": [
            "Decision Tree Algorithm Score: 68.75\n"
          ]
        }
      ]
    },
    {
      "cell_type": "markdown",
      "source": [
        "RF"
      ],
      "metadata": {
        "id": "2Ivb1j2rBe8i"
      }
    },
    {
      "cell_type": "code",
      "source": [
        "def run_randomForest(svd_X_train, svd_y_train,svd_X_test, svd_y_test):\n",
        "    clf = RandomForestClassifier(n_estimators= 100, random_state = 42, n_jobs = -1)\n",
        "    clf.fit(svd_X_train, svd_y_train)\n",
        "    y_pred = clf.predict(svd_X_test)\n",
        "    score = accuracy_score(svd_y_test,y_pred)*100\n",
        "    print(\"Random Forest Accuracy:\", score)"
      ],
      "metadata": {
        "id": "hJ0ja-PnBfqp"
      },
      "execution_count": 21,
      "outputs": []
    },
    {
      "cell_type": "code",
      "source": [
        "run_randomForest(svd_X_train, svd_y_train,svd_X_test, svd_y_test)"
      ],
      "metadata": {
        "colab": {
          "base_uri": "https://localhost:8080/"
        },
        "id": "oLXPXo-KBh4E",
        "outputId": "c46b2e31-f3e9-4011-b2df-480a4b4f6375"
      },
      "execution_count": 22,
      "outputs": [
        {
          "output_type": "stream",
          "name": "stdout",
          "text": [
            "Random Forest Accuracy: 77.5625\n"
          ]
        }
      ]
    },
    {
      "cell_type": "markdown",
      "source": [
        "LR"
      ],
      "metadata": {
        "id": "vx-7JPPuBitT"
      }
    },
    {
      "cell_type": "code",
      "source": [
        "from sklearn.linear_model import LogisticRegression\n",
        "model = LogisticRegression()\n",
        "model.fit(svd_X_train, svd_y_train)\n",
        "lr = model.score(svd_X_test, svd_y_test)*100\n",
        "print(\"Logistic Regression Accuracy:\", lr)"
      ],
      "metadata": {
        "colab": {
          "base_uri": "https://localhost:8080/"
        },
        "id": "XGHQCD-NBjrM",
        "outputId": "bc19ccf4-d37f-4351-f396-641c6527f247"
      },
      "execution_count": 23,
      "outputs": [
        {
          "output_type": "stream",
          "name": "stdout",
          "text": [
            "Logistic Regression Accuracy: 77.60416666666666\n"
          ]
        }
      ]
    }
  ]
}