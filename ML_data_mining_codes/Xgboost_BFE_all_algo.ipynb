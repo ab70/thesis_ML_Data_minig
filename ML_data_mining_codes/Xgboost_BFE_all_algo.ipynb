{
  "nbformat": 4,
  "nbformat_minor": 0,
  "metadata": {
    "colab": {
      "name": "Xgboost_BFE_all_algo.ipynb",
      "provenance": []
    },
    "kernelspec": {
      "name": "python3",
      "display_name": "Python 3"
    },
    "language_info": {
      "name": "python"
    }
  },
  "cells": [
    {
      "cell_type": "code",
      "execution_count": 2,
      "metadata": {
        "id": "QWr88YxH5yTE"
      },
      "outputs": [],
      "source": [
        "import numpy as np\n",
        "import pandas as pd\n",
        "\n",
        "from sklearn.datasets import load_boston\n",
        "from sklearn.model_selection import train_test_split\n",
        "from sklearn.inspection import permutation_importance\n",
        "from matplotlib import pyplot as plt\n",
        "import seaborn as sns # for correlation heatmap\n",
        "from sklearn.ensemble import RandomForestClassifier\n",
        "from sklearn.tree import DecisionTreeClassifier\n",
        "\n",
        "from xgboost import XGBRegressor"
      ]
    },
    {
      "cell_type": "code",
      "source": [
        "boston = pd.read_csv('p2_mod.csv')\n",
        "X = boston.drop(columns='Y', axis=1)\n",
        "Y = boston['Y']\n",
        "print(X)\n",
        "# X_train, X_test, y_train, y_test = train_test_split(X, y, test_size=0.25, random_state=12)"
      ],
      "metadata": {
        "colab": {
          "base_uri": "https://localhost:8080/"
        },
        "id": "wsxmoElR6JfU",
        "outputId": "ade64d1f-f6a4-4754-f36b-5e11ba64948a"
      },
      "execution_count": 3,
      "outputs": [
        {
          "output_type": "stream",
          "name": "stdout",
          "text": [
            "           X1  X2  X3  X4  X5  X6  X7  X8  X9  X10  ...     X14    X15    X16  \\\n",
            "0       20000   2   2   1  24   2   2  -1  -1   -2  ...     689      0      0   \n",
            "1      120000   2   2   2  26  -1   2   0   0    0  ...    2682   3272   3455   \n",
            "2       90000   2   2   2  34   0   0   0   0    0  ...   13559  14331  14948   \n",
            "3       50000   2   2   1  37   0   0   0   0    0  ...   49291  28314  28959   \n",
            "4       50000   1   2   1  57  -1   0  -1   0    0  ...   35835  20940  19146   \n",
            "...       ...  ..  ..  ..  ..  ..  ..  ..  ..  ...  ...     ...    ...    ...   \n",
            "29995  220000   1   3   1  39   0   0   0   0    0  ...  208365  88004  31237   \n",
            "29996  150000   1   3   2  43  -1  -1  -1  -1    0  ...    3502   8979   5190   \n",
            "29997   30000   1   2   2  37   4   3   2  -1    0  ...    2758  20878  20582   \n",
            "29998   80000   1   3   1  41   1  -1   0   0    0  ...   76304  52774  11855   \n",
            "29999   50000   1   2   1  46   0   0   0   0    0  ...   49764  36535  32428   \n",
            "\n",
            "         X17    X18    X19    X20   X21    X22   X23  \n",
            "0          0      0    689      0     0      0     0  \n",
            "1       3261      0   1000   1000  1000      0  2000  \n",
            "2      15549   1518   1500   1000  1000   1000  5000  \n",
            "3      29547   2000   2019   1200  1100   1069  1000  \n",
            "4      19131   2000  36681  10000  9000    689   679  \n",
            "...      ...    ...    ...    ...   ...    ...   ...  \n",
            "29995  15980   8500  20000   5003  3047   5000  1000  \n",
            "29996      0   1837   3526   8998   129      0     0  \n",
            "29997  19357      0      0  22000  4200   2000  3100  \n",
            "29998  48944  85900   3409   1178  1926  52964  1804  \n",
            "29999  15313   2078   1800   1430  1000   1000  1000  \n",
            "\n",
            "[30000 rows x 23 columns]\n"
          ]
        }
      ]
    },
    {
      "cell_type": "code",
      "source": [
        "print(Y)"
      ],
      "metadata": {
        "colab": {
          "base_uri": "https://localhost:8080/"
        },
        "id": "KtAiZqqy6drW",
        "outputId": "63f2c4c4-9fcb-46df-ea85-6f4759b4c483"
      },
      "execution_count": 4,
      "outputs": [
        {
          "output_type": "stream",
          "name": "stdout",
          "text": [
            "0        1\n",
            "1        1\n",
            "2        0\n",
            "3        0\n",
            "4        0\n",
            "        ..\n",
            "29995    0\n",
            "29996    0\n",
            "29997    1\n",
            "29998    1\n",
            "29999    1\n",
            "Name: Y, Length: 30000, dtype: int64\n"
          ]
        }
      ]
    },
    {
      "cell_type": "code",
      "source": [
        "X_train, X_test, y_train, y_test = train_test_split(X, Y, test_size=0.25, random_state=12)"
      ],
      "metadata": {
        "id": "PhQjurZW6h-4"
      },
      "execution_count": 5,
      "outputs": []
    },
    {
      "cell_type": "code",
      "source": [
        "xgb = XGBRegressor(n_estimators=100)\n",
        "xgb.fit(X_train, y_train)"
      ],
      "metadata": {
        "colab": {
          "base_uri": "https://localhost:8080/"
        },
        "id": "4EhXESG-6jiQ",
        "outputId": "7cd87880-45a8-4d24-cd15-7dc33dd565fd"
      },
      "execution_count": 6,
      "outputs": [
        {
          "output_type": "stream",
          "name": "stdout",
          "text": [
            "[08:35:02] WARNING: /workspace/src/objective/regression_obj.cu:152: reg:linear is now deprecated in favor of reg:squarederror.\n"
          ]
        },
        {
          "output_type": "execute_result",
          "data": {
            "text/plain": [
              "XGBRegressor()"
            ]
          },
          "metadata": {},
          "execution_count": 6
        }
      ]
    },
    {
      "cell_type": "code",
      "source": [
        "xgb.feature_importances_"
      ],
      "metadata": {
        "colab": {
          "base_uri": "https://localhost:8080/"
        },
        "id": "du-dS16v6k-Z",
        "outputId": "7b597c91-df88-4cbb-a031-4f3868735acd"
      },
      "execution_count": 7,
      "outputs": [
        {
          "output_type": "execute_result",
          "data": {
            "text/plain": [
              "array([0.01513778, 0.00834296, 0.01314037, 0.00878722, 0.00758466,\n",
              "       0.44551325, 0.13677213, 0.04899508, 0.06273374, 0.04264376,\n",
              "       0.03121655, 0.01728265, 0.00936145, 0.00913361, 0.00795344,\n",
              "       0.00879614, 0.01008987, 0.02197303, 0.01800228, 0.02911551,\n",
              "       0.02117017, 0.01164002, 0.01461437], dtype=float32)"
            ]
          },
          "metadata": {},
          "execution_count": 7
        }
      ]
    },
    {
      "cell_type": "code",
      "source": [
        "perm_importance = permutation_importance(xgb, X_test, y_test)"
      ],
      "metadata": {
        "id": "8BbIMjd06mi8"
      },
      "execution_count": 8,
      "outputs": []
    },
    {
      "cell_type": "code",
      "source": [
        "sorted_idx = perm_importance.importances_mean.argsort()\n",
        "plt.barh(boston.columns[sorted_idx], perm_importance.importances_mean[sorted_idx])\n",
        "plt.xlabel(\"Permutation Importance\")"
      ],
      "metadata": {
        "colab": {
          "base_uri": "https://localhost:8080/",
          "height": 296
        },
        "id": "sbID13uL6oRy",
        "outputId": "a74d3859-1f6a-4664-ba89-e3b13559e71e"
      },
      "execution_count": 9,
      "outputs": [
        {
          "output_type": "execute_result",
          "data": {
            "text/plain": [
              "Text(0.5, 0, 'Permutation Importance')"
            ]
          },
          "metadata": {},
          "execution_count": 9
        },
        {
          "output_type": "display_data",
          "data": {
            "text/plain": [
              "<Figure size 432x288 with 1 Axes>"
            ],
            "image/png": "[encoded data removed]"
          },
          "metadata": {
            "needs_background": "light"
          }
        }
      ]
    },
    {
      "cell_type": "code",
      "source": [
        "select = [\"X6\",\"X7\", \"X12\", \"X1\", \"X8\", \"X9\", \"X20\", \"X10\",\"X18\", \"X19\",\"Y\"]\n",
        "new_df = boston[select]"
      ],
      "metadata": {
        "id": "RbQhFP4K6umk"
      },
      "execution_count": 10,
      "outputs": []
    },
    {
      "cell_type": "code",
      "source": [
        "# x= boston.iloc[:,0:11].values\n",
        "# y= boston.iloc[:,11].values\n",
        "x = new_df.drop(columns='Y', axis=1)\n",
        "y = new_df['Y']"
      ],
      "metadata": {
        "id": "yNz1dMEu6wNG"
      },
      "execution_count": 11,
      "outputs": []
    },
    {
      "cell_type": "code",
      "source": [
        "print(x)"
      ],
      "metadata": {
        "colab": {
          "base_uri": "https://localhost:8080/"
        },
        "id": "3HZJSSTb6xp-",
        "outputId": "edf3cee1-7178-40e6-d228-3a6c359786b6"
      },
      "execution_count": 12,
      "outputs": [
        {
          "output_type": "stream",
          "name": "stdout",
          "text": [
            "       X6  X7     X12      X1  X8  X9    X20  X10    X18    X19\n",
            "0       2   2    3913   20000  -1  -1      0   -2      0    689\n",
            "1      -1   2    2682  120000   0   0   1000    0      0   1000\n",
            "2       0   0   29239   90000   0   0   1000    0   1518   1500\n",
            "3       0   0   46990   50000   0   0   1200    0   2000   2019\n",
            "4      -1   0    8617   50000  -1   0  10000    0   2000  36681\n",
            "...    ..  ..     ...     ...  ..  ..    ...  ...    ...    ...\n",
            "29995   0   0  188948  220000   0   0   5003    0   8500  20000\n",
            "29996  -1  -1    1683  150000  -1  -1   8998    0   1837   3526\n",
            "29997   4   3    3565   30000   2  -1  22000    0      0      0\n",
            "29998   1  -1   -1645   80000   0   0   1178    0  85900   3409\n",
            "29999   0   0   47929   50000   0   0   1430    0   2078   1800\n",
            "\n",
            "[30000 rows x 10 columns]\n"
          ]
        }
      ]
    },
    {
      "cell_type": "code",
      "source": [
        "X_train, X_test, y_train, y_test = train_test_split(x, y, test_size=0.2, random_state=42)"
      ],
      "metadata": {
        "id": "e28BGe2867rb"
      },
      "execution_count": 13,
      "outputs": []
    },
    {
      "cell_type": "code",
      "source": [
        "from sklearn.preprocessing import StandardScaler\n",
        "scaler = StandardScaler()\n",
        "scaler.fit(X_train)\n",
        "X_train = scaler.transform(X_train)\n",
        "X_test = scaler.transform(X_test)"
      ],
      "metadata": {
        "id": "iFvezn9w7Byu"
      },
      "execution_count": 14,
      "outputs": []
    },
    {
      "cell_type": "markdown",
      "source": [
        "BFE"
      ],
      "metadata": {
        "id": "GPT5M2eH7DkI"
      }
    },
    {
      "cell_type": "code",
      "source": [
        "!pip install mlxtend"
      ],
      "metadata": {
        "colab": {
          "base_uri": "https://localhost:8080/"
        },
        "id": "TsvHER5i7Fwn",
        "outputId": "a3056019-9264-45e6-f706-9166619f1cc2"
      },
      "execution_count": 15,
      "outputs": [
        {
          "output_type": "stream",
          "name": "stdout",
          "text": [
            "Requirement already satisfied: mlxtend in /usr/local/lib/python3.7/dist-packages (0.14.0)\n",
            "Requirement already satisfied: numpy>=1.10.4 in /usr/local/lib/python3.7/dist-packages (from mlxtend) (1.21.5)\n",
            "Requirement already satisfied: pandas>=0.17.1 in /usr/local/lib/python3.7/dist-packages (from mlxtend) (1.3.5)\n",
            "Requirement already satisfied: setuptools in /usr/local/lib/python3.7/dist-packages (from mlxtend) (57.4.0)\n",
            "Requirement already satisfied: matplotlib>=1.5.1 in /usr/local/lib/python3.7/dist-packages (from mlxtend) (3.2.2)\n",
            "Requirement already satisfied: scikit-learn>=0.18 in /usr/local/lib/python3.7/dist-packages (from mlxtend) (1.0.2)\n",
            "Requirement already satisfied: scipy>=0.17 in /usr/local/lib/python3.7/dist-packages (from mlxtend) (1.4.1)\n",
            "Requirement already satisfied: cycler>=0.10 in /usr/local/lib/python3.7/dist-packages (from matplotlib>=1.5.1->mlxtend) (0.11.0)\n",
            "Requirement already satisfied: pyparsing!=2.0.4,!=2.1.2,!=2.1.6,>=2.0.1 in /usr/local/lib/python3.7/dist-packages (from matplotlib>=1.5.1->mlxtend) (3.0.7)\n",
            "Requirement already satisfied: python-dateutil>=2.1 in /usr/local/lib/python3.7/dist-packages (from matplotlib>=1.5.1->mlxtend) (2.8.2)\n",
            "Requirement already satisfied: kiwisolver>=1.0.1 in /usr/local/lib/python3.7/dist-packages (from matplotlib>=1.5.1->mlxtend) (1.4.0)\n",
            "Requirement already satisfied: typing-extensions in /usr/local/lib/python3.7/dist-packages (from kiwisolver>=1.0.1->matplotlib>=1.5.1->mlxtend) (3.10.0.2)\n",
            "Requirement already satisfied: pytz>=2017.3 in /usr/local/lib/python3.7/dist-packages (from pandas>=0.17.1->mlxtend) (2018.9)\n",
            "Requirement already satisfied: six>=1.5 in /usr/local/lib/python3.7/dist-packages (from python-dateutil>=2.1->matplotlib>=1.5.1->mlxtend) (1.15.0)\n",
            "Requirement already satisfied: threadpoolctl>=2.0.0 in /usr/local/lib/python3.7/dist-packages (from scikit-learn>=0.18->mlxtend) (3.1.0)\n",
            "Requirement already satisfied: joblib>=0.11 in /usr/local/lib/python3.7/dist-packages (from scikit-learn>=0.18->mlxtend) (1.1.0)\n"
          ]
        }
      ]
    },
    {
      "cell_type": "code",
      "source": [
        "import six\n",
        "import sys\n",
        "sys.modules['sklearn.externals.six'] = six\n",
        "#import mlrose\n",
        "import joblib\n",
        "sys.modules['sklearn.externals.joblib'] = joblib\n",
        "import seaborn as sns\n",
        "import joblib\n",
        "from mlxtend.feature_selection import SequentialFeatureSelector as SFS\n",
        "from sklearn.neighbors import KNeighborsClassifier as knn\n",
        "from sklearn.linear_model import LogisticRegression as LGR\n",
        "from sklearn.ensemble import RandomForestClassifier as rfc\n",
        "from mlxtend.plotting import plot_sequential_feature_selection as plot_sfs"
      ],
      "metadata": {
        "id": "2wQeXxet7PNd"
      },
      "execution_count": 16,
      "outputs": []
    },
    {
      "cell_type": "code",
      "source": [
        "sbs = SFS(#knn(n_neighbors=3),\n",
        "           #rfc(n_jobs=8),\n",
        "           LGR(max_iter=4000),\n",
        "           k_features='best', \n",
        "           forward=False, \n",
        "           floating=False, \n",
        "           verbose=2,\n",
        "           #scoring = 'neg_mean_squared_error',  # sklearn regressors\n",
        "           scoring='accuracy',  # sklearn classifiers\n",
        "           cv=3)\n",
        "sbs = sbs.fit(X_train, y_train)"
      ],
      "metadata": {
        "colab": {
          "base_uri": "https://localhost:8080/"
        },
        "id": "NrK5u-mu7SCe",
        "outputId": "b1c07bc3-6764-4efb-9217-02f3059eed89"
      },
      "execution_count": 17,
      "outputs": [
        {
          "output_type": "stream",
          "name": "stderr",
          "text": [
            "[Parallel(n_jobs=1)]: Using backend SequentialBackend with 1 concurrent workers.\n",
            "[Parallel(n_jobs=1)]: Done   1 out of   1 | elapsed:    0.3s remaining:    0.0s\n",
            "[Parallel(n_jobs=1)]: Done  10 out of  10 | elapsed:    3.4s finished\n",
            "\n",
            "[2022-03-23 08:38:46] Features: 9/1 -- score: 0.8102083333333333[Parallel(n_jobs=1)]: Using backend SequentialBackend with 1 concurrent workers.\n",
            "[Parallel(n_jobs=1)]: Done   1 out of   1 | elapsed:    0.4s remaining:    0.0s\n",
            "[Parallel(n_jobs=1)]: Done   9 out of   9 | elapsed:    1.8s finished\n",
            "\n",
            "[2022-03-23 08:38:48] Features: 8/1 -- score: 0.8104166666666667[Parallel(n_jobs=1)]: Using backend SequentialBackend with 1 concurrent workers.\n",
            "[Parallel(n_jobs=1)]: Done   1 out of   1 | elapsed:    0.1s remaining:    0.0s\n",
            "[Parallel(n_jobs=1)]: Done   8 out of   8 | elapsed:    1.1s finished\n",
            "\n",
            "[2022-03-23 08:38:49] Features: 7/1 -- score: 0.8106249999999999[Parallel(n_jobs=1)]: Using backend SequentialBackend with 1 concurrent workers.\n",
            "[Parallel(n_jobs=1)]: Done   1 out of   1 | elapsed:    0.1s remaining:    0.0s\n",
            "[Parallel(n_jobs=1)]: Done   7 out of   7 | elapsed:    0.9s finished\n",
            "\n",
            "[2022-03-23 08:38:49] Features: 6/1 -- score: 0.8105833333333333[Parallel(n_jobs=1)]: Using backend SequentialBackend with 1 concurrent workers.\n",
            "[Parallel(n_jobs=1)]: Done   1 out of   1 | elapsed:    0.1s remaining:    0.0s\n",
            "[Parallel(n_jobs=1)]: Done   6 out of   6 | elapsed:    0.7s finished\n",
            "\n",
            "[2022-03-23 08:38:50] Features: 5/1 -- score: 0.8110416666666667[Parallel(n_jobs=1)]: Using backend SequentialBackend with 1 concurrent workers.\n",
            "[Parallel(n_jobs=1)]: Done   1 out of   1 | elapsed:    0.1s remaining:    0.0s\n",
            "[Parallel(n_jobs=1)]: Done   5 out of   5 | elapsed:    0.5s finished\n",
            "\n",
            "[2022-03-23 08:38:51] Features: 4/1 -- score: 0.8115833333333334[Parallel(n_jobs=1)]: Using backend SequentialBackend with 1 concurrent workers.\n",
            "[Parallel(n_jobs=1)]: Done   1 out of   1 | elapsed:    0.1s remaining:    0.0s\n",
            "[Parallel(n_jobs=1)]: Done   4 out of   4 | elapsed:    0.3s finished\n",
            "\n",
            "[2022-03-23 08:38:51] Features: 3/1 -- score: 0.8131666666666666[Parallel(n_jobs=1)]: Using backend SequentialBackend with 1 concurrent workers.\n",
            "[Parallel(n_jobs=1)]: Done   1 out of   1 | elapsed:    0.1s remaining:    0.0s\n",
            "[Parallel(n_jobs=1)]: Done   3 out of   3 | elapsed:    0.2s finished\n",
            "\n",
            "[2022-03-23 08:38:51] Features: 2/1 -- score: 0.8122083333333333[Parallel(n_jobs=1)]: Using backend SequentialBackend with 1 concurrent workers.\n",
            "[Parallel(n_jobs=1)]: Done   1 out of   1 | elapsed:    0.1s remaining:    0.0s\n",
            "[Parallel(n_jobs=1)]: Done   2 out of   2 | elapsed:    0.1s finished\n",
            "\n",
            "[2022-03-23 08:38:51] Features: 1/1 -- score: 0.8196666666666667"
          ]
        }
      ]
    },
    {
      "cell_type": "code",
      "source": [
        "sbs.k_feature_idx_"
      ],
      "metadata": {
        "colab": {
          "base_uri": "https://localhost:8080/"
        },
        "id": "x7kWkSIL7gdD",
        "outputId": "663f6f73-67c1-47c5-bc16-7fdeda5c102b"
      },
      "execution_count": 18,
      "outputs": [
        {
          "output_type": "execute_result",
          "data": {
            "text/plain": [
              "(0,)"
            ]
          },
          "metadata": {},
          "execution_count": 18
        }
      ]
    },
    {
      "cell_type": "code",
      "source": [
        "df = pd.DataFrame.from_dict(sbs.get_metric_dict()).T\n",
        "df = df[[\"feature_idx\",\"avg_score\"]]"
      ],
      "metadata": {
        "id": "fgMOBasW7tip"
      },
      "execution_count": 19,
      "outputs": []
    },
    {
      "cell_type": "code",
      "source": [
        "df"
      ],
      "metadata": {
        "colab": {
          "base_uri": "https://localhost:8080/",
          "height": 363
        },
        "id": "YYYiaIAi7wii",
        "outputId": "517b6c97-e612-424d-f6c0-a9f6cd512060"
      },
      "execution_count": 20,
      "outputs": [
        {
          "output_type": "execute_result",
          "data": {
            "text/plain": [
              "                       feature_idx avg_score\n",
              "10  (0, 1, 2, 3, 4, 5, 6, 7, 8, 9)  0.810042\n",
              "9      (0, 1, 2, 3, 4, 5, 6, 7, 9)  0.810208\n",
              "8         (0, 1, 2, 3, 4, 5, 7, 9)  0.810417\n",
              "7            (0, 1, 2, 3, 5, 7, 9)  0.810625\n",
              "6               (0, 1, 2, 3, 5, 7)  0.810583\n",
              "5                  (0, 2, 3, 5, 7)  0.811042\n",
              "4                     (0, 3, 5, 7)  0.811583\n",
              "3                        (0, 3, 7)  0.813167\n",
              "2                           (0, 3)  0.812208\n",
              "1                             (0,)  0.819667"
            ],
            "text/html": [
              "\n",
              "  <div id=\"df-e3bf4906-3cfe-49d0-b955-d44078ee62dd\">\n",
              "    <div class=\"colab-df-container\">\n",
              "      <div>\n",
              "<style scoped>\n",
              "    .dataframe tbody tr th:only-of-type {\n",
              "        vertical-align: middle;\n",
              "    }\n",
              "\n",
              "    .dataframe tbody tr th {\n",
              "        vertical-align: top;\n",
              "    }\n",
              "\n",
              "    .dataframe thead th {\n",
              "        text-align: right;\n",
              "    }\n",
              "</style>\n",
              "<table border=\"1\" class=\"dataframe\">\n",
              "  <thead>\n",
              "    <tr style=\"text-align: right;\">\n",
              "      <th></th>\n",
              "      <th>feature_idx</th>\n",
              "      <th>avg_score</th>\n",
              "    </tr>\n",
              "  </thead>\n",
              "  <tbody>\n",
              "    <tr>\n",
              "      <th>10</th>\n",
              "      <td>(0, 1, 2, 3, 4, 5, 6, 7, 8, 9)</td>\n",
              "      <td>0.810042</td>\n",
              "    </tr>\n",
              "    <tr>\n",
              "      <th>9</th>\n",
              "      <td>(0, 1, 2, 3, 4, 5, 6, 7, 9)</td>\n",
              "      <td>0.810208</td>\n",
              "    </tr>\n",
              "    <tr>\n",
              "      <th>8</th>\n",
              "      <td>(0, 1, 2, 3, 4, 5, 7, 9)</td>\n",
              "      <td>0.810417</td>\n",
              "    </tr>\n",
              "    <tr>\n",
              "      <th>7</th>\n",
              "      <td>(0, 1, 2, 3, 5, 7, 9)</td>\n",
              "      <td>0.810625</td>\n",
              "    </tr>\n",
              "    <tr>\n",
              "      <th>6</th>\n",
              "      <td>(0, 1, 2, 3, 5, 7)</td>\n",
              "      <td>0.810583</td>\n",
              "    </tr>\n",
              "    <tr>\n",
              "      <th>5</th>\n",
              "      <td>(0, 2, 3, 5, 7)</td>\n",
              "      <td>0.811042</td>\n",
              "    </tr>\n",
              "    <tr>\n",
              "      <th>4</th>\n",
              "      <td>(0, 3, 5, 7)</td>\n",
              "      <td>0.811583</td>\n",
              "    </tr>\n",
              "    <tr>\n",
              "      <th>3</th>\n",
              "      <td>(0, 3, 7)</td>\n",
              "      <td>0.813167</td>\n",
              "    </tr>\n",
              "    <tr>\n",
              "      <th>2</th>\n",
              "      <td>(0, 3)</td>\n",
              "      <td>0.812208</td>\n",
              "    </tr>\n",
              "    <tr>\n",
              "      <th>1</th>\n",
              "      <td>(0,)</td>\n",
              "      <td>0.819667</td>\n",
              "    </tr>\n",
              "  </tbody>\n",
              "</table>\n",
              "</div>\n",
              "      <button class=\"colab-df-convert\" onclick=\"convertToInteractive('df-e3bf4906-3cfe-49d0-b955-d44078ee62dd')\"\n",
              "              title=\"Convert this dataframe to an interactive table.\"\n",
              "              style=\"display:none;\">\n",
              "        \n",
              "  <svg xmlns=\"http://www.w3.org/2000/svg\" height=\"24px\"viewBox=\"0 0 24 24\"\n",
              "       width=\"24px\">\n",
              "    <path d=\"M0 0h24v24H0V0z\" fill=\"none\"/>\n",
              "    <path d=\"M18.56 5.44l.94 2.06.94-2.06 2.06-.94-2.06-.94-.94-2.06-.94 2.06-2.06.94zm-11 1L8.5 8.5l.94-2.06 2.06-.94-2.06-.94L8.5 2.5l-.94 2.06-2.06.94zm10 10l.94 2.06.94-2.06 2.06-.94-2.06-.94-.94-2.06-.94 2.06-2.06.94z\"/><path d=\"M17.41 7.96l-1.37-1.37c-.4-.4-.92-.59-1.43-.59-.52 0-1.04.2-1.43.59L10.3 9.45l-7.72 7.72c-.78.78-.78 2.05 0 2.83L4 21.41c.39.39.9.59 1.41.59.51 0 1.02-.2 1.41-.59l7.78-7.78 2.81-2.81c.8-.78.8-2.07 0-2.86zM5.41 20L4 18.59l7.72-7.72 1.47 1.35L5.41 20z\"/>\n",
              "  </svg>\n",
              "      </button>\n",
              "      \n",
              "  <style>\n",
              "    .colab-df-container {\n",
              "      display:flex;\n",
              "      flex-wrap:wrap;\n",
              "      gap: 12px;\n",
              "    }\n",
              "\n",
              "    .colab-df-convert {\n",
              "      background-color: #E8F0FE;\n",
              "      border: none;\n",
              "      border-radius: 50%;\n",
              "      cursor: pointer;\n",
              "      display: none;\n",
              "      fill: #1967D2;\n",
              "      height: 32px;\n",
              "      padding: 0 0 0 0;\n",
              "      width: 32px;\n",
              "    }\n",
              "\n",
              "    .colab-df-convert:hover {\n",
              "      background-color: #E2EBFA;\n",
              "      box-shadow: 0px 1px 2px rgba(60, 64, 67, 0.3), 0px 1px 3px 1px rgba(60, 64, 67, 0.15);\n",
              "      fill: #174EA6;\n",
              "    }\n",
              "\n",
              "    [theme=dark] .colab-df-convert {\n",
              "      background-color: #3B4455;\n",
              "      fill: #D2E3FC;\n",
              "    }\n",
              "\n",
              "    [theme=dark] .colab-df-convert:hover {\n",
              "      background-color: #434B5C;\n",
              "      box-shadow: 0px 1px 3px 1px rgba(0, 0, 0, 0.15);\n",
              "      filter: drop-shadow(0px 1px 2px rgba(0, 0, 0, 0.3));\n",
              "      fill: #FFFFFF;\n",
              "    }\n",
              "  </style>\n",
              "\n",
              "      <script>\n",
              "        const buttonEl =\n",
              "          document.querySelector('#df-e3bf4906-3cfe-49d0-b955-d44078ee62dd button.colab-df-convert');\n",
              "        buttonEl.style.display =\n",
              "          google.colab.kernel.accessAllowed ? 'block' : 'none';\n",
              "\n",
              "        async function convertToInteractive(key) {\n",
              "          const element = document.querySelector('#df-e3bf4906-3cfe-49d0-b955-d44078ee62dd');\n",
              "          const dataTable =\n",
              "            await google.colab.kernel.invokeFunction('convertToInteractive',\n",
              "                                                     [key], {});\n",
              "          if (!dataTable) return;\n",
              "\n",
              "          const docLinkHtml = 'Like what you see? Visit the ' +\n",
              "            '<a target=\"_blank\" href=https://colab.research.google.com/notebooks/data_table.ipynb>data table notebook</a>'\n",
              "            + ' to learn more about interactive tables.';\n",
              "          element.innerHTML = '';\n",
              "          dataTable['output_type'] = 'display_data';\n",
              "          await google.colab.output.renderOutput(dataTable, element);\n",
              "          const docLink = document.createElement('div');\n",
              "          docLink.innerHTML = docLinkHtml;\n",
              "          element.appendChild(docLink);\n",
              "        }\n",
              "      </script>\n",
              "    </div>\n",
              "  </div>\n",
              "  "
            ]
          },
          "metadata": {},
          "execution_count": 20
        }
      ]
    },
    {
      "cell_type": "code",
      "source": [
        "sbs.subsets_"
      ],
      "metadata": {
        "colab": {
          "base_uri": "https://localhost:8080/"
        },
        "id": "tdkFPIMj71pV",
        "outputId": "2b37f73e-97c9-413e-db1a-01f10acd072d"
      },
      "execution_count": 21,
      "outputs": [
        {
          "output_type": "execute_result",
          "data": {
            "text/plain": [
              "{1: {'avg_score': 0.8196666666666667,\n",
              "  'cv_scores': array([0.823625, 0.819125, 0.81625 ]),\n",
              "  'feature_idx': (0,),\n",
              "  'feature_names': ('0',)},\n",
              " 2: {'avg_score': 0.8122083333333333,\n",
              "  'cv_scores': array([0.813375, 0.81075 , 0.8125  ]),\n",
              "  'feature_idx': (0, 3),\n",
              "  'feature_names': ('0', '3')},\n",
              " 3: {'avg_score': 0.8131666666666666,\n",
              "  'cv_scores': array([0.8135  , 0.812375, 0.813625]),\n",
              "  'feature_idx': (0, 3, 7),\n",
              "  'feature_names': ('0', '3', '7')},\n",
              " 4: {'avg_score': 0.8115833333333334,\n",
              "  'cv_scores': array([0.809625, 0.812125, 0.813   ]),\n",
              "  'feature_idx': (0, 3, 5, 7),\n",
              "  'feature_names': ('0', '3', '5', '7')},\n",
              " 5: {'avg_score': 0.8110416666666667,\n",
              "  'cv_scores': array([0.810375, 0.811875, 0.810875]),\n",
              "  'feature_idx': (0, 2, 3, 5, 7),\n",
              "  'feature_names': ('0', '2', '3', '5', '7')},\n",
              " 6: {'avg_score': 0.8105833333333333,\n",
              "  'cv_scores': array([0.81    , 0.811625, 0.810125]),\n",
              "  'feature_idx': (0, 1, 2, 3, 5, 7),\n",
              "  'feature_names': ('0', '1', '2', '3', '5', '7')},\n",
              " 7: {'avg_score': 0.8106249999999999,\n",
              "  'cv_scores': array([0.809375, 0.811375, 0.811125]),\n",
              "  'feature_idx': (0, 1, 2, 3, 5, 7, 9),\n",
              "  'feature_names': ('0', '1', '2', '3', '5', '7', '9')},\n",
              " 8: {'avg_score': 0.8104166666666667,\n",
              "  'cv_scores': array([0.808875, 0.810625, 0.81175 ]),\n",
              "  'feature_idx': (0, 1, 2, 3, 4, 5, 7, 9),\n",
              "  'feature_names': ('0', '1', '2', '3', '4', '5', '7', '9')},\n",
              " 9: {'avg_score': 0.8102083333333333,\n",
              "  'cv_scores': array([0.8085  , 0.810625, 0.8115  ]),\n",
              "  'feature_idx': (0, 1, 2, 3, 4, 5, 6, 7, 9),\n",
              "  'feature_names': ('0', '1', '2', '3', '4', '5', '6', '7', '9')},\n",
              " 10: {'avg_score': 0.8100416666666667,\n",
              "  'cv_scores': array([0.80825 , 0.810375, 0.8115  ]),\n",
              "  'feature_idx': (0, 1, 2, 3, 4, 5, 6, 7, 8, 9),\n",
              "  'feature_names': ('0', '1', '2', '3', '4', '5', '6', '7', '8', '9')}}"
            ]
          },
          "metadata": {},
          "execution_count": 21
        }
      ]
    },
    {
      "cell_type": "code",
      "source": [
        "fig = plot_sfs(sbs.get_metric_dict(), kind='std_err')\n",
        "# print(\"Selected Features :\", sbs.k_feature_names_)\n",
        "print(\"Selected Features ID :\", sbs.k_feature_idx_)\n",
        "plt.title('Sequential Forward Selection (w. StdErr)')\n",
        "plt.grid()\n",
        "plt.show()"
      ],
      "metadata": {
        "colab": {
          "base_uri": "https://localhost:8080/",
          "height": 312
        },
        "id": "GV-C_UlW76K_",
        "outputId": "3fddbdc5-0976-4924-f8d0-1cd333024982"
      },
      "execution_count": 22,
      "outputs": [
        {
          "output_type": "stream",
          "name": "stdout",
          "text": [
            "Selected Features ID : (0,)\n"
          ]
        },
        {
          "output_type": "display_data",
          "data": {
            "text/plain": [
              "<Figure size 432x288 with 1 Axes>"
            ],
            "image/png": "[encoded data removed]"
          },
          "metadata": {
            "needs_background": "light"
          }
        }
      ]
    },
    {
      "cell_type": "code",
      "source": [
        "newdf = pd.DataFrame(X_train)\n",
        "print(newdf)"
      ],
      "metadata": {
        "colab": {
          "base_uri": "https://localhost:8080/"
        },
        "id": "Hy3hxZbD7_4J",
        "outputId": "007a9ab0-30e0-4cfe-da5f-fffb1b98af24"
      },
      "execution_count": 23,
      "outputs": [
        {
          "output_type": "stream",
          "name": "stdout",
          "text": [
            "              0         1         2         3         4         5         6  \\\n",
            "0      0.014796  0.109694  0.329670 -0.672359  0.141120  0.188700 -0.173567   \n",
            "1      0.014796  0.109694 -0.295445 -1.057768  0.141120  0.188700 -0.241596   \n",
            "2      0.014796  0.109694 -0.408879  0.098459 -0.698046 -0.667404 -0.288246   \n",
            "3      0.014796  0.109694  0.107788 -0.826523  0.141120  0.188700 -0.178610   \n",
            "4      0.014796  0.109694  0.826432 -0.286950  0.141120  0.188700 -0.014157   \n",
            "...         ...       ...       ...       ...       ...       ...       ...   \n",
            "23995  0.014796  0.109694  0.021084 -0.903605  0.141120  0.188700 -0.201031   \n",
            "23996  1.790286  1.779631  1.446928  0.252623  1.819451  1.900908 -0.288246   \n",
            "23997 -1.760694 -1.560243 -0.693841 -0.903605 -1.537212 -1.523508 -0.288246   \n",
            "23998  0.014796  0.109694  0.313512 -0.749441  0.141120  0.188700 -0.041565   \n",
            "23999 -1.760694 -1.560243 -0.694114 -0.055704 -1.537212 -1.523508 -0.116392   \n",
            "\n",
            "              7         8         9  \n",
            "0      0.234055 -0.126892 -0.039537  \n",
            "1      0.234055 -0.038915 -0.194250  \n",
            "2     -0.648616 -0.331937 -0.210475  \n",
            "3      0.234055 -0.213815 -0.167236  \n",
            "4      0.234055 -0.091947 -0.072522  \n",
            "...         ...       ...       ...  \n",
            "23995  0.234055 -0.214869 -0.121938  \n",
            "23996  1.999396  0.458274  0.001602  \n",
            "23997 -1.531286 -0.331937 -0.245478  \n",
            "23998  1.999396 -0.156335 -0.163118  \n",
            "23999 -1.531286 -0.331937 -0.094759  \n",
            "\n",
            "[24000 rows x 10 columns]\n"
          ]
        }
      ]
    },
    {
      "cell_type": "code",
      "source": [
        "selected = list(sbs.k_feature_idx_)"
      ],
      "metadata": {
        "id": "UUO-tjS78R3a"
      },
      "execution_count": 24,
      "outputs": []
    },
    {
      "cell_type": "code",
      "source": [
        "x_bfe = newdf.iloc[:, selected]\n",
        "print(x_bfe)"
      ],
      "metadata": {
        "colab": {
          "base_uri": "https://localhost:8080/"
        },
        "id": "EvjA_hf38aXm",
        "outputId": "23f7b480-9fef-434b-b233-9bc5d2cffb16"
      },
      "execution_count": 25,
      "outputs": [
        {
          "output_type": "stream",
          "name": "stdout",
          "text": [
            "              0\n",
            "0      0.014796\n",
            "1      0.014796\n",
            "2      0.014796\n",
            "3      0.014796\n",
            "4      0.014796\n",
            "...         ...\n",
            "23995  0.014796\n",
            "23996  1.790286\n",
            "23997 -1.760694\n",
            "23998  0.014796\n",
            "23999 -1.760694\n",
            "\n",
            "[24000 rows x 1 columns]\n"
          ]
        }
      ]
    },
    {
      "cell_type": "code",
      "source": [
        "bfe_X_train, bfe_X_test, bfe_y_train, bfe_y_test = train_test_split(x_bfe, y_train, test_size = 0.2, random_state = 42)"
      ],
      "metadata": {
        "id": "Rl_2Sf988dEP"
      },
      "execution_count": 26,
      "outputs": []
    },
    {
      "cell_type": "markdown",
      "source": [
        "SVM"
      ],
      "metadata": {
        "id": "0kAuXq7C8f8o"
      }
    },
    {
      "cell_type": "code",
      "source": [
        "from sklearn import svm\n",
        "from sklearn.svm import SVC"
      ],
      "metadata": {
        "id": "eNbU1fQo8g7J"
      },
      "execution_count": 27,
      "outputs": []
    },
    {
      "cell_type": "code",
      "source": [
        "svm = svm.SVC()\n",
        "svm.fit(bfe_X_train, bfe_y_train)\n",
        "svm.score(bfe_X_train, bfe_y_train)*100"
      ],
      "metadata": {
        "colab": {
          "base_uri": "https://localhost:8080/"
        },
        "id": "STvta-uU8ilp",
        "outputId": "1a7e3a2a-a3f7-4cb9-ff78-503991bae358"
      },
      "execution_count": 28,
      "outputs": [
        {
          "output_type": "execute_result",
          "data": {
            "text/plain": [
              "82.13541666666667"
            ]
          },
          "metadata": {},
          "execution_count": 28
        }
      ]
    },
    {
      "cell_type": "code",
      "source": [
        "svm_score = svm.score(bfe_X_test, bfe_y_test)*100\n",
        "print(\"SVM Accuracy:\", svm_score)"
      ],
      "metadata": {
        "colab": {
          "base_uri": "https://localhost:8080/"
        },
        "id": "iRJl8giq8pHl",
        "outputId": "ebc4a291-2707-4729-98f0-76eba576f2a6"
      },
      "execution_count": 29,
      "outputs": [
        {
          "output_type": "stream",
          "name": "stdout",
          "text": [
            "SVM Accuracy: 81.29166666666666\n"
          ]
        }
      ]
    },
    {
      "cell_type": "markdown",
      "source": [
        "KNN"
      ],
      "metadata": {
        "id": "c7KnSdlW8x3h"
      }
    },
    {
      "cell_type": "code",
      "source": [
        "from sklearn.neighbors import KNeighborsClassifier\n",
        "from sklearn.metrics import accuracy_score\n",
        "knn = KNeighborsClassifier()\n",
        "classifier = KNeighborsClassifier(n_neighbors = 81)\n",
        "classifier.fit(bfe_X_train, bfe_y_train)\n",
        "knn.fit(bfe_X_train, bfe_y_train)"
      ],
      "metadata": {
        "colab": {
          "base_uri": "https://localhost:8080/"
        },
        "id": "4l6N-p5V80ZC",
        "outputId": "cd6bdce9-a127-4877-a9cf-89eb45932616"
      },
      "execution_count": 30,
      "outputs": [
        {
          "output_type": "execute_result",
          "data": {
            "text/plain": [
              "KNeighborsClassifier()"
            ]
          },
          "metadata": {},
          "execution_count": 30
        }
      ]
    },
    {
      "cell_type": "code",
      "source": [
        "score = knn.score(bfe_X_test, bfe_y_test)\n",
        "print(\"KNN Algorithm Score:\", score*100)"
      ],
      "metadata": {
        "colab": {
          "base_uri": "https://localhost:8080/"
        },
        "id": "KA9qiUZl83sD",
        "outputId": "4ccb5e1c-b8ff-4d16-ff73-65d4dea8a401"
      },
      "execution_count": 31,
      "outputs": [
        {
          "output_type": "stream",
          "name": "stdout",
          "text": [
            "KNN Algorithm Score: 78.14583333333334\n"
          ]
        }
      ]
    },
    {
      "cell_type": "markdown",
      "source": [
        "DT"
      ],
      "metadata": {
        "id": "OklVl9mQ88W9"
      }
    },
    {
      "cell_type": "code",
      "source": [
        "from sklearn.tree import DecisionTreeClassifier\n",
        "dclf = DecisionTreeClassifier()\n",
        "dclf.fit(bfe_X_train, bfe_y_train)"
      ],
      "metadata": {
        "colab": {
          "base_uri": "https://localhost:8080/"
        },
        "id": "pruWRBBH89X1",
        "outputId": "2d90e91e-dd65-4405-ac9c-a20639142909"
      },
      "execution_count": 32,
      "outputs": [
        {
          "output_type": "execute_result",
          "data": {
            "text/plain": [
              "DecisionTreeClassifier()"
            ]
          },
          "metadata": {},
          "execution_count": 32
        }
      ]
    },
    {
      "cell_type": "code",
      "source": [
        "j=dclf.score(bfe_X_test, bfe_y_test)\n",
        "print(\"Decision Tree Algorithm Score:\",j*100)"
      ],
      "metadata": {
        "colab": {
          "base_uri": "https://localhost:8080/"
        },
        "id": "_YYJZuwu8-aW",
        "outputId": "b6934e8c-ead5-4b0c-a9aa-3d338b3e1f39"
      },
      "execution_count": 33,
      "outputs": [
        {
          "output_type": "stream",
          "name": "stdout",
          "text": [
            "Decision Tree Algorithm Score: 81.29166666666666\n"
          ]
        }
      ]
    },
    {
      "cell_type": "markdown",
      "source": [
        "RF"
      ],
      "metadata": {
        "id": "QoF6G5U99C4I"
      }
    },
    {
      "cell_type": "code",
      "source": [
        "def run_randomForest(bfe_X_train, bfe_y_train,bfe_X_test, bfe_y_test):\n",
        "    clf = RandomForestClassifier(n_estimators= 100, random_state = 42, n_jobs = -1)\n",
        "    clf.fit(bfe_X_train, bfe_y_train)\n",
        "    y_pred = clf.predict(bfe_X_test)\n",
        "    score = accuracy_score(bfe_y_test,y_pred)*100\n",
        "    print(\"Random Forest Accuracy:\", score)"
      ],
      "metadata": {
        "id": "Owe2Hs7G9Dpw"
      },
      "execution_count": 34,
      "outputs": []
    },
    {
      "cell_type": "code",
      "source": [
        "run_randomForest(bfe_X_train, bfe_y_train,bfe_X_test, bfe_y_test)"
      ],
      "metadata": {
        "colab": {
          "base_uri": "https://localhost:8080/"
        },
        "id": "laM9rPsI9E0x",
        "outputId": "583b8472-1aa2-4ecb-f231-9f275b0ba8bb"
      },
      "execution_count": 35,
      "outputs": [
        {
          "output_type": "stream",
          "name": "stdout",
          "text": [
            "Random Forest Accuracy: 81.29166666666666\n"
          ]
        }
      ]
    },
    {
      "cell_type": "markdown",
      "source": [
        "LR"
      ],
      "metadata": {
        "id": "ZgQBuQDp9Itz"
      }
    },
    {
      "cell_type": "code",
      "source": [
        "from sklearn.linear_model import LogisticRegression\n",
        "model = LogisticRegression()\n",
        "model.fit(bfe_X_train, bfe_y_train)\n",
        "lr = model.score(bfe_X_test, bfe_y_test)*100\n",
        "print(\"Logistic Regression Accuracy:\", lr)"
      ],
      "metadata": {
        "colab": {
          "base_uri": "https://localhost:8080/"
        },
        "id": "9zD9zx4_9JsT",
        "outputId": "ade45513-8414-4af9-cfeb-cb5ff3ad26ac"
      },
      "execution_count": 36,
      "outputs": [
        {
          "output_type": "stream",
          "name": "stdout",
          "text": [
            "Logistic Regression Accuracy: 81.29166666666666\n"
          ]
        }
      ]
    }
  ]
}