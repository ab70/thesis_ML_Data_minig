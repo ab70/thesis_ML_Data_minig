{
  "nbformat": 4,
  "nbformat_minor": 0,
  "metadata": {
    "colab": {
      "name": "thes1(p2).ipynb",
      "provenance": [],
      "collapsed_sections": []
    },
    "kernelspec": {
      "name": "python3",
      "display_name": "Python 3"
    },
    "language_info": {
      "name": "python"
    }
  },
  "cells": [
    {
      "cell_type": "code",
      "execution_count": null,
      "metadata": {
        "id": "AlogJdRsrhmC"
      },
      "outputs": [],
      "source": [
        "import numpy as np\n",
        "import pandas as pd\n",
        "import matplotlib.pyplot as plt\n",
        "import seaborn as sns"
      ]
    },
    {
      "cell_type": "code",
      "source": [
        "from sklearn.model_selection import train_test_split\n",
        "from sklearn.ensemble import RandomForestClassifier\n",
        "from sklearn.metrics import accuracy_score"
      ],
      "metadata": {
        "id": "bpsiDaoZsrvX"
      },
      "execution_count": null,
      "outputs": []
    },
    {
      "cell_type": "code",
      "source": [
        "from sklearn.feature_selection import VarianceThreshold, mutual_info_classif, mutual_info_regression\n",
        "from sklearn.feature_selection import SelectKBest, SelectPercentile"
      ],
      "metadata": {
        "id": "bN0GjhNqtU9v"
      },
      "execution_count": null,
      "outputs": []
    },
    {
      "cell_type": "code",
      "source": [
        "data = pd.read_csv('p2.csv',nrows = 20000)\n",
        "data.head()"
      ],
      "metadata": {
        "id": "q9WMwNgfuC2u"
      },
      "execution_count": null,
      "outputs": []
    },
    {
      "cell_type": "code",
      "source": [
        "X = data.drop('Y', axis = 1)\n",
        "y = data['Y']\n",
        "x.shape, y.shape"
      ],
      "metadata": {
        "id": "rQ0bejhOvsYH"
      },
      "execution_count": null,
      "outputs": []
    },
    {
      "cell_type": "code",
      "source": [
        "X_train, X_test, y_train, y_test = train_test_split(x, y, test_size = 0.2, random_state = 0, stratify =y)"
      ],
      "metadata": {
        "id": "RiSRjic-wgI3"
      },
      "execution_count": null,
      "outputs": []
    },
    {
      "cell_type": "markdown",
      "source": [
        "Remove constant, and duplicate features"
      ],
      "metadata": {
        "id": "WITbv9SLw-gl"
      }
    },
    {
      "cell_type": "code",
      "source": [
        "constant_filter = VarianceThreshold(threshold=0.01)\n",
        "constant_filter.fit(X_train)\n",
        "X_train_filter = constant_filter.transform(X_train)\n",
        "X_test_filter = constant_filter.transform(X_test)"
      ],
      "metadata": {
        "id": "ZjI6bNBTxDVv"
      },
      "execution_count": null,
      "outputs": []
    },
    {
      "cell_type": "code",
      "source": [
        "X_train_T = X_train_filter.T\n",
        "X_test_T = X_test_filter.T"
      ],
      "metadata": {
        "id": "Jr_jMjk8x-je"
      },
      "execution_count": null,
      "outputs": []
    },
    {
      "cell_type": "code",
      "source": [
        "X_train_T = pd.DataFrame(X_train_T)\n",
        "X_test_T = pd.DataFrame(X_test_T)"
      ],
      "metadata": {
        "id": "QKGZ7AqpyPhc"
      },
      "execution_count": null,
      "outputs": []
    },
    {
      "cell_type": "code",
      "source": [
        "X_train_T.duplicated().sum()"
      ],
      "metadata": {
        "id": "vsWhDbYSyo-m"
      },
      "execution_count": null,
      "outputs": []
    },
    {
      "cell_type": "code",
      "source": [
        "duplicated_features = X_train_T.duplicated()"
      ],
      "metadata": {
        "id": "_bvomlOSzS3E"
      },
      "execution_count": null,
      "outputs": []
    },
    {
      "cell_type": "code",
      "source": [
        "features_to_keep = [not index for index in duplicated_features]"
      ],
      "metadata": {
        "id": "yWIq7ZOJzkhm"
      },
      "execution_count": null,
      "outputs": []
    },
    {
      "cell_type": "code",
      "source": [
        "X_train_unique = X_train_T[feature_to_keep].T\n",
        "X_test_unique = X_test_T[features_to_keep].T"
      ],
      "metadata": {
        "id": "ooWm2hr20TBr"
      },
      "execution_count": null,
      "outputs": []
    },
    {
      "cell_type": "code",
      "source": [
        "X_train_unique.shape, X_test_unique.shape"
      ],
      "metadata": {
        "id": "8_4T7Q6s10jV"
      },
      "execution_count": null,
      "outputs": []
    },
    {
      "cell_type": "markdown",
      "source": [
        "Calculate MI"
      ],
      "metadata": {
        "id": "KnxuMAZ22Eo_"
      }
    },
    {
      "cell_type": "code",
      "source": [
        "mi = mutual_info_classif(X_train_unique, y_train)"
      ],
      "metadata": {
        "id": "KBq39cSJ2Jth"
      },
      "execution_count": null,
      "outputs": []
    },
    {
      "cell_type": "code",
      "source": [
        "len(mi)"
      ],
      "metadata": {
        "id": "8A9eeanK2a8a"
      },
      "execution_count": null,
      "outputs": []
    },
    {
      "cell_type": "code",
      "source": [
        "mi"
      ],
      "metadata": {
        "id": "3QUZh6x22dSZ"
      },
      "execution_count": null,
      "outputs": []
    },
    {
      "cell_type": "code",
      "source": [
        "mi = pd.Series(mi)\n",
        "mi.index = X_train_unique.columns"
      ],
      "metadata": {
        "id": "nJLz0Qpx2fOf"
      },
      "execution_count": null,
      "outputs": []
    },
    {
      "cell_type": "code",
      "source": [
        "mi.sort_values(ascending=False, inplace = True)"
      ],
      "metadata": {
        "id": "aVoV0f0I2tl5"
      },
      "execution_count": null,
      "outputs": []
    },
    {
      "cell_type": "code",
      "source": [
        "mi.plot.bar(figsize = (16,5))"
      ],
      "metadata": {
        "id": "6mQJdzA83AhD"
      },
      "execution_count": null,
      "outputs": []
    },
    {
      "cell_type": "code",
      "source": [
        "sel = SelectPercentile(mutual_info_classif, percentile=10).fit(X_train-unique, y_train)\n",
        "X_train_unique.columns[sel.get_support()]"
      ],
      "metadata": {
        "id": "2fWhZ9PU3OXB"
      },
      "execution_count": null,
      "outputs": []
    },
    {
      "cell_type": "code",
      "source": [
        "len(X_train_unique.columns[sel.get_support()])"
      ],
      "metadata": {
        "id": "ufAaNB923qgB"
      },
      "execution_count": null,
      "outputs": []
    },
    {
      "cell_type": "code",
      "source": [
        "help(sel)"
      ],
      "metadata": {
        "id": "QrVMHhf-35F1"
      },
      "execution_count": null,
      "outputs": []
    },
    {
      "cell_type": "code",
      "source": [
        "X_train_mi = sel.transform(X_train_unique)\n",
        "X_test-mi = sel.transform(X_test_unique)"
      ],
      "metadata": {
        "id": "52csyymv3-0Y"
      },
      "execution_count": null,
      "outputs": []
    },
    {
      "cell_type": "code",
      "source": [
        "X_train_mi.shape"
      ],
      "metadata": {
        "id": "-xa9c17q4ZPz"
      },
      "execution_count": null,
      "outputs": []
    },
    {
      "cell_type": "markdown",
      "source": [
        "Building model and compare performance"
      ],
      "metadata": {
        "id": "-qXcPgys4csQ"
      }
    },
    {
      "cell_type": "code",
      "source": [
        "def run_randomForest(X_train, X_test, y_train, y_test):\n",
        "  clf = RandomForestClassifier(n_estimators = 100, random_state=0, n_jobs=-1)\n",
        "  clf.fit(X_train, y_train)\n",
        "  y_pred = clf.predict(X_test)\n",
        "  print('Accuracy on test set:')\n",
        "  print(accuracy_score(y_test, y_pred))"
      ],
      "metadata": {
        "id": "MWNPR3Tw4jFJ"
      },
      "execution_count": null,
      "outputs": []
    },
    {
      "cell_type": "code",
      "source": [
        "%%time\n",
        "run_randomForest(X_train_mi, X_test_mi, y_train, y_test)"
      ],
      "metadata": {
        "id": "ebWtLSA96WjA"
      },
      "execution_count": null,
      "outputs": []
    },
    {
      "cell_type": "code",
      "source": [
        "%%time\n",
        "run_randomForest(X_train, X_test, y_train, y_test)"
      ],
      "metadata": {
        "id": "ccZtWfLi7iHC"
      },
      "execution_count": null,
      "outputs": []
    },
    {
      "cell_type": "code",
      "source": [
        "(1.46-0.57)*100/1.46"
      ],
      "metadata": {
        "id": "xRfJAJus8kB3"
      },
      "execution_count": null,
      "outputs": []
    },
    {
      "cell_type": "code",
      "source": [
        "from sklearn.datasets import load_boston\n",
        "from sklearn.linear_model import LinearRegression\n",
        "from sklearn.metrics import mean_absolute_error, mean_squared_error, r2_score"
      ],
      "metadata": {
        "id": "QNC79Mcp80K-"
      },
      "execution_count": null,
      "outputs": []
    },
    {
      "cell_type": "code",
      "source": [
        "boston = load_boston()"
      ],
      "metadata": {
        "id": "z1Jm6Z729gFS"
      },
      "execution_count": null,
      "outputs": []
    },
    {
      "cell_type": "code",
      "source": [
        "print(boston.DESCR)"
      ],
      "metadata": {
        "id": "AGcCrAMi9ken"
      },
      "execution_count": null,
      "outputs": []
    },
    {
      "cell_type": "code",
      "source": [
        "X = pd.DataFrame(data = boston.data, columns = boston.feature_names)\n",
        "X.head()"
      ],
      "metadata": {
        "id": "nBDnfcnF94lP"
      },
      "execution_count": null,
      "outputs": []
    },
    {
      "cell_type": "code",
      "source": [
        "y = boston.target"
      ],
      "metadata": {
        "id": "E7KshwuG-JBw"
      },
      "execution_count": null,
      "outputs": []
    },
    {
      "cell_type": "code",
      "source": [
        "X_train, X_test, y_train, y_test = train_test_split(X, y, test_size=0.2, random_state = 0)"
      ],
      "metadata": {
        "id": "xKFIAl5--OwZ"
      },
      "execution_count": null,
      "outputs": []
    },
    {
      "cell_type": "code",
      "source": [
        "mi = mutual_info_regression(X_train, y_train)\n",
        "mi =pd.Series(mi)\n",
        "mi.index = X_train.columns\n",
        "mi.sort_values(ascending=False, inplace= True)"
      ],
      "metadata": {
        "id": "G9pwTyiv-4bM"
      },
      "execution_count": null,
      "outputs": []
    },
    {
      "cell_type": "code",
      "source": [
        "mi"
      ],
      "metadata": {
        "id": "7RI0FjCd_bKM"
      },
      "execution_count": null,
      "outputs": []
    },
    {
      "cell_type": "code",
      "source": [
        "mi.plot.bar()"
      ],
      "metadata": {
        "id": "79bUAWGj_fJH"
      },
      "execution_count": null,
      "outputs": []
    },
    {
      "cell_type": "code",
      "source": [
        "sel = SelectKBest(mutual_info_regression, k = 9).fit(X_train, y_train)\n",
        "X_train.columns[sel.get_support()]"
      ],
      "metadata": {
        "id": "Ode6aRZt_k8B"
      },
      "execution_count": null,
      "outputs": []
    },
    {
      "cell_type": "code",
      "source": [
        "model = LinearRegression()\n",
        "model.fit(X_train, y_train)\n",
        "y_predict = model.predict(X_test)"
      ],
      "metadata": {
        "id": "g1yyv_Qr__hv"
      },
      "execution_count": null,
      "outputs": []
    },
    {
      "cell_type": "code",
      "source": [
        "r2_score(y_test, y_predict)"
      ],
      "metadata": {
        "id": "iwhGaL5_AO4n"
      },
      "execution_count": null,
      "outputs": []
    },
    {
      "cell_type": "code",
      "source": [
        "np.sqrt(mean_suared_error(y_test, y_predict))"
      ],
      "metadata": {
        "id": "Un_1Mh69AUSa"
      },
      "execution_count": null,
      "outputs": []
    },
    {
      "cell_type": "code",
      "source": [
        "np.std(y)"
      ],
      "metadata": {
        "id": "6gXPavbCAgq3"
      },
      "execution_count": null,
      "outputs": []
    },
    {
      "cell_type": "code",
      "source": [
        "X_train_9 = sel.transform(X_train)\n",
        "X_train_9.shape"
      ],
      "metadata": {
        "id": "lm8tc4M5AnvR"
      },
      "execution_count": null,
      "outputs": []
    },
    {
      "cell_type": "code",
      "source": [
        "X_test_9 = sel.transform(X_test)"
      ],
      "metadata": {
        "id": "Fbj9Kz-oA19P"
      },
      "execution_count": null,
      "outputs": []
    },
    {
      "cell_type": "code",
      "source": [
        "model = LinearRegression()\n",
        "model.fit(X_train_9, y_train)\n",
        "y_predict = model.predict(X_test_9)\n",
        "print(\"r2 score\")\n",
        "r2_score(y_test, y_predict)"
      ],
      "metadata": {
        "id": "XzrXt93kBCd2"
      },
      "execution_count": null,
      "outputs": []
    },
    {
      "cell_type": "code",
      "source": [
        "print('rmse')\n",
        "np.sqrt(mean_squared_error(y_test, y_predict))"
      ],
      "metadata": {
        "id": "T5tMAtcLBgjq"
      },
      "execution_count": null,
      "outputs": []
    }
  ]
}