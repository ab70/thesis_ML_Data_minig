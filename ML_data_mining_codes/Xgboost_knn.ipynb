{
  "nbformat": 4,
  "nbformat_minor": 0,
  "metadata": {
    "colab": {
      "name": "Xgboost-knn.ipynb",
      "provenance": [],
      "collapsed_sections": []
    },
    "kernelspec": {
      "name": "python3",
      "display_name": "Python 3"
    },
    "language_info": {
      "name": "python"
    }
  },
  "cells": [
    {
      "cell_type": "code",
      "execution_count": 2,
      "metadata": {
        "colab": {
          "base_uri": "https://localhost:8080/"
        },
        "id": "Ztbe_4kDxJ7i",
        "outputId": "fd8d8a7f-ba08-48a3-f1c1-dd0f69f0e858"
      },
      "outputs": [
        {
          "output_type": "stream",
          "name": "stdout",
          "text": [
            "Collecting shap\n",
            "  Downloading shap-0.40.0-cp37-cp37m-manylinux2010_x86_64.whl (564 kB)\n",
            "\u001b[?25l\r\u001b[K     |▋                               | 10 kB 23.5 MB/s eta 0:00:01\r\u001b[K     |█▏                              | 20 kB 29.3 MB/s eta 0:00:01\r\u001b[K     |█▊                              | 30 kB 27.5 MB/s eta 0:00:01\r\u001b[K     |██▎                             | 40 kB 19.0 MB/s eta 0:00:01\r\u001b[K     |███                             | 51 kB 8.0 MB/s eta 0:00:01\r\u001b[K     |███▌                            | 61 kB 9.3 MB/s eta 0:00:01\r\u001b[K     |████                            | 71 kB 9.4 MB/s eta 0:00:01\r\u001b[K     |████▋                           | 81 kB 9.5 MB/s eta 0:00:01\r\u001b[K     |█████▏                          | 92 kB 10.4 MB/s eta 0:00:01\r\u001b[K     |█████▉                          | 102 kB 8.7 MB/s eta 0:00:01\r\u001b[K     |██████▍                         | 112 kB 8.7 MB/s eta 0:00:01\r\u001b[K     |███████                         | 122 kB 8.7 MB/s eta 0:00:01\r\u001b[K     |███████▌                        | 133 kB 8.7 MB/s eta 0:00:01\r\u001b[K     |████████▏                       | 143 kB 8.7 MB/s eta 0:00:01\r\u001b[K     |████████▊                       | 153 kB 8.7 MB/s eta 0:00:01\r\u001b[K     |█████████▎                      | 163 kB 8.7 MB/s eta 0:00:01\r\u001b[K     |█████████▉                      | 174 kB 8.7 MB/s eta 0:00:01\r\u001b[K     |██████████▍                     | 184 kB 8.7 MB/s eta 0:00:01\r\u001b[K     |███████████                     | 194 kB 8.7 MB/s eta 0:00:01\r\u001b[K     |███████████▋                    | 204 kB 8.7 MB/s eta 0:00:01\r\u001b[K     |████████████▏                   | 215 kB 8.7 MB/s eta 0:00:01\r\u001b[K     |████████████▊                   | 225 kB 8.7 MB/s eta 0:00:01\r\u001b[K     |█████████████▍                  | 235 kB 8.7 MB/s eta 0:00:01\r\u001b[K     |██████████████                  | 245 kB 8.7 MB/s eta 0:00:01\r\u001b[K     |██████████████▌                 | 256 kB 8.7 MB/s eta 0:00:01\r\u001b[K     |███████████████                 | 266 kB 8.7 MB/s eta 0:00:01\r\u001b[K     |███████████████▋                | 276 kB 8.7 MB/s eta 0:00:01\r\u001b[K     |████████████████▎               | 286 kB 8.7 MB/s eta 0:00:01\r\u001b[K     |████████████████▉               | 296 kB 8.7 MB/s eta 0:00:01\r\u001b[K     |█████████████████▍              | 307 kB 8.7 MB/s eta 0:00:01\r\u001b[K     |██████████████████              | 317 kB 8.7 MB/s eta 0:00:01\r\u001b[K     |██████████████████▋             | 327 kB 8.7 MB/s eta 0:00:01\r\u001b[K     |███████████████████▏            | 337 kB 8.7 MB/s eta 0:00:01\r\u001b[K     |███████████████████▊            | 348 kB 8.7 MB/s eta 0:00:01\r\u001b[K     |████████████████████▎           | 358 kB 8.7 MB/s eta 0:00:01\r\u001b[K     |████████████████████▉           | 368 kB 8.7 MB/s eta 0:00:01\r\u001b[K     |█████████████████████▌          | 378 kB 8.7 MB/s eta 0:00:01\r\u001b[K     |██████████████████████          | 389 kB 8.7 MB/s eta 0:00:01\r\u001b[K     |██████████████████████▋         | 399 kB 8.7 MB/s eta 0:00:01\r\u001b[K     |███████████████████████▏        | 409 kB 8.7 MB/s eta 0:00:01\r\u001b[K     |███████████████████████▉        | 419 kB 8.7 MB/s eta 0:00:01\r\u001b[K     |████████████████████████▍       | 430 kB 8.7 MB/s eta 0:00:01\r\u001b[K     |█████████████████████████       | 440 kB 8.7 MB/s eta 0:00:01\r\u001b[K     |█████████████████████████▌      | 450 kB 8.7 MB/s eta 0:00:01\r\u001b[K     |██████████████████████████      | 460 kB 8.7 MB/s eta 0:00:01\r\u001b[K     |██████████████████████████▊     | 471 kB 8.7 MB/s eta 0:00:01\r\u001b[K     |███████████████████████████▎    | 481 kB 8.7 MB/s eta 0:00:01\r\u001b[K     |███████████████████████████▉    | 491 kB 8.7 MB/s eta 0:00:01\r\u001b[K     |████████████████████████████▍   | 501 kB 8.7 MB/s eta 0:00:01\r\u001b[K     |█████████████████████████████   | 512 kB 8.7 MB/s eta 0:00:01\r\u001b[K     |█████████████████████████████▋  | 522 kB 8.7 MB/s eta 0:00:01\r\u001b[K     |██████████████████████████████▏ | 532 kB 8.7 MB/s eta 0:00:01\r\u001b[K     |██████████████████████████████▊ | 542 kB 8.7 MB/s eta 0:00:01\r\u001b[K     |███████████████████████████████▎| 552 kB 8.7 MB/s eta 0:00:01\r\u001b[K     |████████████████████████████████| 563 kB 8.7 MB/s eta 0:00:01\r\u001b[K     |████████████████████████████████| 564 kB 8.7 MB/s \n",
            "\u001b[?25hRequirement already satisfied: cloudpickle in /usr/local/lib/python3.7/dist-packages (from shap) (1.3.0)\n",
            "Requirement already satisfied: scikit-learn in /usr/local/lib/python3.7/dist-packages (from shap) (1.0.2)\n",
            "Requirement already satisfied: pandas in /usr/local/lib/python3.7/dist-packages (from shap) (1.3.5)\n",
            "Requirement already satisfied: packaging>20.9 in /usr/local/lib/python3.7/dist-packages (from shap) (21.3)\n",
            "Requirement already satisfied: numpy in /usr/local/lib/python3.7/dist-packages (from shap) (1.21.5)\n",
            "Requirement already satisfied: scipy in /usr/local/lib/python3.7/dist-packages (from shap) (1.4.1)\n",
            "Requirement already satisfied: tqdm>4.25.0 in /usr/local/lib/python3.7/dist-packages (from shap) (4.62.3)\n",
            "Collecting slicer==0.0.7\n",
            "  Downloading slicer-0.0.7-py3-none-any.whl (14 kB)\n",
            "Requirement already satisfied: numba in /usr/local/lib/python3.7/dist-packages (from shap) (0.51.2)\n",
            "Requirement already satisfied: pyparsing!=3.0.5,>=2.0.2 in /usr/local/lib/python3.7/dist-packages (from packaging>20.9->shap) (3.0.7)\n",
            "Requirement already satisfied: setuptools in /usr/local/lib/python3.7/dist-packages (from numba->shap) (57.4.0)\n",
            "Requirement already satisfied: llvmlite<0.35,>=0.34.0.dev0 in /usr/local/lib/python3.7/dist-packages (from numba->shap) (0.34.0)\n",
            "Requirement already satisfied: pytz>=2017.3 in /usr/local/lib/python3.7/dist-packages (from pandas->shap) (2018.9)\n",
            "Requirement already satisfied: python-dateutil>=2.7.3 in /usr/local/lib/python3.7/dist-packages (from pandas->shap) (2.8.2)\n",
            "Requirement already satisfied: six>=1.5 in /usr/local/lib/python3.7/dist-packages (from python-dateutil>=2.7.3->pandas->shap) (1.15.0)\n",
            "Requirement already satisfied: threadpoolctl>=2.0.0 in /usr/local/lib/python3.7/dist-packages (from scikit-learn->shap) (3.1.0)\n",
            "Requirement already satisfied: joblib>=0.11 in /usr/local/lib/python3.7/dist-packages (from scikit-learn->shap) (1.1.0)\n",
            "Installing collected packages: slicer, shap\n",
            "Successfully installed shap-0.40.0 slicer-0.0.7\n"
          ]
        }
      ],
      "source": [
        "pip install shap"
      ]
    },
    {
      "cell_type": "code",
      "source": [
        "import numpy as np\n",
        "import pandas as pd\n",
        "import shap\n",
        "\n",
        "from sklearn.datasets import load_boston\n",
        "from sklearn.model_selection import train_test_split\n",
        "from sklearn.inspection import permutation_importance\n",
        "from matplotlib import pyplot as plt\n",
        "import seaborn as sns # for correlation heatmap\n",
        "\n",
        "from xgboost import XGBRegressor"
      ],
      "metadata": {
        "id": "tV_x8VlHxb9-"
      },
      "execution_count": 11,
      "outputs": []
    },
    {
      "cell_type": "code",
      "source": [
        "boston = pd.read_csv('/content/p2mod.csv')\n",
        "X = boston.drop(columns='Y', axis=1)\n",
        "Y = boston['Y']\n",
        "print(X)\n",
        "# X_train, X_test, y_train, y_test = train_test_split(X, y, test_size=0.25, random_state=12)"
      ],
      "metadata": {
        "colab": {
          "base_uri": "https://localhost:8080/"
        },
        "id": "1qYQZle1zVO-",
        "outputId": "e29ebe99-dcb8-4536-eea3-c886bedb2357"
      },
      "execution_count": 13,
      "outputs": [
        {
          "output_type": "stream",
          "name": "stdout",
          "text": [
            "           X1  X2  X3  X4  X5  X6  ...    X18    X19    X20   X21    X22   X23\n",
            "0       20000   2   2   1  24   2  ...      0    689      0     0      0     0\n",
            "1      120000   2   2   2  26  -1  ...      0   1000   1000  1000      0  2000\n",
            "2       90000   2   2   2  34   0  ...   1518   1500   1000  1000   1000  5000\n",
            "3       50000   2   2   1  37   0  ...   2000   2019   1200  1100   1069  1000\n",
            "4       50000   1   2   1  57  -1  ...   2000  36681  10000  9000    689   679\n",
            "...       ...  ..  ..  ..  ..  ..  ...    ...    ...    ...   ...    ...   ...\n",
            "29995  220000   1   3   1  39   0  ...   8500  20000   5003  3047   5000  1000\n",
            "29996  150000   1   3   2  43  -1  ...   1837   3526   8998   129      0     0\n",
            "29997   30000   1   2   2  37   4  ...      0      0  22000  4200   2000  3100\n",
            "29998   80000   1   3   1  41   1  ...  85900   3409   1178  1926  52964  1804\n",
            "29999   50000   1   2   1  46   0  ...   2078   1800   1430  1000   1000  1000\n",
            "\n",
            "[30000 rows x 23 columns]\n"
          ]
        }
      ]
    },
    {
      "cell_type": "code",
      "source": [
        "print(Y)"
      ],
      "metadata": {
        "colab": {
          "base_uri": "https://localhost:8080/"
        },
        "id": "mFIibbWh51j_",
        "outputId": "8b92d167-1445-460d-e4db-58fc4c47ea1f"
      },
      "execution_count": 14,
      "outputs": [
        {
          "output_type": "stream",
          "name": "stdout",
          "text": [
            "0        1\n",
            "1        1\n",
            "2        0\n",
            "3        0\n",
            "4        0\n",
            "        ..\n",
            "29995    0\n",
            "29996    0\n",
            "29997    1\n",
            "29998    1\n",
            "29999    1\n",
            "Name: Y, Length: 30000, dtype: int64\n"
          ]
        }
      ]
    },
    {
      "cell_type": "code",
      "source": [
        "X_train, X_test, y_train, y_test = train_test_split(X, Y, test_size=0.25, random_state=12)"
      ],
      "metadata": {
        "id": "-sETkIK_57UI"
      },
      "execution_count": 15,
      "outputs": []
    },
    {
      "cell_type": "code",
      "source": [
        "xgb = XGBRegressor(n_estimators=100)\n",
        "xgb.fit(X_train, y_train)"
      ],
      "metadata": {
        "colab": {
          "base_uri": "https://localhost:8080/"
        },
        "id": "NslRQHj06BO0",
        "outputId": "c281abec-5cf4-4366-b632-3b2d0f7fbc11"
      },
      "execution_count": 16,
      "outputs": [
        {
          "output_type": "stream",
          "name": "stdout",
          "text": [
            "[17:22:51] WARNING: /workspace/src/objective/regression_obj.cu:152: reg:linear is now deprecated in favor of reg:squarederror.\n"
          ]
        },
        {
          "output_type": "execute_result",
          "data": {
            "text/plain": [
              "XGBRegressor()"
            ]
          },
          "metadata": {},
          "execution_count": 16
        }
      ]
    },
    {
      "cell_type": "code",
      "source": [
        "xgb.feature_importances_"
      ],
      "metadata": {
        "colab": {
          "base_uri": "https://localhost:8080/"
        },
        "id": "Rxvbm6AO6Fed",
        "outputId": "041d7db4-bcfb-4741-ca0e-618ebef6828d"
      },
      "execution_count": 17,
      "outputs": [
        {
          "output_type": "execute_result",
          "data": {
            "text/plain": [
              "array([0.01513778, 0.00834296, 0.01314037, 0.00878722, 0.00758466,\n",
              "       0.44551325, 0.13677213, 0.04899508, 0.06273374, 0.04264376,\n",
              "       0.03121655, 0.01728265, 0.00936145, 0.00913361, 0.00795344,\n",
              "       0.00879614, 0.01008987, 0.02197303, 0.01800228, 0.02911551,\n",
              "       0.02117017, 0.01164002, 0.01461437], dtype=float32)"
            ]
          },
          "metadata": {},
          "execution_count": 17
        }
      ]
    },
    {
      "cell_type": "code",
      "source": [
        "perm_importance = permutation_importance(xgb, X_test, y_test)"
      ],
      "metadata": {
        "id": "a_1iwe2B61kr"
      },
      "execution_count": 21,
      "outputs": []
    },
    {
      "cell_type": "code",
      "source": [
        "sorted_idx = perm_importance.importances_mean.argsort()\n",
        "plt.barh(boston.columns[sorted_idx], perm_importance.importances_mean[sorted_idx])\n",
        "plt.xlabel(\"Permutation Importance\")"
      ],
      "metadata": {
        "colab": {
          "base_uri": "https://localhost:8080/",
          "height": 297
        },
        "id": "5Gd7Pelj721i",
        "outputId": "2bca5250-1ce2-42a3-aa75-4104e9cad730"
      },
      "execution_count": 22,
      "outputs": [
        {
          "output_type": "execute_result",
          "data": {
            "text/plain": [
              "Text(0.5, 0, 'Permutation Importance')"
            ]
          },
          "metadata": {},
          "execution_count": 22
        },
        {
          "output_type": "display_data",
          "data": {
            "image/png": "[encoded data removed]",
            "text/plain": [
              "<Figure size 432x288 with 1 Axes>"
            ]
          },
          "metadata": {
            "needs_background": "light"
          }
        }
      ]
    }
  ]
}