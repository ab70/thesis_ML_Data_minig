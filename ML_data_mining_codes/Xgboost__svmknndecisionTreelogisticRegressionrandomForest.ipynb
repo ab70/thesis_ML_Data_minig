{
 "cells": [
  {
   "cell_type": "code",
   "execution_count": 4,
   "metadata": {
    "id": "tV_x8VlHxb9-"
   },
   "outputs": [],
   "source": [
    "import numpy as np\n",
    "import pandas as pd\n",
    "\n",
    "from sklearn.datasets import load_boston\n",
    "from sklearn.model_selection import train_test_split\n",
    "from sklearn.inspection import permutation_importance\n",
    "from matplotlib import pyplot as plt\n",
    "import seaborn as sns # for correlation heatmap\n",
    "from sklearn.ensemble import RandomForestClassifier\n",
    "from sklearn.tree import DecisionTreeClassifier\n",
    "\n",
    "from xgboost import XGBRegressor"
   ]
  },
  {
   "cell_type": "code",
   "execution_count": 5,
   "metadata": {
    "colab": {
     "base_uri": "https://localhost:8080/"
    },
    "id": "1qYQZle1zVO-",
    "outputId": "e29ebe99-dcb8-4536-eea3-c886bedb2357"
   },
   "outputs": [
    {
     "name": "stdout",
     "output_type": "stream",
     "text": [
      "           X1  X2  X3  X4  X5  X6  X7  X8  X9  X10  ...     X14    X15    X16  \\\n",
      "0       20000   2   2   1  24   2   2  -1  -1   -2  ...     689      0      0   \n",
      "1      120000   2   2   2  26  -1   2   0   0    0  ...    2682   3272   3455   \n",
      "2       90000   2   2   2  34   0   0   0   0    0  ...   13559  14331  14948   \n",
      "3       50000   2   2   1  37   0   0   0   0    0  ...   49291  28314  28959   \n",
      "4       50000   1   2   1  57  -1   0  -1   0    0  ...   35835  20940  19146   \n",
      "...       ...  ..  ..  ..  ..  ..  ..  ..  ..  ...  ...     ...    ...    ...   \n",
      "29995  220000   1   3   1  39   0   0   0   0    0  ...  208365  88004  31237   \n",
      "29996  150000   1   3   2  43  -1  -1  -1  -1    0  ...    3502   8979   5190   \n",
      "29997   30000   1   2   2  37   4   3   2  -1    0  ...    2758  20878  20582   \n",
      "29998   80000   1   3   1  41   1  -1   0   0    0  ...   76304  52774  11855   \n",
      "29999   50000   1   2   1  46   0   0   0   0    0  ...   49764  36535  32428   \n",
      "\n",
      "         X17    X18    X19    X20   X21    X22   X23  \n",
      "0          0      0    689      0     0      0     0  \n",
      "1       3261      0   1000   1000  1000      0  2000  \n",
      "2      15549   1518   1500   1000  1000   1000  5000  \n",
      "3      29547   2000   2019   1200  1100   1069  1000  \n",
      "4      19131   2000  36681  10000  9000    689   679  \n",
      "...      ...    ...    ...    ...   ...    ...   ...  \n",
      "29995  15980   8500  20000   5003  3047   5000  1000  \n",
      "29996      0   1837   3526   8998   129      0     0  \n",
      "29997  19357      0      0  22000  4200   2000  3100  \n",
      "29998  48944  85900   3409   1178  1926  52964  1804  \n",
      "29999  15313   2078   1800   1430  1000   1000  1000  \n",
      "\n",
      "[30000 rows x 23 columns]\n"
     ]
    }
   ],
   "source": [
    "boston = pd.read_csv('p2_mod.csv')\n",
    "X = boston.drop(columns='Y', axis=1)\n",
    "Y = boston['Y']\n",
    "print(X)\n",
    "# X_train, X_test, y_train, y_test = train_test_split(X, y, test_size=0.25, random_state=12)"
   ]
  },
  {
   "cell_type": "code",
   "execution_count": 6,
   "metadata": {
    "colab": {
     "base_uri": "https://localhost:8080/"
    },
    "id": "mFIibbWh51j_",
    "outputId": "8b92d167-1445-460d-e4db-58fc4c47ea1f"
   },
   "outputs": [
    {
     "name": "stdout",
     "output_type": "stream",
     "text": [
      "0        1\n",
      "1        1\n",
      "2        0\n",
      "3        0\n",
      "4        0\n",
      "        ..\n",
      "29995    0\n",
      "29996    0\n",
      "29997    1\n",
      "29998    1\n",
      "29999    1\n",
      "Name: Y, Length: 30000, dtype: int64\n"
     ]
    }
   ],
   "source": [
    "print(Y)"
   ]
  },
  {
   "cell_type": "code",
   "execution_count": 7,
   "metadata": {
    "id": "-sETkIK_57UI"
   },
   "outputs": [],
   "source": [
    "X_train, X_test, y_train, y_test = train_test_split(X, Y, test_size=0.25, random_state=12)"
   ]
  },
  {
   "cell_type": "code",
   "execution_count": 8,
   "metadata": {
    "colab": {
     "base_uri": "https://localhost:8080/"
    },
    "id": "NslRQHj06BO0",
    "outputId": "c281abec-5cf4-4366-b632-3b2d0f7fbc11"
   },
   "outputs": [
    {
     "data": {
      "text/plain": [
       "XGBRegressor(base_score=0.5, booster='gbtree', colsample_bylevel=1,\n",
       "             colsample_bynode=1, colsample_bytree=1, enable_categorical=False,\n",
       "             gamma=0, gpu_id=-1, importance_type=None,\n",
       "             interaction_constraints='', learning_rate=0.300000012,\n",
       "             max_delta_step=0, max_depth=6, min_child_weight=1, missing=nan,\n",
       "             monotone_constraints='()', n_estimators=100, n_jobs=6,\n",
       "             num_parallel_tree=1, predictor='auto', random_state=0, reg_alpha=0,\n",
       "             reg_lambda=1, scale_pos_weight=1, subsample=1, tree_method='exact',\n",
       "             validate_parameters=1, verbosity=None)"
      ]
     },
     "execution_count": 8,
     "metadata": {},
     "output_type": "execute_result"
    }
   ],
   "source": [
    "xgb = XGBRegressor(n_estimators=100)\n",
    "xgb.fit(X_train, y_train)"
   ]
  },
  {
   "cell_type": "code",
   "execution_count": 9,
   "metadata": {
    "colab": {
     "base_uri": "https://localhost:8080/"
    },
    "id": "Rxvbm6AO6Fed",
    "outputId": "041d7db4-bcfb-4741-ca0e-618ebef6828d"
   },
   "outputs": [
    {
     "data": {
      "text/plain": [
       "array([0.01769001, 0.01505451, 0.02025212, 0.0168505 , 0.02118298,\n",
       "       0.2851735 , 0.15873197, 0.03435824, 0.03969372, 0.03075621,\n",
       "       0.04078188, 0.03060906, 0.02251293, 0.02559187, 0.02444454,\n",
       "       0.02533717, 0.02464526, 0.02509685, 0.02960545, 0.03066087,\n",
       "       0.02899296, 0.02652531, 0.02545211], dtype=float32)"
      ]
     },
     "execution_count": 9,
     "metadata": {},
     "output_type": "execute_result"
    }
   ],
   "source": [
    "xgb.feature_importances_"
   ]
  },
  {
   "cell_type": "code",
   "execution_count": 10,
   "metadata": {
    "id": "a_1iwe2B61kr"
   },
   "outputs": [],
   "source": [
    "perm_importance = permutation_importance(xgb, X_test, y_test)"
   ]
  },
  {
   "cell_type": "code",
   "execution_count": 11,
   "metadata": {
    "colab": {
     "base_uri": "https://localhost:8080/",
     "height": 297
    },
    "id": "5Gd7Pelj721i",
    "outputId": "2bca5250-1ce2-42a3-aa75-4104e9cad730"
   },
   "outputs": [
    {
     "data": {
      "text/plain": [
       "Text(0.5, 0, 'Permutation Importance')"
      ]
     },
     "execution_count": 11,
     "metadata": {},
     "output_type": "execute_result"
    },
    {
     "data": {
      "image/png": "[encoded data removed]",
      "text/plain": [
       "<Figure size 432x288 with 1 Axes>"
      ]
     },
     "metadata": {
      "needs_background": "light"
     },
     "output_type": "display_data"
    }
   ],
   "source": [
    "sorted_idx = perm_importance.importances_mean.argsort()\n",
    "plt.barh(boston.columns[sorted_idx], perm_importance.importances_mean[sorted_idx])\n",
    "plt.xlabel(\"Permutation Importance\")"
   ]
  },
  {
   "cell_type": "code",
   "execution_count": null,
   "metadata": {},
   "outputs": [],
   "source": []
  },
  {
   "cell_type": "code",
   "execution_count": 12,
   "metadata": {},
   "outputs": [],
   "source": [
    "select = [\"X6\",\"X7\", \"X12\", \"X1\", \"X8\", \"X9\", \"X20\", \"X10\",\"X18\", \"X19\",\"Y\"]\n",
    "new_df = boston[select]"
   ]
  },
  {
   "cell_type": "code",
   "execution_count": 13,
   "metadata": {},
   "outputs": [],
   "source": [
    "# x= boston.iloc[:,0:11].values\n",
    "# y= boston.iloc[:,11].values\n",
    "x = new_df.drop(columns='Y', axis=1)\n",
    "y = new_df['Y']"
   ]
  },
  {
   "cell_type": "code",
   "execution_count": 14,
   "metadata": {},
   "outputs": [
    {
     "name": "stdout",
     "output_type": "stream",
     "text": [
      "       X6  X7     X12      X1  X8  X9    X20  X10    X18    X19\n",
      "0       2   2    3913   20000  -1  -1      0   -2      0    689\n",
      "1      -1   2    2682  120000   0   0   1000    0      0   1000\n",
      "2       0   0   29239   90000   0   0   1000    0   1518   1500\n",
      "3       0   0   46990   50000   0   0   1200    0   2000   2019\n",
      "4      -1   0    8617   50000  -1   0  10000    0   2000  36681\n",
      "...    ..  ..     ...     ...  ..  ..    ...  ...    ...    ...\n",
      "29995   0   0  188948  220000   0   0   5003    0   8500  20000\n",
      "29996  -1  -1    1683  150000  -1  -1   8998    0   1837   3526\n",
      "29997   4   3    3565   30000   2  -1  22000    0      0      0\n",
      "29998   1  -1   -1645   80000   0   0   1178    0  85900   3409\n",
      "29999   0   0   47929   50000   0   0   1430    0   2078   1800\n",
      "\n",
      "[30000 rows x 10 columns]\n"
     ]
    }
   ],
   "source": [
    "print(x)"
   ]
  },
  {
   "cell_type": "code",
   "execution_count": 15,
   "metadata": {},
   "outputs": [],
   "source": [
    "X_train, X_test, y_train, y_test = train_test_split(x, y, test_size=0.2, random_state=42)"
   ]
  },
  {
   "cell_type": "code",
   "execution_count": 16,
   "metadata": {},
   "outputs": [],
   "source": [
    "from sklearn.preprocessing import StandardScaler\n",
    "scaler = StandardScaler()\n",
    "scaler.fit(X_train)\n",
    "X_train = scaler.transform(X_train)\n",
    "X_test = scaler.transform(X_test)"
   ]
  },
  {
   "cell_type": "code",
   "execution_count": 17,
   "metadata": {},
   "outputs": [
    {
     "data": {
      "text/plain": [
       "KNeighborsClassifier()"
      ]
     },
     "execution_count": 17,
     "metadata": {},
     "output_type": "execute_result"
    }
   ],
   "source": [
    "from sklearn.neighbors import KNeighborsClassifier\n",
    "from sklearn.metrics import accuracy_score\n",
    "knn = KNeighborsClassifier()\n",
    "classifier = KNeighborsClassifier(n_neighbors = 81)\n",
    "classifier.fit(X_train, y_train)\n",
    "knn.fit(X_train,y_train)"
   ]
  },
  {
   "cell_type": "code",
   "execution_count": 18,
   "metadata": {},
   "outputs": [],
   "source": [
    "y_pred = classifier.predict(X_test)"
   ]
  },
  {
   "cell_type": "code",
   "execution_count": 19,
   "metadata": {},
   "outputs": [
    {
     "name": "stdout",
     "output_type": "stream",
     "text": [
      "KNN Algorithm Score: 79.85\n"
     ]
    }
   ],
   "source": [
    "score = knn.score(X_test,y_test)\n",
    "print(\"KNN Algorithm Score:\", score*100)"
   ]
  },
  {
   "cell_type": "code",
   "execution_count": 20,
   "metadata": {},
   "outputs": [
    {
     "data": {
      "text/plain": [
       "DecisionTreeClassifier()"
      ]
     },
     "execution_count": 20,
     "metadata": {},
     "output_type": "execute_result"
    }
   ],
   "source": [
    "#DecisionTree\n",
    "dclf = DecisionTreeClassifier()\n",
    "dclf.fit(X_train,y_train)"
   ]
  },
  {
   "cell_type": "code",
   "execution_count": 21,
   "metadata": {},
   "outputs": [
    {
     "name": "stdout",
     "output_type": "stream",
     "text": [
      "Decision Tree Algorithm Score: 72.13333333333334\n"
     ]
    }
   ],
   "source": [
    "j=dclf.score(X_test,y_test)\n",
    "print(\"Decision Tree Algorithm Score:\",j*100)"
   ]
  },
  {
   "cell_type": "code",
   "execution_count": 22,
   "metadata": {},
   "outputs": [],
   "source": [
    "#randomForest\n",
    "def run_randomForest(X_train, X_test, y_train, y_test):\n",
    "    clf = RandomForestClassifier(n_estimators= 100, random_state = 0, n_jobs = -1)\n",
    "    clf.fit(X_train, y_train)\n",
    "    y_pred = clf.predict(X_test)\n",
    "    score = accuracy_score(y_test,y_pred)*100\n",
    "    print(\"Random Forest Accuracy:\", score)"
   ]
  },
  {
   "cell_type": "code",
   "execution_count": 23,
   "metadata": {},
   "outputs": [
    {
     "name": "stdout",
     "output_type": "stream",
     "text": [
      "Random Forest Accuracy: 80.5\n"
     ]
    }
   ],
   "source": [
    "run_randomForest(X_train, X_test, y_train, y_test)"
   ]
  },
  {
   "cell_type": "code",
   "execution_count": 24,
   "metadata": {},
   "outputs": [],
   "source": [
    "#LogisticRegression\n",
    "from sklearn.linear_model import LogisticRegression"
   ]
  },
  {
   "cell_type": "code",
   "execution_count": 27,
   "metadata": {},
   "outputs": [
    {
     "name": "stdout",
     "output_type": "stream",
     "text": [
      "Random Forest Accuracy: 80.88333333333333\n"
     ]
    }
   ],
   "source": [
    "model = LogisticRegression()\n",
    "model.fit(X_train, y_train)\n",
    "lr = model.score(X_test, y_test)*100\n",
    "print(\"LogisticRegression Accuracy:\", lr)"
   ]
  },
  {
   "cell_type": "code",
   "execution_count": 35,
   "metadata": {},
   "outputs": [],
   "source": [
    "#SVM\n",
    "from sklearn import svm\n",
    "from sklearn.svm import SVC"
   ]
  },
  {
   "cell_type": "code",
   "execution_count": 40,
   "metadata": {},
   "outputs": [],
   "source": [
    "# from sklearn import metrics \n",
    "# from sklearn.metrics import precision_recall_fscore_support\n",
    "# from sklearn.metrics import precision_score\n",
    "# from sklearn.metrics import recall_score\n",
    "# from sklearn.metrics import f1_score"
   ]
  },
  {
   "cell_type": "code",
   "execution_count": 41,
   "metadata": {},
   "outputs": [
    {
     "name": "stdout",
     "output_type": "stream",
     "text": [
      "SVM Accuracy: 82.06666666666666\n"
     ]
    }
   ],
   "source": [
    "vm = svm.SVC()\n",
    "vm.fit(X_train, y_train)\n",
    "svm_score = vm.score(X_test, y_test)*100\n",
    "print(\"SVM Accuracy:\", svm_score)"
   ]
  },
  {
   "cell_type": "code",
   "execution_count": null,
   "metadata": {},
   "outputs": [],
   "source": []
  }
 ],
 "metadata": {
  "colab": {
   "collapsed_sections": [],
   "name": "Xgboost-knn.ipynb",
   "provenance": []
  },
  "kernelspec": {
   "display_name": "Python 3",
   "language": "python",
   "name": "python3"
  },
  "language_info": {
   "codemirror_mode": {
    "name": "ipython",
    "version": 3
   },
   "file_extension": ".py",
   "mimetype": "text/x-python",
   "name": "python",
   "nbconvert_exporter": "python",
   "pygments_lexer": "ipython3",
   "version": "3.8.8"
  }
 },
 "nbformat": 4,
 "nbformat_minor": 1
}
