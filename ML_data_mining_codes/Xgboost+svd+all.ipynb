{
  "nbformat": 4,
  "nbformat_minor": 0,
  "metadata": {
    "colab": {
      "name": "Xgboost+svd+all.ipynb",
      "provenance": []
    },
    "kernelspec": {
      "name": "python3",
      "display_name": "Python 3"
    },
    "language_info": {
      "name": "python"
    }
  },
  "cells": [
    {
      "cell_type": "code",
      "execution_count": null,
      "metadata": {
        "id": "q0RJQGLvvQ_G"
      },
      "outputs": [],
      "source": [
        "import numpy as np\n",
        "import pandas as pd\n",
        "\n",
        "from sklearn.datasets import load_boston\n",
        "from sklearn.model_selection import train_test_split\n",
        "from sklearn.inspection import permutation_importance\n",
        "from matplotlib import pyplot as plt\n",
        "import seaborn as sns # for correlation heatmap\n",
        "from sklearn.ensemble import RandomForestClassifier\n",
        "from sklearn.tree import DecisionTreeClassifier\n",
        "\n",
        "from xgboost import XGBRegressor"
      ]
    },
    {
      "cell_type": "code",
      "source": [
        "boston = pd.read_csv('p2_mod.csv')\n",
        "X = boston.drop(columns='Y', axis=1)\n",
        "Y = boston['Y']\n",
        "print(X)\n",
        "# X_train, X_test, y_train, y_test = train_test_split(X, y, test_size=0.25, random_state=12)"
      ],
      "metadata": {
        "colab": {
          "base_uri": "https://localhost:8080/"
        },
        "id": "akdcVwcBxEJL",
        "outputId": "36aa765e-eb30-4c87-c78e-8f63177b4124"
      },
      "execution_count": null,
      "outputs": [
        {
          "output_type": "stream",
          "name": "stdout",
          "text": [
            "           X1  X2  X3  X4  X5  X6  X7  X8  X9  X10  ...     X14    X15    X16  \\\n",
            "0       20000   2   2   1  24   2   2  -1  -1   -2  ...     689      0      0   \n",
            "1      120000   2   2   2  26  -1   2   0   0    0  ...    2682   3272   3455   \n",
            "2       90000   2   2   2  34   0   0   0   0    0  ...   13559  14331  14948   \n",
            "3       50000   2   2   1  37   0   0   0   0    0  ...   49291  28314  28959   \n",
            "4       50000   1   2   1  57  -1   0  -1   0    0  ...   35835  20940  19146   \n",
            "...       ...  ..  ..  ..  ..  ..  ..  ..  ..  ...  ...     ...    ...    ...   \n",
            "29995  220000   1   3   1  39   0   0   0   0    0  ...  208365  88004  31237   \n",
            "29996  150000   1   3   2  43  -1  -1  -1  -1    0  ...    3502   8979   5190   \n",
            "29997   30000   1   2   2  37   4   3   2  -1    0  ...    2758  20878  20582   \n",
            "29998   80000   1   3   1  41   1  -1   0   0    0  ...   76304  52774  11855   \n",
            "29999   50000   1   2   1  46   0   0   0   0    0  ...   49764  36535  32428   \n",
            "\n",
            "         X17    X18    X19    X20   X21    X22   X23  \n",
            "0          0      0    689      0     0      0     0  \n",
            "1       3261      0   1000   1000  1000      0  2000  \n",
            "2      15549   1518   1500   1000  1000   1000  5000  \n",
            "3      29547   2000   2019   1200  1100   1069  1000  \n",
            "4      19131   2000  36681  10000  9000    689   679  \n",
            "...      ...    ...    ...    ...   ...    ...   ...  \n",
            "29995  15980   8500  20000   5003  3047   5000  1000  \n",
            "29996      0   1837   3526   8998   129      0     0  \n",
            "29997  19357      0      0  22000  4200   2000  3100  \n",
            "29998  48944  85900   3409   1178  1926  52964  1804  \n",
            "29999  15313   2078   1800   1430  1000   1000  1000  \n",
            "\n",
            "[30000 rows x 23 columns]\n"
          ]
        }
      ]
    },
    {
      "cell_type": "code",
      "source": [
        "print(Y)"
      ],
      "metadata": {
        "colab": {
          "base_uri": "https://localhost:8080/"
        },
        "id": "r-qn8cf7xH1z",
        "outputId": "03a188f4-9aa4-4a89-acad-e218adc0d342"
      },
      "execution_count": null,
      "outputs": [
        {
          "output_type": "stream",
          "name": "stdout",
          "text": [
            "0        1\n",
            "1        1\n",
            "2        0\n",
            "3        0\n",
            "4        0\n",
            "        ..\n",
            "29995    0\n",
            "29996    0\n",
            "29997    1\n",
            "29998    1\n",
            "29999    1\n",
            "Name: Y, Length: 30000, dtype: int64\n"
          ]
        }
      ]
    },
    {
      "cell_type": "code",
      "source": [
        "X_train, X_test, y_train, y_test = train_test_split(X, Y, test_size=0.25, random_state=42)"
      ],
      "metadata": {
        "id": "OtIz5nNFxKQE"
      },
      "execution_count": null,
      "outputs": []
    },
    {
      "cell_type": "code",
      "source": [
        "xgb = XGBRegressor(n_estimators=100)\n",
        "xgb.fit(X_train, y_train)"
      ],
      "metadata": {
        "colab": {
          "base_uri": "https://localhost:8080/"
        },
        "id": "T887S_jtxNaV",
        "outputId": "4faa649b-2100-41b5-e6ad-16eb2d850d91"
      },
      "execution_count": null,
      "outputs": [
        {
          "output_type": "stream",
          "name": "stdout",
          "text": [
            "[18:45:32] WARNING: /workspace/src/objective/regression_obj.cu:152: reg:linear is now deprecated in favor of reg:squarederror.\n"
          ]
        },
        {
          "output_type": "execute_result",
          "data": {
            "text/plain": [
              "XGBRegressor()"
            ]
          },
          "metadata": {},
          "execution_count": 256
        }
      ]
    },
    {
      "cell_type": "code",
      "source": [
        "xgb.feature_importances_"
      ],
      "metadata": {
        "colab": {
          "base_uri": "https://localhost:8080/"
        },
        "id": "JF3jV9PkxRMG",
        "outputId": "c00b40bb-abfe-4c87-c888-e8f03744e05c"
      },
      "execution_count": null,
      "outputs": [
        {
          "output_type": "execute_result",
          "data": {
            "text/plain": [
              "array([0.02104534, 0.0111302 , 0.01569244, 0.00971943, 0.00924529,\n",
              "       0.3871083 , 0.18010077, 0.05096211, 0.052206  , 0.03088086,\n",
              "       0.02978301, 0.01476133, 0.00972702, 0.00737419, 0.00696519,\n",
              "       0.01129937, 0.00811909, 0.03206394, 0.01865157, 0.04158607,\n",
              "       0.02596242, 0.01214542, 0.01347062], dtype=float32)"
            ]
          },
          "metadata": {},
          "execution_count": 257
        }
      ]
    },
    {
      "cell_type": "code",
      "source": [
        "perm_importance = permutation_importance(xgb, X_test, y_test)"
      ],
      "metadata": {
        "id": "H0ekwkXIxTRA"
      },
      "execution_count": null,
      "outputs": []
    },
    {
      "cell_type": "code",
      "source": [
        "sorted_idx = perm_importance.importances_mean.argsort()\n",
        "plt.barh(boston.columns[sorted_idx], perm_importance.importances_mean[sorted_idx])\n",
        "plt.xlabel(\"Permutation Importance\")"
      ],
      "metadata": {
        "colab": {
          "base_uri": "https://localhost:8080/",
          "height": 296
        },
        "id": "_7suAbQKxVx_",
        "outputId": "3769422c-d13a-42e9-ad8c-c81a5b5940d2"
      },
      "execution_count": null,
      "outputs": [
        {
          "output_type": "execute_result",
          "data": {
            "text/plain": [
              "Text(0.5, 0, 'Permutation Importance')"
            ]
          },
          "metadata": {},
          "execution_count": 259
        },
        {
          "output_type": "display_data",
          "data": {
            "text/plain": [
              "<Figure size 432x288 with 1 Axes>"
            ],
            "image/png": "[encoded data removed]"
          },
          "metadata": {
            "needs_background": "light"
          }
        }
      ]
    },
    {
      "cell_type": "code",
      "source": [
        "select = [\"X6\",\"X7\", \"X12\", \"X1\", \"X8\", \"X9\", \"X20\", \"X10\",\"X18\", \"X19\",\"Y\"]\n",
        "new_df = boston[select]"
      ],
      "metadata": {
        "id": "4KQN0a2UxZmr"
      },
      "execution_count": null,
      "outputs": []
    },
    {
      "cell_type": "code",
      "source": [
        "x = new_df.drop(columns='Y', axis=1)\n",
        "y = new_df['Y']"
      ],
      "metadata": {
        "id": "yrOl_NNjxe_c"
      },
      "execution_count": null,
      "outputs": []
    },
    {
      "cell_type": "code",
      "source": [
        "print(x)"
      ],
      "metadata": {
        "colab": {
          "base_uri": "https://localhost:8080/"
        },
        "id": "pgRtsr3exg7k",
        "outputId": "5c0a79fb-c8d1-4797-c6ca-1b9bab4f91de"
      },
      "execution_count": null,
      "outputs": [
        {
          "output_type": "stream",
          "name": "stdout",
          "text": [
            "       X6  X7     X12      X1  X8  X9    X20  X10    X18    X19\n",
            "0       2   2    3913   20000  -1  -1      0   -2      0    689\n",
            "1      -1   2    2682  120000   0   0   1000    0      0   1000\n",
            "2       0   0   29239   90000   0   0   1000    0   1518   1500\n",
            "3       0   0   46990   50000   0   0   1200    0   2000   2019\n",
            "4      -1   0    8617   50000  -1   0  10000    0   2000  36681\n",
            "...    ..  ..     ...     ...  ..  ..    ...  ...    ...    ...\n",
            "29995   0   0  188948  220000   0   0   5003    0   8500  20000\n",
            "29996  -1  -1    1683  150000  -1  -1   8998    0   1837   3526\n",
            "29997   4   3    3565   30000   2  -1  22000    0      0      0\n",
            "29998   1  -1   -1645   80000   0   0   1178    0  85900   3409\n",
            "29999   0   0   47929   50000   0   0   1430    0   2078   1800\n",
            "\n",
            "[30000 rows x 10 columns]\n"
          ]
        }
      ]
    },
    {
      "cell_type": "code",
      "source": [
        "X_train, X_test, y_train, y_test = train_test_split(x, y, test_size=0.25, random_state=42)"
      ],
      "metadata": {
        "id": "M1rmunXUyaDv"
      },
      "execution_count": null,
      "outputs": []
    },
    {
      "cell_type": "code",
      "source": [
        "from sklearn.preprocessing import StandardScaler\n",
        "scaler = StandardScaler()\n",
        "scaler.fit(X_train)\n",
        "X_train = scaler.transform(X_train)\n",
        "X_test = scaler.transform(X_test)"
      ],
      "metadata": {
        "id": "uDGTBWjey00L"
      },
      "execution_count": null,
      "outputs": []
    },
    {
      "cell_type": "code",
      "source": [
        "import pandas as pd\n",
        "import numpy as np\n",
        "import matplotlib.pyplot as plt\n",
        "%matplotlib inline\n",
        "import seaborn as sns\n",
        "\n",
        "from sklearn.model_selection import train_test_split\n",
        "from sklearn.preprocessing import StandardScaler\n",
        "from sklearn.linear_model import LinearRegression\n",
        "from sklearn.ensemble import RandomForestClassifier\n",
        "from sklearn.decomposition import PCA, TruncatedSVD\n",
        "svd = TruncatedSVD(n_components = 5)\n",
        "svd.fit(X_train)\n",
        "svd_X = svd.transform(X_train)"
      ],
      "metadata": {
        "id": "ooS-XpFQzFhD"
      },
      "execution_count": null,
      "outputs": []
    },
    {
      "cell_type": "code",
      "source": [
        "svd_X.shape"
      ],
      "metadata": {
        "colab": {
          "base_uri": "https://localhost:8080/"
        },
        "id": "eJzYwo_6zZJF",
        "outputId": "49cf96e9-1a53-4dd9-dff7-c3425fb0720d"
      },
      "execution_count": null,
      "outputs": [
        {
          "output_type": "execute_result",
          "data": {
            "text/plain": [
              "(22500, 5)"
            ]
          },
          "metadata": {},
          "execution_count": 266
        }
      ]
    },
    {
      "cell_type": "code",
      "source": [
        "svd_X_train, svd_X_test, svd_y_train, svd_y_test = train_test_split(svd_X, y_train, test_size = 0.25, random_state = 42)"
      ],
      "metadata": {
        "id": "ia9S3X33zcF8"
      },
      "execution_count": null,
      "outputs": []
    },
    {
      "cell_type": "code",
      "source": [
        "svd_lr = LinearRegression()\n",
        "\n",
        "# Train the model\n",
        "svd_model = svd_lr.fit(svd_X_train, svd_y_train)\n",
        "\n",
        "# Prediction\n",
        "pca_y_pred =  svd_lr.predict(svd_X_test)\n",
        "\n",
        "# Accuracy Score\n",
        "svd_lr.score(svd_X_test, pca_y_pred)"
      ],
      "metadata": {
        "colab": {
          "base_uri": "https://localhost:8080/"
        },
        "id": "QEyE4ViSzhti",
        "outputId": "329f8e94-534b-4cb5-9f7c-33b43b970de8"
      },
      "execution_count": null,
      "outputs": [
        {
          "output_type": "execute_result",
          "data": {
            "text/plain": [
              "1.0"
            ]
          },
          "metadata": {},
          "execution_count": 268
        }
      ]
    },
    {
      "cell_type": "markdown",
      "source": [
        "SVM"
      ],
      "metadata": {
        "id": "I76nrurRzkWs"
      }
    },
    {
      "cell_type": "code",
      "source": [
        "from sklearn import svm\n",
        "from sklearn.svm import SVC"
      ],
      "metadata": {
        "id": "OuhslO4Zzl6x"
      },
      "execution_count": null,
      "outputs": []
    },
    {
      "cell_type": "code",
      "source": [
        "svm = svm.SVC()\n",
        "svm.fit(svd_X_train, svd_y_train)\n",
        "svm.score(svd_X_train, svd_y_train)*100"
      ],
      "metadata": {
        "colab": {
          "base_uri": "https://localhost:8080/"
        },
        "id": "-o-TPkMazn_S",
        "outputId": "a972eb2e-1cc4-4496-820e-6f4e58f8943b"
      },
      "execution_count": null,
      "outputs": [
        {
          "output_type": "execute_result",
          "data": {
            "text/plain": [
              "81.14962962962963"
            ]
          },
          "metadata": {},
          "execution_count": 270
        }
      ]
    },
    {
      "cell_type": "code",
      "source": [
        "svm_score = svm.score(svd_X_test, svd_y_test)*100\n",
        "print(\"SVM Accuracy:\", svm_score)"
      ],
      "metadata": {
        "colab": {
          "base_uri": "https://localhost:8080/"
        },
        "id": "PnilTljgzvi-",
        "outputId": "970d0f41-6579-441c-8c28-7be042994229"
      },
      "execution_count": null,
      "outputs": [
        {
          "output_type": "stream",
          "name": "stdout",
          "text": [
            "SVM Accuracy: 80.72888888888889\n"
          ]
        }
      ]
    },
    {
      "cell_type": "markdown",
      "source": [
        "KNN"
      ],
      "metadata": {
        "id": "HvKgNeTiz5BS"
      }
    },
    {
      "cell_type": "code",
      "source": [
        "from sklearn.neighbors import KNeighborsClassifier\n",
        "from sklearn.metrics import accuracy_score\n",
        "knn = KNeighborsClassifier()\n",
        "classifier = KNeighborsClassifier(n_neighbors = 81)\n",
        "classifier.fit(svd_X_train, svd_y_train)\n",
        "knn.fit(svd_X_train, svd_y_train)"
      ],
      "metadata": {
        "colab": {
          "base_uri": "https://localhost:8080/"
        },
        "id": "lE_K6m2Tz7BL",
        "outputId": "d3e8853b-e30f-4ff7-81bb-f2a215fcd64b"
      },
      "execution_count": null,
      "outputs": [
        {
          "output_type": "execute_result",
          "data": {
            "text/plain": [
              "KNeighborsClassifier()"
            ]
          },
          "metadata": {},
          "execution_count": 272
        }
      ]
    },
    {
      "cell_type": "code",
      "source": [
        "score = knn.score(svd_X_test, svd_y_test)\n",
        "print(\"KNN Algorithm Score:\", score*100)"
      ],
      "metadata": {
        "colab": {
          "base_uri": "https://localhost:8080/"
        },
        "id": "zNQ1c_t-z9-N",
        "outputId": "5e339e0d-9c7c-49c7-f887-f69403ab9c5d"
      },
      "execution_count": null,
      "outputs": [
        {
          "output_type": "stream",
          "name": "stdout",
          "text": [
            "KNN Algorithm Score: 79.39555555555555\n"
          ]
        }
      ]
    },
    {
      "cell_type": "markdown",
      "source": [
        "Decision Tree"
      ],
      "metadata": {
        "id": "RWd1EPNm0DJg"
      }
    },
    {
      "cell_type": "code",
      "source": [
        "dclf = DecisionTreeClassifier()\n",
        "dclf.fit(svd_X_train, svd_y_train)"
      ],
      "metadata": {
        "colab": {
          "base_uri": "https://localhost:8080/"
        },
        "id": "e2anJGP00Gxp",
        "outputId": "dc0d4612-07d5-4f7e-9753-c9f5cc0cfe9d"
      },
      "execution_count": null,
      "outputs": [
        {
          "output_type": "execute_result",
          "data": {
            "text/plain": [
              "DecisionTreeClassifier()"
            ]
          },
          "metadata": {},
          "execution_count": 274
        }
      ]
    },
    {
      "cell_type": "code",
      "source": [
        "j=dclf.score(svd_X_test, svd_y_test)\n",
        "print(\"Decision Tree Algorithm Score:\",j*100)"
      ],
      "metadata": {
        "colab": {
          "base_uri": "https://localhost:8080/"
        },
        "id": "OTjbRm2M0J5S",
        "outputId": "bfd40d65-5340-446d-eb0a-cb23af72e75c"
      },
      "execution_count": null,
      "outputs": [
        {
          "output_type": "stream",
          "name": "stdout",
          "text": [
            "Decision Tree Algorithm Score: 73.47555555555556\n"
          ]
        }
      ]
    },
    {
      "cell_type": "markdown",
      "source": [
        "Random forest"
      ],
      "metadata": {
        "id": "T6xIDAN30M8z"
      }
    },
    {
      "cell_type": "code",
      "source": [
        "def run_randomForest(svd_X_train, svd_y_train,svd_X_test, svd_y_test):\n",
        "    clf = RandomForestClassifier(n_estimators= 100, random_state =42, n_jobs = -1)\n",
        "    clf.fit(svd_X_train, svd_y_train)\n",
        "    y_pred = clf.predict(svd_X_test)\n",
        "    score = accuracy_score(svd_y_test,y_pred)*100\n",
        "    print(\"Random Forest Accuracy:\", score)"
      ],
      "metadata": {
        "id": "nWJGhIm40PIU"
      },
      "execution_count": null,
      "outputs": []
    },
    {
      "cell_type": "code",
      "source": [
        "run_randomForest(svd_X_train, svd_y_train,svd_X_test, svd_y_test)"
      ],
      "metadata": {
        "colab": {
          "base_uri": "https://localhost:8080/"
        },
        "id": "bExlFAGt0S2p",
        "outputId": "9fc4b505-3d6a-48de-8706-15395d8d1b68"
      },
      "execution_count": null,
      "outputs": [
        {
          "output_type": "stream",
          "name": "stdout",
          "text": [
            "Random Forest Accuracy: 80.19555555555556\n"
          ]
        }
      ]
    },
    {
      "cell_type": "markdown",
      "source": [
        "Logistic Regression"
      ],
      "metadata": {
        "id": "Yzoov8Pe0XhA"
      }
    },
    {
      "cell_type": "code",
      "source": [
        "from sklearn.linear_model import LogisticRegression\n",
        "model = LogisticRegression()\n",
        "model.fit(svd_X_train, svd_y_train)\n",
        "lr = model.score(svd_X_test, svd_y_test)*100\n",
        "print(\"Logistic Regression Accuracy:\", lr)"
      ],
      "metadata": {
        "colab": {
          "base_uri": "https://localhost:8080/"
        },
        "id": "WmvrPMur0Vtn",
        "outputId": "89c0f7b8-6460-4b97-9f68-3cffbb545cc5"
      },
      "execution_count": null,
      "outputs": [
        {
          "output_type": "stream",
          "name": "stdout",
          "text": [
            "Logistic Regression Accuracy: 79.92888888888889\n"
          ]
        }
      ]
    }
  ]
}